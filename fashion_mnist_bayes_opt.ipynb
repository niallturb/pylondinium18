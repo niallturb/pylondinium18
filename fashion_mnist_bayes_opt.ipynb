{
  "nbformat": 4,
  "nbformat_minor": 0,
  "metadata": {
    "colab": {
      "name": "fashion_mnist_bayes_opt.ipynb",
      "version": "0.3.2",
      "views": {},
      "default_view": {},
      "provenance": [],
      "collapsed_sections": []
    },
    "kernelspec": {
      "name": "python3",
      "display_name": "Python 3"
    },
    "accelerator": "GPU"
  },
  "cells": [
    {
      "metadata": {
        "id": "UflUmQ6J4mBe",
        "colab_type": "code",
        "colab": {
          "autoexec": {
            "startup": false,
            "wait_interval": 0
          },
          "base_uri": "https://localhost:8080/",
          "height": 34
        },
        "outputId": "f01ffb3f-0b49-4ea9-fcac-a2f393e5ba4e",
        "executionInfo": {
          "status": "ok",
          "timestamp": 1528402994155,
          "user_tz": -60,
          "elapsed": 8431,
          "user": {
            "displayName": "Niall Turbitt",
            "photoUrl": "//lh4.googleusercontent.com/-8T4clQIdx1Y/AAAAAAAAAAI/AAAAAAAAAKI/oERGPawEbK8/s50-c-k-no/photo.jpg",
            "userId": "113020036098296333682"
          }
        }
      },
      "cell_type": "code",
      "source": [
        "import numpy as np\n",
        "import pandas as pd\n",
        "import random\n",
        "from numpy.random import seed\n",
        "seed(125)\n",
        "from tensorflow import set_random_seed\n",
        "set_random_seed(125)\n",
        "import keras\n",
        "from keras.datasets import fashion_mnist\n",
        "from keras.utils import to_categorical\n",
        "from keras.models import Sequential\n",
        "from keras.layers import Activation, Dense, Dropout, Flatten\n",
        "from keras.layers import Conv2D, MaxPooling2D\n",
        "from keras.optimizers import Adam\n",
        "from keras.callbacks import EarlyStopping\n",
        "from keras.layers.normalization import BatchNormalization"
      ],
      "execution_count": 1,
      "outputs": [
        {
          "output_type": "stream",
          "text": [
            "Using TensorFlow backend.\n"
          ],
          "name": "stderr"
        }
      ]
    },
    {
      "metadata": {
        "id": "jQN51xqpuEFP",
        "colab_type": "text"
      },
      "cell_type": "markdown",
      "source": [
        "### Why set seed? - Reproducible results\n",
        "\n",
        "For the sake of reproducibility and to compare models we want the exact same result every time the same network is trained on the same data.\n",
        "\n",
        "The most robust way to report results and compare models is to repeat your experiment many times (30+) and use summary statistics.\n",
        "\n",
        "Neural networks use randomness by design to ensure they effectively learn the function being approximated for the problem.\n",
        "\n",
        "Randomness is used in initialization network weights. Although randomness can be used in other areas, such as:\n",
        "\n",
        "* Randomness in Regularization, such as dropout.\n",
        "* Randomness in Layers, such as word embedding.\n",
        "* Randomness in Optimization, such as stochastic optimization."
      ]
    },
    {
      "metadata": {
        "id": "Z4mrta0s6zbT",
        "colab_type": "code",
        "colab": {
          "autoexec": {
            "startup": false,
            "wait_interval": 0
          }
        }
      },
      "cell_type": "code",
      "source": [
        "# FASHION_MNIST class\n",
        "\n",
        "class FASHION_MNIST():\n",
        "  \n",
        "    def __init__(self,\n",
        "                 img_rows=28,            # Number of pixels rows in image\n",
        "                 img_cols=28,            # Number of pixels columns in image\n",
        "                 num_classes=10,         # Number of label classes\n",
        "                 l1_out=32,              # Number of convolution filters to use in first convolution\n",
        "                 l2_out=32,              # Number of convolution filters to use in second convolution\n",
        "                 l3_out=32,              # Number of convolution filters to use in third convolution\n",
        "                 l4_out=32,              # Dimensionality of the output space for first dense layer\n",
        "                 l1_drop=0.0,            # Dropout rate l1 - fraction of input units to drop in first convolution layer\n",
        "                 l2_drop=0.0,            # Dropout rate l2 - fraction of input units to drop in second convolution layer\n",
        "                 l3_drop=0.0,            # Dropout rate l3 - fraction of input units to drop in third convolution layer\n",
        "                 l4_drop=0.0,            # Dropout rate l4 - fraction of input units to drop in first dense layer\n",
        "                 batch_size=64,          # Number of samples per gradient update\n",
        "                 patience=5,             # Stop training when loss stops improving after 10 epochs\n",
        "                 epochs=50,              # An epoch is an iteration over the entire x and y data provided\n",
        "                 validation_split=0.2):  # Fraction of the training data to be used as validation data\n",
        "      \n",
        "        self.__img_rows = img_rows\n",
        "        self.__img_cols = img_cols\n",
        "        self.__num_classes = num_classes\n",
        "        self.l1_out = l1_out\n",
        "        self.l2_out = l2_out\n",
        "        self.l3_out = l3_out\n",
        "        self.l4_out = l4_out\n",
        "        self.l1_drop = l1_drop\n",
        "        self.l2_drop = l2_drop\n",
        "        self.l3_drop = l3_drop\n",
        "        self.l4_drop = l4_drop        \n",
        "        self.batch_size = batch_size\n",
        "        self.patience = patience\n",
        "        self.epochs = epochs\n",
        "        self.validation_split = validation_split\n",
        "        self.__X_train, self.__X_test, self.__y_train, self.__y_test = self.load_process_data()\n",
        "        self.__model = self.fashion_mnist_model()\n",
        "        \n",
        "\n",
        "    # load and process Fashion MNIST data (can load from Keras)  \n",
        "    def load_process_data(self):\n",
        "      \n",
        "        (X_train, y_train), (X_test, y_test) = fashion_mnist.load_data()\n",
        "\n",
        "        # Preprocess input data for Keras\n",
        "\n",
        "        # Each image is 28x28 pixels\n",
        "        # Specify input shape sutable for Keras to be used as input image dimensions\n",
        "        input_shape = (self.__img_rows, self.__img_cols, 1)\n",
        "\n",
        "        # When using the TensorFlow backend, you must explicitly declare a dimension for the depth of the input image. \n",
        "        # For example, a full-color image with all 3 RGB channels will have a depth of 3\n",
        "        # As the fashion mnist images are in black and white, only have a depth of 1\n",
        "\n",
        "        # Reshape input data\n",
        "        # Want to transform the dataset from having shape (n, width, height) to (n, width, height, depth)\n",
        "        X_train = X_train.reshape(X_train.shape[0], self.__img_rows, self.__img_rows, 1)\n",
        "        X_test = X_test.reshape(X_test.shape[0], self.__img_rows, self.__img_cols, 1)\n",
        "\n",
        "        # Convert input data to float32\n",
        "        X_train = X_train.astype('float32')\n",
        "        X_test = X_test.astype('float32')\n",
        "\n",
        "        # Normalize data values to the range [0,1]\n",
        "        # note: Pixel values are 0 to 255. 0 means background (white), 255 means foreground (black)\n",
        "        X_train /= 255\n",
        "        X_test /= 255\n",
        "\n",
        "        # For the output, we change number to one-hot vector. \n",
        "        y_train = to_categorical(y_train, 10)\n",
        "        y_test = to_categorical(y_test, 10)\n",
        "\n",
        "        return X_train, X_test, y_train, y_test\n",
        "\n",
        "      \n",
        "    # specify Fashion MNIST model architecture\n",
        "    def fashion_mnist_model(self):\n",
        "      \n",
        "        model = Sequential()        \n",
        "        \n",
        "        # First convolution layer\n",
        "        model.add(Conv2D(filters=self.l1_out, \n",
        "                         kernel_size=(3, 3),\n",
        "                         kernel_initializer='he_normal',\n",
        "                         input_shape=(self.__img_rows, self.__img_cols, 1)))\n",
        "        model.add(Activation('relu'))\n",
        "        model.add(MaxPooling2D(pool_size=(2, 2)))\n",
        "        model.add(Dropout(self.l1_drop))\n",
        "\n",
        "        # Second convolution layer\n",
        "        model.add(Conv2D(filters=self.l2_out, \n",
        "                         kernel_size=(3, 3)))\n",
        "        model.add(Activation('relu'))\n",
        "        model.add(MaxPooling2D(pool_size=(2, 2)))\n",
        "        model.add(Dropout(self.l2_drop))\n",
        "        \n",
        "        # Third convolution layer\n",
        "        model.add(Conv2D(filters=self.l3_out, \n",
        "                         kernel_size=(3, 3)))\n",
        "        model.add(Activation('relu'))\n",
        "        model.add(Dropout(self.l3_drop))\n",
        "\n",
        "        # First dense layer\n",
        "        model.add(Flatten())\n",
        "        model.add(Dense(units=self.l4_out))\n",
        "        model.add(Activation('relu'))\n",
        "        model.add(Dropout(self.l4_drop))\n",
        "        \n",
        "        # Second dense layer\n",
        "        model.add(Dense(self.__num_classes))\n",
        "        model.add(Activation('softmax'))\n",
        "        \n",
        "        model.compile(loss='categorical_crossentropy',\n",
        "                      optimizer=Adam(),\n",
        "                      metrics=['accuracy'])\n",
        "        \n",
        "        return model\n",
        "\n",
        "    \n",
        "    # fit mnist model\n",
        "    def fit(self):\n",
        "      \n",
        "        \"\"\"\n",
        "        Returns:\n",
        "        A History object. Its History.history attribute is a record of training loss values \n",
        "        and metrics values at successive epochs, as well as validation loss values \n",
        "        and validation metrics values (if applicable).\n",
        "        \"\"\"\n",
        "      \n",
        "        early_stopping = EarlyStopping(patience=self.patience, verbose=1)\n",
        "        \n",
        "        history = self.__model.fit(self.__X_train, self.__y_train,\n",
        "                                     batch_size=self.batch_size,\n",
        "                                     epochs=self.epochs,\n",
        "                                     verbose=1,\n",
        "                                     validation_split=self.validation_split,\n",
        "                                     callbacks=[early_stopping])\n",
        "        \n",
        "        return history\n",
        "    \n",
        "    \n",
        "    # evaluate mnist model\n",
        "    def evaluate(self):\n",
        "      \n",
        "        history = self.fit()\n",
        "        \n",
        "        evaluation = self.__model.evaluate(self.__X_test,\n",
        "                                           self.__y_test,\n",
        "                                           batch_size=self.batch_size,\n",
        "                                           verbose=0)\n",
        "        \n",
        "        return evaluation, history\n",
        "      \n",
        "      "
      ],
      "execution_count": 0,
      "outputs": []
    },
    {
      "metadata": {
        "id": "e3Nl8pdnAtXy",
        "colab_type": "text"
      },
      "cell_type": "markdown",
      "source": [
        "### Run Basic model"
      ]
    },
    {
      "metadata": {
        "id": "Dsg6fD6N7r3p",
        "colab_type": "code",
        "colab": {
          "autoexec": {
            "startup": false,
            "wait_interval": 0
          }
        }
      },
      "cell_type": "code",
      "source": [
        " # Function to run FASHION_MNIST class\n",
        "\n",
        "def run_fashion_mnist(img_rows=28, \n",
        "                      img_cols=28,\n",
        "                      num_classes=10,\n",
        "                      l1_out=32,\n",
        "                      l2_out=32,\n",
        "                      l3_out=32,\n",
        "                      l4_out=32,\n",
        "                      l1_drop=0.0,\n",
        "                      l2_drop=0.0,\n",
        "                      l3_drop=0.0,\n",
        "                      l4_drop=0.0,\n",
        "                      batch_size=64,\n",
        "                      patience=5,\n",
        "                      epochs=50, \n",
        "                      validation_split=0.2):\n",
        "    \n",
        "    fashion_mnist = FASHION_MNIST(img_rows= img_rows,\n",
        "                                  img_cols = img_cols,\n",
        "                                  num_classes = num_classes,\n",
        "                                  l1_out=l1_out,\n",
        "                                  l2_out=l2_out,\n",
        "                                  l3_out=l3_out,\n",
        "                                  l4_out=l4_out,\n",
        "                                  l1_drop=l1_drop,\n",
        "                                  l2_drop=l2_drop,\n",
        "                                  l3_drop=l3_drop,\n",
        "                                  l4_drop=l4_drop,\n",
        "                                  batch_size=batch_size,\n",
        "                                  patience=patience,\n",
        "                                  epochs=epochs,\n",
        "                                  validation_split=validation_split)\n",
        "    \n",
        "    evaluation, history = fashion_mnist.evaluate()\n",
        "    \n",
        "    return evaluation, history  "
      ],
      "execution_count": 0,
      "outputs": []
    },
    {
      "metadata": {
        "id": "oZU-g7P88Wkw",
        "colab_type": "code",
        "colab": {
          "autoexec": {
            "startup": false,
            "wait_interval": 0
          },
          "base_uri": "https://localhost:8080/",
          "height": 717
        },
        "outputId": "2a18cb4c-e6ba-4b29-ae64-79f243b92283",
        "executionInfo": {
          "status": "ok",
          "timestamp": 1528404414182,
          "user_tz": -60,
          "elapsed": 162209,
          "user": {
            "displayName": "Niall Turbitt",
            "photoUrl": "//lh4.googleusercontent.com/-8T4clQIdx1Y/AAAAAAAAAAI/AAAAAAAAAKI/oERGPawEbK8/s50-c-k-no/photo.jpg",
            "userId": "113020036098296333682"
          }
        }
      },
      "cell_type": "code",
      "source": [
        "evaluation, history = run_fashion_mnist()\n",
        "\n",
        "# Wall time: 2min 36s"
      ],
      "execution_count": 12,
      "outputs": [
        {
          "output_type": "stream",
          "text": [
            "Train on 48000 samples, validate on 12000 samples\n",
            "Epoch 1/50\n",
            "48000/48000 [==============================] - 9s 183us/step - loss: 0.6000 - acc: 0.7791 - val_loss: 0.4489 - val_acc: 0.8345\n",
            "Epoch 2/50\n",
            "48000/48000 [==============================] - 8s 175us/step - loss: 0.3854 - acc: 0.8612 - val_loss: 0.3554 - val_acc: 0.8748\n",
            "Epoch 3/50\n",
            "28544/48000 [================>.............] - ETA: 3s - loss: 0.3352 - acc: 0.8786"
          ],
          "name": "stdout"
        },
        {
          "output_type": "stream",
          "text": [
            "48000/48000 [==============================] - 8s 176us/step - loss: 0.3301 - acc: 0.8809 - val_loss: 0.3350 - val_acc: 0.8768\n",
            "Epoch 4/50\n",
            "48000/48000 [==============================] - 8s 175us/step - loss: 0.3011 - acc: 0.8910 - val_loss: 0.3221 - val_acc: 0.8834\n",
            "Epoch 5/50\n",
            "48000/48000 [==============================] - 8s 175us/step - loss: 0.2791 - acc: 0.8988 - val_loss: 0.3039 - val_acc: 0.8920\n",
            "Epoch 6/50\n",
            " 5952/48000 [==>...........................] - ETA: 6s - loss: 0.2524 - acc: 0.9074"
          ],
          "name": "stdout"
        },
        {
          "output_type": "stream",
          "text": [
            "48000/48000 [==============================] - 8s 175us/step - loss: 0.2599 - acc: 0.9053 - val_loss: 0.3110 - val_acc: 0.8915\n",
            "Epoch 7/50\n",
            "48000/48000 [==============================] - 8s 176us/step - loss: 0.2443 - acc: 0.9115 - val_loss: 0.2806 - val_acc: 0.8994\n",
            "Epoch 8/50\n",
            "48000/48000 [==============================] - 8s 175us/step - loss: 0.2301 - acc: 0.9162 - val_loss: 0.2819 - val_acc: 0.8991\n",
            "Epoch 9/50\n",
            " 2368/48000 [>.............................] - ETA: 7s - loss: 0.2176 - acc: 0.9181"
          ],
          "name": "stdout"
        },
        {
          "output_type": "stream",
          "text": [
            "48000/48000 [==============================] - 8s 173us/step - loss: 0.2193 - acc: 0.9196 - val_loss: 0.2807 - val_acc: 0.9001\n",
            "Epoch 10/50\n",
            "48000/48000 [==============================] - 8s 174us/step - loss: 0.2078 - acc: 0.9244 - val_loss: 0.2764 - val_acc: 0.9042\n",
            "Epoch 11/50\n",
            "48000/48000 [==============================] - 8s 175us/step - loss: 0.1993 - acc: 0.9270 - val_loss: 0.2820 - val_acc: 0.8998\n",
            "Epoch 12/50\n",
            " 2112/48000 [>.............................] - ETA: 7s - loss: 0.1896 - acc: 0.9280"
          ],
          "name": "stdout"
        },
        {
          "output_type": "stream",
          "text": [
            "48000/48000 [==============================] - 8s 175us/step - loss: 0.1901 - acc: 0.9296 - val_loss: 0.2769 - val_acc: 0.9022\n",
            "Epoch 13/50\n",
            "48000/48000 [==============================] - 8s 174us/step - loss: 0.1796 - acc: 0.9344 - val_loss: 0.2970 - val_acc: 0.9017\n",
            "Epoch 14/50\n",
            "48000/48000 [==============================] - 8s 175us/step - loss: 0.1722 - acc: 0.9367 - val_loss: 0.2737 - val_acc: 0.9072\n",
            "Epoch 15/50\n",
            " 1728/48000 [>.............................] - ETA: 7s - loss: 0.1772 - acc: 0.9323"
          ],
          "name": "stdout"
        },
        {
          "output_type": "stream",
          "text": [
            "48000/48000 [==============================] - 8s 174us/step - loss: 0.1659 - acc: 0.9385 - val_loss: 0.2823 - val_acc: 0.9070\n",
            "Epoch 16/50\n",
            "48000/48000 [==============================] - 8s 174us/step - loss: 0.1549 - acc: 0.9420 - val_loss: 0.3017 - val_acc: 0.9036\n",
            "Epoch 17/50\n",
            "48000/48000 [==============================] - 8s 174us/step - loss: 0.1503 - acc: 0.9451 - val_loss: 0.3128 - val_acc: 0.8982\n",
            "Epoch 18/50\n",
            " 1664/48000 [>.............................] - ETA: 7s - loss: 0.1279 - acc: 0.9591"
          ],
          "name": "stdout"
        },
        {
          "output_type": "stream",
          "text": [
            "48000/48000 [==============================] - 8s 176us/step - loss: 0.1434 - acc: 0.9472 - val_loss: 0.3038 - val_acc: 0.9044\n",
            "Epoch 19/50\n",
            "48000/48000 [==============================] - 8s 176us/step - loss: 0.1381 - acc: 0.9485 - val_loss: 0.3297 - val_acc: 0.8997\n",
            "Epoch 00019: early stopping\n"
          ],
          "name": "stdout"
        }
      ]
    },
    {
      "metadata": {
        "id": "N5M7Q58J8bwv",
        "colab_type": "code",
        "colab": {
          "autoexec": {
            "startup": false,
            "wait_interval": 0
          },
          "base_uri": "https://localhost:8080/",
          "height": 51
        },
        "outputId": "2724e5ac-28c5-4f36-f946-96e1ce15ae68",
        "executionInfo": {
          "status": "ok",
          "timestamp": 1528404418502,
          "user_tz": -60,
          "elapsed": 633,
          "user": {
            "displayName": "Niall Turbitt",
            "photoUrl": "//lh4.googleusercontent.com/-8T4clQIdx1Y/AAAAAAAAAAI/AAAAAAAAAKI/oERGPawEbK8/s50-c-k-no/photo.jpg",
            "userId": "113020036098296333682"
          }
        }
      },
      "cell_type": "code",
      "source": [
        "print('TEST LOSS:', evaluation[0])\n",
        "print('TEST ACCURACY:', evaluation[1])\n",
        "\n",
        "# TEST LOSS: 0.3528409385681152\n",
        "# TEST ACCURACY: 0.8973"
      ],
      "execution_count": 13,
      "outputs": [
        {
          "output_type": "stream",
          "text": [
            "TEST LOSS: 0.3528409385681152\n",
            "TEST ACCURACY: 0.8973\n"
          ],
          "name": "stdout"
        }
      ]
    },
    {
      "metadata": {
        "id": "XM3vcZUt8ieh",
        "colab_type": "code",
        "colab": {
          "autoexec": {
            "startup": false,
            "wait_interval": 0
          },
          "base_uri": "https://localhost:8080/",
          "height": 979
        },
        "outputId": "27508dd9-e75f-4260-ccfb-865d6f8e2f9b",
        "executionInfo": {
          "status": "ok",
          "timestamp": 1528404428955,
          "user_tz": -60,
          "elapsed": 979,
          "user": {
            "displayName": "Niall Turbitt",
            "photoUrl": "//lh4.googleusercontent.com/-8T4clQIdx1Y/AAAAAAAAAAI/AAAAAAAAAKI/oERGPawEbK8/s50-c-k-no/photo.jpg",
            "userId": "113020036098296333682"
          }
        }
      },
      "cell_type": "code",
      "source": [
        "import matplotlib.pyplot as plt\n",
        "%matplotlib inline\n",
        "\n",
        "accuracy = history.history['acc']\n",
        "val_accuracy = history.history['val_acc']\n",
        "loss = history.history['loss']\n",
        "val_loss = history.history['val_loss']\n",
        "epochs = range(len(accuracy))\n",
        "\n",
        "plt.figure(figsize=(12, 8))\n",
        "plt.plot(epochs, accuracy, 'bo', label='Training accuracy')\n",
        "plt.plot(epochs, val_accuracy, 'b', label='Validation accuracy')\n",
        "plt.title('Training and validation accuracy')\n",
        "plt.legend()\n",
        "\n",
        "plt.figure(figsize=(12, 8))\n",
        "plt.plot(epochs, loss, 'bo', label='Training loss')\n",
        "plt.plot(epochs, val_loss, 'b', label='Validation loss')\n",
        "plt.title('Training and validation loss')\n",
        "plt.legend()\n",
        "\n",
        "plt.show()"
      ],
      "execution_count": 14,
      "outputs": [
        {
          "output_type": "display_data",
          "data": {
            "image/png": "[encoded data removed]",
            "text/plain": [
              "<matplotlib.figure.Figure at 0x7f9537edf7b8>"
            ]
          },
          "metadata": {
            "tags": []
          }
        },
        {
          "output_type": "display_data",
          "data": {
            "image/png": "[encoded data removed]",
            "text/plain": [
              "<matplotlib.figure.Figure at 0x7f9537f103c8>"
            ]
          },
          "metadata": {
            "tags": []
          }
        }
      ]
    },
    {
      "metadata": {
        "id": "Ip9OhOP32AqQ",
        "colab_type": "text"
      },
      "cell_type": "markdown",
      "source": [
        "## Bayesian Optimization"
      ]
    },
    {
      "metadata": {
        "id": "6qqJEgEy_7gv",
        "colab_type": "text"
      },
      "cell_type": "markdown",
      "source": [
        "Install and import GPyOpt\n",
        "\n",
        "http://sheffieldml.github.io/GPyOpt/"
      ]
    },
    {
      "metadata": {
        "id": "RQOFeynaAAgF",
        "colab_type": "code",
        "colab": {
          "autoexec": {
            "startup": false,
            "wait_interval": 0
          },
          "base_uri": "https://localhost:8080/",
          "height": 578
        },
        "outputId": "3cc4a21d-fab6-46d6-d4dc-4664456082b0",
        "executionInfo": {
          "status": "ok",
          "timestamp": 1528404774141,
          "user_tz": -60,
          "elapsed": 36214,
          "user": {
            "displayName": "Niall Turbitt",
            "photoUrl": "//lh4.googleusercontent.com/-8T4clQIdx1Y/AAAAAAAAAAI/AAAAAAAAAKI/oERGPawEbK8/s50-c-k-no/photo.jpg",
            "userId": "113020036098296333682"
          }
        }
      },
      "cell_type": "code",
      "source": [
        "! pip install GPy\n",
        "! pip install gpyopt"
      ],
      "execution_count": 17,
      "outputs": [
        {
          "output_type": "stream",
          "text": [
            "Collecting GPy\n",
            "\u001b[?25l  Downloading https://files.pythonhosted.org/packages/0f/0a/856e3d2990739ae4a4dc526a1987dbf31ae3310d051322df815147e76453/GPy-1.9.2.tar.gz (859kB)\n",
            "\u001b[K    100% |████████████████████████████████| 860kB 9.3MB/s \n",
            "\u001b[?25hRequirement already satisfied: numpy>=1.7 in /usr/local/lib/python3.6/dist-packages (from GPy) (1.14.3)\n",
            "Requirement already satisfied: scipy>=0.16 in /usr/local/lib/python3.6/dist-packages (from GPy) (0.19.1)\n",
            "Requirement already satisfied: six in /usr/local/lib/python3.6/dist-packages (from GPy) (1.11.0)\n",
            "Collecting paramz>=0.9.0 (from GPy)\n",
            "\u001b[?25l  Downloading https://files.pythonhosted.org/packages/a9/13/097b3223aff557d000b418d6ba3bdc0ca6c3ed672aefbb0e62420ca8d5ac/paramz-0.9.1.tar.gz (71kB)\n",
            "\u001b[K    100% |████████████████████████████████| 71kB 9.2MB/s \n",
            "\u001b[?25hRequirement already satisfied: decorator>=4.0.10 in /usr/local/lib/python3.6/dist-packages (from paramz>=0.9.0->GPy) (4.3.0)\n",
            "Building wheels for collected packages: GPy, paramz\n",
            "  Running setup.py bdist_wheel for GPy ... \u001b[?25l-\b \b\\\b \b|\b \b/\b \b-\b \b\\\b \b|\b \b/\b \b-\b \b\\\b \b|\b \b/\b \b-\b \b\\\b \b|\b \b/\b \b-\b \b\\\b \b|\b \b/\b \bdone\n",
            "\u001b[?25h  Stored in directory: /content/.cache/pip/wheels/36/b9/13/498e283b6081c81aded82d1c174f8c251096027be686e79005\n",
            "  Running setup.py bdist_wheel for paramz ... \u001b[?25l-\b \b\\\b \bdone\n",
            "\u001b[?25h  Stored in directory: /content/.cache/pip/wheels/17/72/fe/035ce71322865ed7de8a98cac33e65f464dcc2bcbcf93cf642\n",
            "Successfully built GPy paramz\n",
            "Installing collected packages: paramz, GPy\n",
            "Successfully installed GPy-1.9.2 paramz-0.9.1\n",
            "Collecting gpyopt\n",
            "\u001b[?25l  Downloading https://files.pythonhosted.org/packages/9c/40/ca8f080d74d9f4e29069faa944fcfb083e8693b6daaba0f1e4bc65c88650/GPyOpt-1.2.5.tar.gz (55kB)\n",
            "\u001b[K    100% |████████████████████████████████| 61kB 4.2MB/s \n",
            "\u001b[?25hRequirement already satisfied: numpy>=1.7 in /usr/local/lib/python3.6/dist-packages (from gpyopt) (1.14.3)\n",
            "Requirement already satisfied: scipy>=0.16 in /usr/local/lib/python3.6/dist-packages (from gpyopt) (0.19.1)\n",
            "Requirement already satisfied: GPy>=1.8 in /usr/local/lib/python3.6/dist-packages (from gpyopt) (1.9.2)\n",
            "Requirement already satisfied: six in /usr/local/lib/python3.6/dist-packages (from GPy>=1.8->gpyopt) (1.11.0)\n",
            "Requirement already satisfied: paramz>=0.9.0 in /usr/local/lib/python3.6/dist-packages (from GPy>=1.8->gpyopt) (0.9.1)\n",
            "Requirement already satisfied: decorator>=4.0.10 in /usr/local/lib/python3.6/dist-packages (from paramz>=0.9.0->GPy>=1.8->gpyopt) (4.3.0)\n",
            "Building wheels for collected packages: gpyopt\n",
            "  Running setup.py bdist_wheel for gpyopt ... \u001b[?25l-\b \b\\\b \bdone\n",
            "\u001b[?25h  Stored in directory: /content/.cache/pip/wheels/33/1d/87/dc02440831ba986b1547dd11a7dcd44e893b0527083066d869\n",
            "Successfully built gpyopt\n",
            "Installing collected packages: gpyopt\n",
            "Successfully installed gpyopt-1.2.5\n"
          ],
          "name": "stdout"
        }
      ]
    },
    {
      "metadata": {
        "id": "QmSr5Jc4ATOr",
        "colab_type": "code",
        "colab": {
          "autoexec": {
            "startup": false,
            "wait_interval": 0
          }
        }
      },
      "cell_type": "code",
      "source": [
        "import GPy, GPyOpt"
      ],
      "execution_count": 0,
      "outputs": []
    },
    {
      "metadata": {
        "id": "ZpGPCYjt0lTv",
        "colab_type": "code",
        "colab": {
          "autoexec": {
            "startup": false,
            "wait_interval": 0
          }
        }
      },
      "cell_type": "code",
      "source": [
        "# Specify bounds for hyperparameters\n",
        "\n",
        "# bounds dict should be in order of continuous type and then discrete type\n",
        "\n",
        "bounds = [{'name': 'validation_split', 'type': 'continuous',  'domain': (0.0, 0.3)},\n",
        "          {'name': 'l1_drop',          'type': 'continuous',  'domain': (0.0, 0.5)},\n",
        "          {'name': 'l2_drop',          'type': 'continuous',  'domain': (0.0, 0.5)},\n",
        "          {'name': 'l3_drop',          'type': 'continuous',  'domain': (0.0, 0.5)},\n",
        "          {'name': 'l4_drop',          'type': 'continuous',  'domain': (0.0, 0.5)},\n",
        "          {'name': 'l1_out',           'type': 'discrete',    'domain': (16, 32, 64, 128, 256, 512)},\n",
        "          {'name': 'l2_out',           'type': 'discrete',    'domain': (32, 64, 128, 256, 512, 1024)},\n",
        "          {'name': 'l3_out',           'type': 'discrete',    'domain': (32, 64, 128, 256, 512, 1024)},\n",
        "          {'name': 'l4_out',           'type': 'discrete',    'domain': (32, 64, 128, 256, 512, 1024)},\n",
        "          {'name': 'batch_size',       'type': 'discrete',    'domain': (64, 128, 256, 512)},\n",
        "          {'name': 'patience',         'type': 'discrete',    'domain': (4, 5, 6, 7, 8)}]"
      ],
      "execution_count": 0,
      "outputs": []
    },
    {
      "metadata": {
        "id": "eee0rq5WC5d3",
        "colab_type": "code",
        "colab": {
          "autoexec": {
            "startup": false,
            "wait_interval": 0
          }
        }
      },
      "cell_type": "code",
      "source": [
        "# function to optimize fashion mnist model\n",
        "\n",
        "def f(x):\n",
        "  \n",
        "    print(x)\n",
        "    \n",
        "    evaluation = run_fashion_mnist(\n",
        "        img_rows=28, \n",
        "        img_cols=28,\n",
        "        num_classes=10,\n",
        "        l1_out = int(x[:,5]),\n",
        "        l2_out = int(x[:,6]),\n",
        "        l3_out = int(x[:,7]),\n",
        "        l4_out = int(x[:,8]),\n",
        "        l1_drop = float(x[:,1]),\n",
        "        l2_drop = float(x[:,2]),\n",
        "        l3_drop = float(x[:,3]),\n",
        "        l4_drop = float(x[:,4]),\n",
        "        batch_size = int(x[:,9]),\n",
        "        patience = int(x[:,10]),\n",
        "        epochs=50,\n",
        "        validation_split = float(x[:,0]))\n",
        "    \n",
        "    print(\"TEST LOSS: {} \\t TEST ACCURACY: {}\".format(evaluation[0][0], evaluation[0][1]))\n",
        "    print(evaluation[0], \"\\n\")\n",
        "        \n",
        "    return evaluation[0][0]"
      ],
      "execution_count": 0,
      "outputs": []
    },
    {
      "metadata": {
        "id": "2Ptxy4uP_1nD",
        "colab_type": "text"
      },
      "cell_type": "markdown",
      "source": [
        "### Optimizer instance"
      ]
    },
    {
      "metadata": {
        "id": "ByPtu5hF_0VO",
        "colab_type": "code",
        "colab": {
          "autoexec": {
            "startup": false,
            "wait_interval": 0
          },
          "base_uri": "https://localhost:8080/",
          "height": 6004
        },
        "outputId": "b4977632-9de4-47ee-f93e-921cc67b316e",
        "executionInfo": {
          "status": "ok",
          "timestamp": 1528406426497,
          "user_tz": -60,
          "elapsed": 1593309,
          "user": {
            "displayName": "Niall Turbitt",
            "photoUrl": "//lh4.googleusercontent.com/-8T4clQIdx1Y/AAAAAAAAAAI/AAAAAAAAAKI/oERGPawEbK8/s50-c-k-no/photo.jpg",
            "userId": "113020036098296333682"
          }
        }
      },
      "cell_type": "code",
      "source": [
        "# optimizer\n",
        "\n",
        "\n",
        "# Initialize the Bayesian Optimization method with 5 instances.\n",
        "\n",
        "# f: function to optimize\n",
        "### should take 2-dimensional numpy arrays as input and return 2-dimensional outputs \n",
        "# domain: \n",
        "### list of dictionaries containing the description of the inputs variables \n",
        "\n",
        "optimize_fashion_mnist = GPyOpt.methods.BayesianOptimization(f=f, domain=bounds, acquisition_type='EI', exact_feval = True) # Selects the Expected improvement\n",
        "\n",
        "# Wall time: 1h 55min 34s"
      ],
      "execution_count": 21,
      "outputs": [
        {
          "output_type": "stream",
          "text": [
            "[[8.78036607e-02 9.53412966e-02 4.85372173e-01 1.26727354e-01\n",
            "  7.27212560e-02 1.28000000e+02 3.20000000e+01 1.28000000e+02\n",
            "  1.28000000e+02 5.12000000e+02 5.00000000e+00]]\n",
            "Train on 54731 samples, validate on 5269 samples\n",
            "Epoch 1/50\n",
            "54731/54731 [==============================] - 8s 146us/step - loss: 0.8946 - acc: 0.6691 - val_loss: 0.4746 - val_acc: 0.8279\n",
            "Epoch 2/50\n",
            "54731/54731 [==============================] - 7s 128us/step - loss: 0.5172 - acc: 0.8072 - val_loss: 0.4199 - val_acc: 0.8449\n",
            "Epoch 3/50\n",
            "14336/54731 [======>.......................] - ETA: 4s - loss: 0.4673 - acc: 0.8260"
          ],
          "name": "stdout"
        },
        {
          "output_type": "stream",
          "text": [
            "54731/54731 [==============================] - 7s 127us/step - loss: 0.4522 - acc: 0.8317 - val_loss: 0.3597 - val_acc: 0.8711\n",
            "Epoch 4/50\n",
            "54731/54731 [==============================] - 7s 128us/step - loss: 0.4104 - acc: 0.8496 - val_loss: 0.3436 - val_acc: 0.8763\n",
            "Epoch 5/50\n",
            "54731/54731 [==============================] - 7s 127us/step - loss: 0.3823 - acc: 0.8596 - val_loss: 0.3122 - val_acc: 0.8842\n",
            "Epoch 6/50\n",
            "31232/54731 [================>.............] - ETA: 2s - loss: 0.3702 - acc: 0.8619"
          ],
          "name": "stdout"
        },
        {
          "output_type": "stream",
          "text": [
            "54731/54731 [==============================] - 7s 128us/step - loss: 0.3684 - acc: 0.8627 - val_loss: 0.3167 - val_acc: 0.8838\n",
            "Epoch 7/50\n",
            "54731/54731 [==============================] - 7s 127us/step - loss: 0.3501 - acc: 0.8704 - val_loss: 0.3098 - val_acc: 0.8823\n",
            "Epoch 8/50\n",
            "54731/54731 [==============================] - 7s 128us/step - loss: 0.3329 - acc: 0.8768 - val_loss: 0.2877 - val_acc: 0.8939\n",
            "Epoch 9/50\n",
            "33280/54731 [=================>............] - ETA: 2s - loss: 0.3227 - acc: 0.8797"
          ],
          "name": "stdout"
        },
        {
          "output_type": "stream",
          "text": [
            "54731/54731 [==============================] - 7s 128us/step - loss: 0.3234 - acc: 0.8794 - val_loss: 0.2721 - val_acc: 0.8973\n",
            "Epoch 10/50\n",
            "54731/54731 [==============================] - 7s 128us/step - loss: 0.3128 - acc: 0.8827 - val_loss: 0.2639 - val_acc: 0.9000\n",
            "Epoch 11/50\n",
            "54731/54731 [==============================] - 7s 129us/step - loss: 0.3049 - acc: 0.8867 - val_loss: 0.2539 - val_acc: 0.9080\n",
            "Epoch 12/50\n",
            "33792/54731 [=================>............] - ETA: 2s - loss: 0.2953 - acc: 0.8891"
          ],
          "name": "stdout"
        },
        {
          "output_type": "stream",
          "text": [
            "54731/54731 [==============================] - 7s 129us/step - loss: 0.2943 - acc: 0.8901 - val_loss: 0.2522 - val_acc: 0.9064\n",
            "Epoch 13/50\n",
            "54731/54731 [==============================] - 7s 128us/step - loss: 0.2909 - acc: 0.8916 - val_loss: 0.2790 - val_acc: 0.8930\n",
            "Epoch 14/50\n",
            "54731/54731 [==============================] - 7s 128us/step - loss: 0.2805 - acc: 0.8956 - val_loss: 0.2405 - val_acc: 0.9100\n",
            "Epoch 15/50\n",
            "34304/54731 [=================>............] - ETA: 2s - loss: 0.2774 - acc: 0.8950"
          ],
          "name": "stdout"
        },
        {
          "output_type": "stream",
          "text": [
            "54731/54731 [==============================] - 7s 128us/step - loss: 0.2783 - acc: 0.8947 - val_loss: 0.2472 - val_acc: 0.9059\n",
            "Epoch 16/50\n",
            "54731/54731 [==============================] - 7s 129us/step - loss: 0.2741 - acc: 0.8974 - val_loss: 0.2369 - val_acc: 0.9119\n",
            "Epoch 17/50\n",
            "54731/54731 [==============================] - 7s 129us/step - loss: 0.2667 - acc: 0.8992 - val_loss: 0.2361 - val_acc: 0.9110\n",
            "Epoch 18/50\n",
            "32768/54731 [================>.............] - ETA: 2s - loss: 0.2587 - acc: 0.9031"
          ],
          "name": "stdout"
        },
        {
          "output_type": "stream",
          "text": [
            "54731/54731 [==============================] - 7s 128us/step - loss: 0.2602 - acc: 0.9024 - val_loss: 0.2272 - val_acc: 0.9148\n",
            "Epoch 19/50\n",
            "54731/54731 [==============================] - 7s 129us/step - loss: 0.2592 - acc: 0.9038 - val_loss: 0.2266 - val_acc: 0.9159\n",
            "Epoch 20/50\n",
            "54731/54731 [==============================] - 7s 127us/step - loss: 0.2549 - acc: 0.9039 - val_loss: 0.2209 - val_acc: 0.9154\n",
            "Epoch 21/50\n",
            "34304/54731 [=================>............] - ETA: 2s - loss: 0.2501 - acc: 0.9053"
          ],
          "name": "stdout"
        },
        {
          "output_type": "stream",
          "text": [
            "54731/54731 [==============================] - 7s 126us/step - loss: 0.2481 - acc: 0.9067 - val_loss: 0.2231 - val_acc: 0.9163\n",
            "Epoch 22/50\n",
            "54731/54731 [==============================] - 7s 127us/step - loss: 0.2467 - acc: 0.9072 - val_loss: 0.2193 - val_acc: 0.9174\n",
            "Epoch 23/50\n",
            "54731/54731 [==============================] - 7s 125us/step - loss: 0.2462 - acc: 0.9073 - val_loss: 0.2212 - val_acc: 0.9171\n",
            "Epoch 24/50\n",
            "34816/54731 [==================>...........] - ETA: 2s - loss: 0.2391 - acc: 0.9099"
          ],
          "name": "stdout"
        },
        {
          "output_type": "stream",
          "text": [
            "54731/54731 [==============================] - 7s 126us/step - loss: 0.2408 - acc: 0.9093 - val_loss: 0.2138 - val_acc: 0.9226\n",
            "Epoch 25/50\n",
            "54731/54731 [==============================] - 7s 126us/step - loss: 0.2400 - acc: 0.9093 - val_loss: 0.2204 - val_acc: 0.9195\n",
            "Epoch 26/50\n",
            "54731/54731 [==============================] - 7s 126us/step - loss: 0.2378 - acc: 0.9108 - val_loss: 0.2166 - val_acc: 0.9209\n",
            "Epoch 27/50\n",
            "34304/54731 [=================>............] - ETA: 2s - loss: 0.2258 - acc: 0.9152"
          ],
          "name": "stdout"
        },
        {
          "output_type": "stream",
          "text": [
            "54731/54731 [==============================] - 7s 128us/step - loss: 0.2331 - acc: 0.9124 - val_loss: 0.2122 - val_acc: 0.9224\n",
            "Epoch 28/50\n",
            "54731/54731 [==============================] - 7s 127us/step - loss: 0.2302 - acc: 0.9132 - val_loss: 0.2125 - val_acc: 0.9224\n",
            "Epoch 29/50\n",
            "54731/54731 [==============================] - 7s 127us/step - loss: 0.2299 - acc: 0.9125 - val_loss: 0.2139 - val_acc: 0.9247\n",
            "Epoch 30/50\n",
            "34816/54731 [==================>...........] - ETA: 2s - loss: 0.2267 - acc: 0.9146"
          ],
          "name": "stdout"
        },
        {
          "output_type": "stream",
          "text": [
            "54731/54731 [==============================] - 7s 125us/step - loss: 0.2260 - acc: 0.9153 - val_loss: 0.2115 - val_acc: 0.9224\n",
            "Epoch 31/50\n",
            "54731/54731 [==============================] - 7s 126us/step - loss: 0.2280 - acc: 0.9143 - val_loss: 0.2013 - val_acc: 0.9266\n",
            "Epoch 32/50\n",
            "54731/54731 [==============================] - 7s 125us/step - loss: 0.2220 - acc: 0.9174 - val_loss: 0.2074 - val_acc: 0.9231\n",
            "Epoch 33/50\n",
            "34816/54731 [==================>...........] - ETA: 2s - loss: 0.2170 - acc: 0.9179"
          ],
          "name": "stdout"
        },
        {
          "output_type": "stream",
          "text": [
            "54731/54731 [==============================] - 7s 125us/step - loss: 0.2184 - acc: 0.9168 - val_loss: 0.2072 - val_acc: 0.9222\n",
            "Epoch 34/50\n",
            "54731/54731 [==============================] - 7s 126us/step - loss: 0.2184 - acc: 0.9179 - val_loss: 0.2144 - val_acc: 0.9197\n",
            "Epoch 35/50\n",
            "54731/54731 [==============================] - 7s 125us/step - loss: 0.2176 - acc: 0.9173 - val_loss: 0.2025 - val_acc: 0.9241\n",
            "Epoch 36/50\n",
            "34816/54731 [==================>...........] - ETA: 2s - loss: 0.2153 - acc: 0.9193"
          ],
          "name": "stdout"
        },
        {
          "output_type": "stream",
          "text": [
            "54731/54731 [==============================] - 7s 126us/step - loss: 0.2156 - acc: 0.9181 - val_loss: 0.2105 - val_acc: 0.9188\n",
            "Epoch 00036: early stopping\n",
            "TEST LOSS: 0.2235534798383713 \t TEST ACCURACY: 0.9173999999046326\n",
            "[0.2235534798383713, 0.9173999999046326] \n",
            "\n",
            "[[2.85428654e-01 2.41809552e-01 3.41749205e-01 3.35766438e-01\n",
            "  3.21760587e-01 1.28000000e+02 1.28000000e+02 5.12000000e+02\n",
            "  2.56000000e+02 2.56000000e+02 6.00000000e+00]]\n",
            "Train on 42874 samples, validate on 17126 samples\n",
            "Epoch 1/50\n",
            "41984/42874 [============================>.] - ETA: 0s - loss: 0.6594 - acc: 0.7550"
          ],
          "name": "stdout"
        },
        {
          "output_type": "stream",
          "text": [
            "42874/42874 [==============================] - 11s 265us/step - loss: 0.6552 - acc: 0.7568 - val_loss: 0.4084 - val_acc: 0.8529\n",
            "Epoch 2/50\n",
            "42874/42874 [==============================] - 10s 234us/step - loss: 0.4077 - acc: 0.8490 - val_loss: 0.3330 - val_acc: 0.8773\n",
            "Epoch 3/50\n",
            "42874/42874 [==============================] - 10s 233us/step - loss: 0.3489 - acc: 0.8716 - val_loss: 0.3049 - val_acc: 0.8882\n",
            "Epoch 4/50\n",
            "  768/42874 [..............................] - ETA: 8s - loss: 0.3232 - acc: 0.8750"
          ],
          "name": "stdout"
        },
        {
          "output_type": "stream",
          "text": [
            "42874/42874 [==============================] - 10s 232us/step - loss: 0.3175 - acc: 0.8825 - val_loss: 0.2850 - val_acc: 0.8943\n",
            "Epoch 5/50\n",
            "42874/42874 [==============================] - 10s 234us/step - loss: 0.2954 - acc: 0.8927 - val_loss: 0.2722 - val_acc: 0.9017\n",
            "Epoch 6/50\n",
            "34560/42874 [=======================>......] - ETA: 1s - loss: 0.2732 - acc: 0.8995"
          ],
          "name": "stdout"
        },
        {
          "output_type": "stream",
          "text": [
            "42874/42874 [==============================] - 10s 233us/step - loss: 0.2727 - acc: 0.8995 - val_loss: 0.2519 - val_acc: 0.9089\n",
            "Epoch 7/50\n",
            "42874/42874 [==============================] - 10s 233us/step - loss: 0.2571 - acc: 0.9035 - val_loss: 0.2614 - val_acc: 0.9020\n",
            "Epoch 8/50\n",
            "42240/42874 [============================>.] - ETA: 0s - loss: 0.2457 - acc: 0.9079"
          ],
          "name": "stdout"
        },
        {
          "output_type": "stream",
          "text": [
            "42874/42874 [==============================] - 10s 233us/step - loss: 0.2457 - acc: 0.9078 - val_loss: 0.2386 - val_acc: 0.9121\n",
            "Epoch 9/50\n",
            "42874/42874 [==============================] - 10s 232us/step - loss: 0.2316 - acc: 0.9140 - val_loss: 0.2385 - val_acc: 0.9096\n",
            "Epoch 10/50\n",
            "42874/42874 [==============================] - 10s 233us/step - loss: 0.2223 - acc: 0.9158 - val_loss: 0.2299 - val_acc: 0.9166\n",
            "Epoch 11/50\n",
            "  512/42874 [..............................] - ETA: 9s - loss: 0.1627 - acc: 0.9414"
          ],
          "name": "stdout"
        },
        {
          "output_type": "stream",
          "text": [
            "42874/42874 [==============================] - 10s 233us/step - loss: 0.2123 - acc: 0.9195 - val_loss: 0.2317 - val_acc: 0.9176\n",
            "Epoch 12/50\n",
            "42874/42874 [==============================] - 10s 233us/step - loss: 0.2047 - acc: 0.9230 - val_loss: 0.2279 - val_acc: 0.9177\n",
            "Epoch 13/50\n",
            "34048/42874 [======================>.......] - ETA: 1s - loss: 0.1934 - acc: 0.9262"
          ],
          "name": "stdout"
        },
        {
          "output_type": "stream",
          "text": [
            "42874/42874 [==============================] - 10s 235us/step - loss: 0.1950 - acc: 0.9256 - val_loss: 0.2213 - val_acc: 0.9201\n",
            "Epoch 14/50\n",
            "42874/42874 [==============================] - 10s 232us/step - loss: 0.1876 - acc: 0.9291 - val_loss: 0.2185 - val_acc: 0.9227\n",
            "Epoch 15/50\n",
            "41728/42874 [============================>.] - ETA: 0s - loss: 0.1793 - acc: 0.9317"
          ],
          "name": "stdout"
        },
        {
          "output_type": "stream",
          "text": [
            "42874/42874 [==============================] - 10s 234us/step - loss: 0.1797 - acc: 0.9315 - val_loss: 0.2207 - val_acc: 0.9218\n",
            "Epoch 16/50\n",
            "42874/42874 [==============================] - 10s 234us/step - loss: 0.1740 - acc: 0.9357 - val_loss: 0.2255 - val_acc: 0.9180\n",
            "Epoch 17/50\n",
            "42874/42874 [==============================] - 10s 236us/step - loss: 0.1667 - acc: 0.9363 - val_loss: 0.2263 - val_acc: 0.9208\n",
            "Epoch 18/50\n",
            "  256/42874 [..............................] - ETA: 9s - loss: 0.1507 - acc: 0.9375"
          ],
          "name": "stdout"
        },
        {
          "output_type": "stream",
          "text": [
            "42874/42874 [==============================] - 10s 236us/step - loss: 0.1658 - acc: 0.9358 - val_loss: 0.2293 - val_acc: 0.9197\n",
            "Epoch 19/50\n",
            "42874/42874 [==============================] - 10s 235us/step - loss: 0.1550 - acc: 0.9407 - val_loss: 0.2289 - val_acc: 0.9206\n",
            "Epoch 20/50\n",
            "34048/42874 [======================>.......] - ETA: 1s - loss: 0.1518 - acc: 0.9414"
          ],
          "name": "stdout"
        },
        {
          "output_type": "stream",
          "text": [
            "42874/42874 [==============================] - 10s 235us/step - loss: 0.1551 - acc: 0.9403 - val_loss: 0.2222 - val_acc: 0.9227\n",
            "Epoch 00020: early stopping\n",
            "TEST LOSS: 0.24132875895500183 \t TEST ACCURACY: 0.9188\n",
            "[0.24132875895500183, 0.9188] \n",
            "\n",
            "[[1.40412593e-01 3.81368861e-01 3.53451865e-01 3.61778062e-02\n",
            "  3.45332508e-01 1.60000000e+01 3.20000000e+01 1.28000000e+02\n",
            "  1.28000000e+02 5.12000000e+02 8.00000000e+00]]\n",
            "Train on 51575 samples, validate on 8425 samples\n",
            "Epoch 1/50\n",
            "51575/51575 [==============================] - 3s 60us/step - loss: 1.1372 - acc: 0.5744 - val_loss: 0.6838 - val_acc: 0.7592\n",
            "Epoch 2/50\n",
            "51575/51575 [==============================] - 2s 45us/step - loss: 0.6695 - acc: 0.7445 - val_loss: 0.5606 - val_acc: 0.7973\n",
            "Epoch 3/50\n",
            "51575/51575 [==============================] - 2s 45us/step - loss: 0.5882 - acc: 0.7774 - val_loss: 0.5056 - val_acc: 0.8228\n",
            "Epoch 4/50\n",
            "28672/51575 [===============>..............] - ETA: 0s - loss: 0.5599 - acc: 0.7912"
          ],
          "name": "stdout"
        },
        {
          "output_type": "stream",
          "text": [
            "51575/51575 [==============================] - 2s 46us/step - loss: 0.5466 - acc: 0.7952 - val_loss: 0.4582 - val_acc: 0.8296\n",
            "Epoch 5/50\n",
            "51575/51575 [==============================] - 2s 46us/step - loss: 0.5100 - acc: 0.8094 - val_loss: 0.4302 - val_acc: 0.8474\n",
            "Epoch 6/50\n",
            "51575/51575 [==============================] - 2s 46us/step - loss: 0.4803 - acc: 0.8203 - val_loss: 0.4014 - val_acc: 0.8536\n",
            "Epoch 7/50\n",
            "51575/51575 [==============================] - 2s 46us/step - loss: 0.4588 - acc: 0.8311 - val_loss: 0.3873 - val_acc: 0.8577\n",
            "Epoch 8/50\n",
            "51575/51575 [==============================] - 2s 45us/step - loss: 0.4379 - acc: 0.8391 - val_loss: 0.3689 - val_acc: 0.8675\n",
            "Epoch 9/50\n",
            "51575/51575 [==============================] - 2s 46us/step - loss: 0.4188 - acc: 0.8473 - val_loss: 0.3613 - val_acc: 0.8688\n",
            "Epoch 10/50\n",
            " 2048/51575 [>.............................] - ETA: 2s - loss: 0.4143 - acc: 0.8525"
          ],
          "name": "stdout"
        },
        {
          "output_type": "stream",
          "text": [
            "51575/51575 [==============================] - 2s 46us/step - loss: 0.4018 - acc: 0.8514 - val_loss: 0.3442 - val_acc: 0.8742\n",
            "Epoch 11/50\n",
            "51575/51575 [==============================] - 2s 46us/step - loss: 0.3877 - acc: 0.8583 - val_loss: 0.3377 - val_acc: 0.8768\n",
            "Epoch 12/50\n",
            "51575/51575 [==============================] - 2s 46us/step - loss: 0.3768 - acc: 0.8608 - val_loss: 0.3230 - val_acc: 0.8834\n",
            "Epoch 13/50\n",
            "51575/51575 [==============================] - 2s 47us/step - loss: 0.3675 - acc: 0.8681 - val_loss: 0.3046 - val_acc: 0.8881\n",
            "Epoch 14/50\n",
            "51575/51575 [==============================] - 2s 45us/step - loss: 0.3599 - acc: 0.8684 - val_loss: 0.3057 - val_acc: 0.8878\n",
            "Epoch 15/50\n",
            "51575/51575 [==============================] - 2s 45us/step - loss: 0.3496 - acc: 0.8733 - val_loss: 0.3079 - val_acc: 0.8877\n",
            "Epoch 16/50\n",
            " 2048/51575 [>.............................] - ETA: 2s - loss: 0.3298 - acc: 0.8716"
          ],
          "name": "stdout"
        },
        {
          "output_type": "stream",
          "text": [
            "51575/51575 [==============================] - 2s 45us/step - loss: 0.3457 - acc: 0.8744 - val_loss: 0.2935 - val_acc: 0.8916\n",
            "Epoch 17/50\n",
            "51575/51575 [==============================] - 2s 44us/step - loss: 0.3407 - acc: 0.8747 - val_loss: 0.2992 - val_acc: 0.8884\n",
            "Epoch 18/50\n",
            "51575/51575 [==============================] - 2s 44us/step - loss: 0.3308 - acc: 0.8785 - val_loss: 0.2872 - val_acc: 0.8923\n",
            "Epoch 19/50\n",
            "51575/51575 [==============================] - 2s 44us/step - loss: 0.3262 - acc: 0.8790 - val_loss: 0.2807 - val_acc: 0.8948\n",
            "Epoch 20/50\n",
            "51575/51575 [==============================] - 2s 44us/step - loss: 0.3209 - acc: 0.8817 - val_loss: 0.2794 - val_acc: 0.8964\n",
            "Epoch 21/50\n",
            "51575/51575 [==============================] - 2s 44us/step - loss: 0.3165 - acc: 0.8837 - val_loss: 0.2739 - val_acc: 0.8977\n",
            "Epoch 22/50\n",
            " 9728/51575 [====>.........................] - ETA: 1s - loss: 0.2909 - acc: 0.8927"
          ],
          "name": "stdout"
        },
        {
          "output_type": "stream",
          "text": [
            "51575/51575 [==============================] - 2s 44us/step - loss: 0.3124 - acc: 0.8846 - val_loss: 0.2693 - val_acc: 0.9009\n",
            "Epoch 23/50\n",
            "51575/51575 [==============================] - 2s 45us/step - loss: 0.3078 - acc: 0.8867 - val_loss: 0.2735 - val_acc: 0.8947\n",
            "Epoch 24/50\n",
            "51575/51575 [==============================] - 2s 44us/step - loss: 0.3026 - acc: 0.8899 - val_loss: 0.2688 - val_acc: 0.8977\n",
            "Epoch 25/50\n",
            "51575/51575 [==============================] - 2s 44us/step - loss: 0.2997 - acc: 0.8900 - val_loss: 0.2630 - val_acc: 0.9018\n",
            "Epoch 26/50\n",
            "51575/51575 [==============================] - 2s 44us/step - loss: 0.2988 - acc: 0.8890 - val_loss: 0.2748 - val_acc: 0.8986\n",
            "Epoch 27/50\n",
            "51575/51575 [==============================] - 2s 44us/step - loss: 0.2930 - acc: 0.8932 - val_loss: 0.2749 - val_acc: 0.8960\n",
            "Epoch 28/50\n",
            " 9728/51575 [====>.........................] - ETA: 1s - loss: 0.2950 - acc: 0.8941"
          ],
          "name": "stdout"
        },
        {
          "output_type": "stream",
          "text": [
            "51575/51575 [==============================] - 2s 45us/step - loss: 0.2922 - acc: 0.8931 - val_loss: 0.2585 - val_acc: 0.9022\n",
            "Epoch 29/50\n",
            "51575/51575 [==============================] - 2s 44us/step - loss: 0.2852 - acc: 0.8942 - val_loss: 0.2576 - val_acc: 0.9035\n",
            "Epoch 30/50\n",
            "51575/51575 [==============================] - 2s 44us/step - loss: 0.2869 - acc: 0.8936 - val_loss: 0.2615 - val_acc: 0.9028\n",
            "Epoch 31/50\n",
            "51575/51575 [==============================] - 2s 44us/step - loss: 0.2820 - acc: 0.8960 - val_loss: 0.2584 - val_acc: 0.9016\n",
            "Epoch 32/50\n",
            "51575/51575 [==============================] - 2s 44us/step - loss: 0.2829 - acc: 0.8958 - val_loss: 0.2552 - val_acc: 0.9039\n",
            "Epoch 33/50\n",
            "51575/51575 [==============================] - 2s 44us/step - loss: 0.2801 - acc: 0.8971 - val_loss: 0.2495 - val_acc: 0.9069\n",
            "Epoch 34/50\n",
            "12800/51575 [======>.......................] - ETA: 1s - loss: 0.2731 - acc: 0.8969"
          ],
          "name": "stdout"
        },
        {
          "output_type": "stream",
          "text": [
            "51575/51575 [==============================] - 2s 45us/step - loss: 0.2739 - acc: 0.8993 - val_loss: 0.2543 - val_acc: 0.9060\n",
            "Epoch 35/50\n",
            "51575/51575 [==============================] - 2s 44us/step - loss: 0.2719 - acc: 0.8989 - val_loss: 0.2515 - val_acc: 0.9046\n",
            "Epoch 36/50\n",
            "51575/51575 [==============================] - 2s 45us/step - loss: 0.2698 - acc: 0.9000 - val_loss: 0.2504 - val_acc: 0.9053\n",
            "Epoch 37/50\n",
            "51575/51575 [==============================] - 2s 45us/step - loss: 0.2666 - acc: 0.9010 - val_loss: 0.2458 - val_acc: 0.9088\n",
            "Epoch 38/50\n",
            "51575/51575 [==============================] - 2s 45us/step - loss: 0.2650 - acc: 0.9022 - val_loss: 0.2535 - val_acc: 0.9067\n",
            "Epoch 39/50\n",
            "51575/51575 [==============================] - 2s 44us/step - loss: 0.2660 - acc: 0.9011 - val_loss: 0.2450 - val_acc: 0.9088\n",
            "Epoch 40/50\n",
            " 9728/51575 [====>.........................] - ETA: 1s - loss: 0.2562 - acc: 0.9057"
          ],
          "name": "stdout"
        },
        {
          "output_type": "stream",
          "text": [
            "51575/51575 [==============================] - 2s 44us/step - loss: 0.2647 - acc: 0.9030 - val_loss: 0.2439 - val_acc: 0.9096\n",
            "Epoch 41/50\n",
            "51575/51575 [==============================] - 2s 45us/step - loss: 0.2598 - acc: 0.9034 - val_loss: 0.2556 - val_acc: 0.9054\n",
            "Epoch 42/50\n",
            "51575/51575 [==============================] - 2s 44us/step - loss: 0.2577 - acc: 0.9030 - val_loss: 0.2428 - val_acc: 0.9093\n",
            "Epoch 43/50\n",
            "51575/51575 [==============================] - 2s 45us/step - loss: 0.2577 - acc: 0.9037 - val_loss: 0.2408 - val_acc: 0.9100\n",
            "Epoch 44/50\n",
            "51575/51575 [==============================] - 2s 44us/step - loss: 0.2553 - acc: 0.9051 - val_loss: 0.2396 - val_acc: 0.9107\n",
            "Epoch 45/50\n",
            "51575/51575 [==============================] - 2s 44us/step - loss: 0.2526 - acc: 0.9057 - val_loss: 0.2452 - val_acc: 0.9106\n",
            "Epoch 46/50\n",
            "11264/51575 [=====>........................] - ETA: 1s - loss: 0.2441 - acc: 0.9100"
          ],
          "name": "stdout"
        },
        {
          "output_type": "stream",
          "text": [
            "51575/51575 [==============================] - 2s 44us/step - loss: 0.2528 - acc: 0.9063 - val_loss: 0.2380 - val_acc: 0.9130\n",
            "Epoch 47/50\n",
            "51575/51575 [==============================] - 2s 45us/step - loss: 0.2496 - acc: 0.9067 - val_loss: 0.2476 - val_acc: 0.9098\n",
            "Epoch 48/50\n",
            "51575/51575 [==============================] - 2s 44us/step - loss: 0.2493 - acc: 0.9079 - val_loss: 0.2411 - val_acc: 0.9092\n",
            "Epoch 49/50\n",
            "51575/51575 [==============================] - 2s 45us/step - loss: 0.2470 - acc: 0.9073 - val_loss: 0.2405 - val_acc: 0.9117\n",
            "Epoch 50/50\n",
            "51575/51575 [==============================] - 2s 44us/step - loss: 0.2473 - acc: 0.9093 - val_loss: 0.2490 - val_acc: 0.9100\n",
            "TEST LOSS: 0.2560000126838684 \t TEST ACCURACY: 0.9052\n",
            "[0.2560000126838684, 0.9052] \n",
            "\n",
            "[[4.53025379e-02 8.65335468e-02 4.64145505e-01 1.15296968e-01\n",
            "  8.77162414e-02 3.20000000e+01 1.28000000e+02 6.40000000e+01\n",
            "  1.28000000e+02 6.40000000e+01 4.00000000e+00]]\n",
            "Train on 57281 samples, validate on 2719 samples\n",
            "Epoch 1/50\n",
            " 8256/57281 [===>..........................] - ETA: 13s - loss: 1.0235 - acc: 0.6192"
          ],
          "name": "stdout"
        },
        {
          "output_type": "stream",
          "text": [
            "57281/57281 [==============================] - 13s 229us/step - loss: 0.5819 - acc: 0.7825 - val_loss: 0.3637 - val_acc: 0.8624\n",
            "Epoch 2/50\n",
            "57281/57281 [==============================] - 13s 228us/step - loss: 0.3740 - acc: 0.8627 - val_loss: 0.2811 - val_acc: 0.8889\n",
            "Epoch 3/50\n",
            "23296/57281 [===========>..................] - ETA: 7s - loss: 0.3311 - acc: 0.8796"
          ],
          "name": "stdout"
        },
        {
          "output_type": "stream",
          "text": [
            "57281/57281 [==============================] - 13s 226us/step - loss: 0.3243 - acc: 0.8811 - val_loss: 0.2842 - val_acc: 0.8882\n",
            "Epoch 4/50\n",
            "57281/57281 [==============================] - 13s 224us/step - loss: 0.2998 - acc: 0.8896 - val_loss: 0.2526 - val_acc: 0.9025\n",
            "Epoch 5/50\n",
            "26816/57281 [=============>................] - ETA: 6s - loss: 0.2796 - acc: 0.8983"
          ],
          "name": "stdout"
        },
        {
          "output_type": "stream",
          "text": [
            "57281/57281 [==============================] - 13s 228us/step - loss: 0.2809 - acc: 0.8975 - val_loss: 0.2367 - val_acc: 0.9073\n",
            "Epoch 6/50\n",
            "57281/57281 [==============================] - 13s 235us/step - loss: 0.2654 - acc: 0.9010 - val_loss: 0.2272 - val_acc: 0.9169\n",
            "Epoch 7/50\n",
            "26624/57281 [============>.................] - ETA: 7s - loss: 0.2513 - acc: 0.9062"
          ],
          "name": "stdout"
        },
        {
          "output_type": "stream",
          "text": [
            "57281/57281 [==============================] - 13s 236us/step - loss: 0.2527 - acc: 0.9059 - val_loss: 0.2231 - val_acc: 0.9099\n",
            "Epoch 8/50\n",
            "57281/57281 [==============================] - 13s 233us/step - loss: 0.2436 - acc: 0.9093 - val_loss: 0.2194 - val_acc: 0.9172\n",
            "Epoch 9/50\n",
            "26688/57281 [============>.................] - ETA: 6s - loss: 0.2304 - acc: 0.9134"
          ],
          "name": "stdout"
        },
        {
          "output_type": "stream",
          "text": [
            "57281/57281 [==============================] - 13s 233us/step - loss: 0.2344 - acc: 0.9119 - val_loss: 0.2266 - val_acc: 0.9128\n",
            "Epoch 10/50\n",
            "57281/57281 [==============================] - 14s 236us/step - loss: 0.2265 - acc: 0.9155 - val_loss: 0.2236 - val_acc: 0.9169\n",
            "Epoch 11/50\n",
            "26176/57281 [============>.................] - ETA: 7s - loss: 0.2193 - acc: 0.9198"
          ],
          "name": "stdout"
        },
        {
          "output_type": "stream",
          "text": [
            "57281/57281 [==============================] - 13s 235us/step - loss: 0.2222 - acc: 0.9178 - val_loss: 0.2100 - val_acc: 0.9165\n",
            "Epoch 12/50\n",
            "57281/57281 [==============================] - 13s 234us/step - loss: 0.2148 - acc: 0.9197 - val_loss: 0.2150 - val_acc: 0.9172\n",
            "Epoch 13/50\n",
            "26048/57281 [============>.................] - ETA: 7s - loss: 0.2371 - acc: 0.9109"
          ],
          "name": "stdout"
        },
        {
          "output_type": "stream",
          "text": [
            "57281/57281 [==============================] - 13s 234us/step - loss: 0.2218 - acc: 0.9168 - val_loss: 0.1971 - val_acc: 0.9224\n",
            "Epoch 14/50\n",
            "57281/57281 [==============================] - 13s 233us/step - loss: 0.2019 - acc: 0.9235 - val_loss: 0.2052 - val_acc: 0.9209\n",
            "Epoch 15/50\n",
            "26112/57281 [============>.................] - ETA: 7s - loss: 0.1975 - acc: 0.9245"
          ],
          "name": "stdout"
        },
        {
          "output_type": "stream",
          "text": [
            "57281/57281 [==============================] - 13s 234us/step - loss: 0.2024 - acc: 0.9231 - val_loss: 0.1961 - val_acc: 0.9235\n",
            "Epoch 16/50\n",
            "57281/57281 [==============================] - 13s 232us/step - loss: 0.1961 - acc: 0.9263 - val_loss: 0.1981 - val_acc: 0.9242\n",
            "Epoch 17/50\n",
            "26560/57281 [============>.................] - ETA: 7s - loss: 0.1895 - acc: 0.9286"
          ],
          "name": "stdout"
        },
        {
          "output_type": "stream",
          "text": [
            "57281/57281 [==============================] - 13s 234us/step - loss: 0.1937 - acc: 0.9260 - val_loss: 0.1827 - val_acc: 0.9305\n",
            "Epoch 18/50\n",
            "57281/57281 [==============================] - 13s 232us/step - loss: 0.1894 - acc: 0.9277 - val_loss: 0.2009 - val_acc: 0.9272\n",
            "Epoch 19/50\n",
            "26752/57281 [=============>................] - ETA: 6s - loss: 0.1821 - acc: 0.9311"
          ],
          "name": "stdout"
        },
        {
          "output_type": "stream",
          "text": [
            "57281/57281 [==============================] - 13s 233us/step - loss: 0.1887 - acc: 0.9285 - val_loss: 0.2015 - val_acc: 0.9224\n",
            "Epoch 20/50\n",
            "57281/57281 [==============================] - 13s 232us/step - loss: 0.1855 - acc: 0.9294 - val_loss: 0.1990 - val_acc: 0.9242\n",
            "Epoch 21/50\n",
            "26368/57281 [============>.................] - ETA: 7s - loss: 0.1792 - acc: 0.9310"
          ],
          "name": "stdout"
        },
        {
          "output_type": "stream",
          "text": [
            "57281/57281 [==============================] - 13s 235us/step - loss: 0.1812 - acc: 0.9303 - val_loss: 0.1968 - val_acc: 0.9250\n",
            "Epoch 00021: early stopping\n",
            "TEST LOSS: 0.23489970197677612 \t TEST ACCURACY: 0.9162\n",
            "[0.23489970197677612, 0.9162] \n",
            "\n",
            "[[2.29081213e-01 2.09945428e-01 4.82148370e-01 2.84462023e-01\n",
            "  2.99062208e-01 2.56000000e+02 5.12000000e+02 1.28000000e+02\n",
            "  1.02400000e+03 1.28000000e+02 7.00000000e+00]]\n",
            "Train on 46255 samples, validate on 13745 samples\n",
            "Epoch 1/50\n",
            "19456/46255 [===========>..................] - ETA: 15s - loss: 0.8413 - acc: 0.6906"
          ],
          "name": "stdout"
        },
        {
          "output_type": "stream",
          "text": [
            "46255/46255 [==============================] - 27s 589us/step - loss: 0.6546 - acc: 0.7589 - val_loss: 0.4018 - val_acc: 0.8510\n",
            "Epoch 2/50\n",
            "45056/46255 [============================>.] - ETA: 0s - loss: 0.4207 - acc: 0.8460"
          ],
          "name": "stdout"
        },
        {
          "output_type": "stream",
          "text": [
            "46255/46255 [==============================] - 25s 550us/step - loss: 0.4203 - acc: 0.8460 - val_loss: 0.3344 - val_acc: 0.8772\n",
            "Epoch 3/50\n",
            "46255/46255 [==============================] - 26s 556us/step - loss: 0.3632 - acc: 0.8681 - val_loss: 0.2983 - val_acc: 0.8883\n",
            "Epoch 4/50\n",
            " 4608/46255 [=>............................] - ETA: 21s - loss: 0.3357 - acc: 0.8717"
          ],
          "name": "stdout"
        },
        {
          "output_type": "stream",
          "text": [
            "46255/46255 [==============================] - 25s 544us/step - loss: 0.3268 - acc: 0.8789 - val_loss: 0.2950 - val_acc: 0.8918\n",
            "Epoch 5/50\n",
            "41088/46255 [=========================>....] - ETA: 2s - loss: 0.3005 - acc: 0.8899"
          ],
          "name": "stdout"
        },
        {
          "output_type": "stream",
          "text": [
            "46255/46255 [==============================] - 25s 545us/step - loss: 0.3011 - acc: 0.8893 - val_loss: 0.2725 - val_acc: 0.8969\n",
            "Epoch 6/50\n",
            "46255/46255 [==============================] - 25s 546us/step - loss: 0.2894 - acc: 0.8909 - val_loss: 0.2505 - val_acc: 0.9065\n",
            "Epoch 7/50\n",
            " 4864/46255 [==>...........................] - ETA: 20s - loss: 0.2654 - acc: 0.8968"
          ],
          "name": "stdout"
        },
        {
          "output_type": "stream",
          "text": [
            "46255/46255 [==============================] - 25s 546us/step - loss: 0.2761 - acc: 0.8980 - val_loss: 0.2547 - val_acc: 0.9038\n",
            "Epoch 8/50\n",
            "40960/46255 [=========================>....] - ETA: 2s - loss: 0.2609 - acc: 0.9043"
          ],
          "name": "stdout"
        },
        {
          "output_type": "stream",
          "text": [
            "46255/46255 [==============================] - 25s 545us/step - loss: 0.2625 - acc: 0.9038 - val_loss: 0.2463 - val_acc: 0.9095\n",
            "Epoch 9/50\n",
            "46255/46255 [==============================] - 25s 543us/step - loss: 0.2504 - acc: 0.9068 - val_loss: 0.2355 - val_acc: 0.9117\n",
            "Epoch 10/50\n",
            " 5248/46255 [==>...........................] - ETA: 20s - loss: 0.2327 - acc: 0.9122"
          ],
          "name": "stdout"
        },
        {
          "output_type": "stream",
          "text": [
            "46255/46255 [==============================] - 25s 542us/step - loss: 0.2460 - acc: 0.9082 - val_loss: 0.2383 - val_acc: 0.9101\n",
            "Epoch 11/50\n",
            "40704/46255 [=========================>....] - ETA: 2s - loss: 0.2373 - acc: 0.9107"
          ],
          "name": "stdout"
        },
        {
          "output_type": "stream",
          "text": [
            "46255/46255 [==============================] - 25s 543us/step - loss: 0.2367 - acc: 0.9109 - val_loss: 0.2475 - val_acc: 0.9093\n",
            "Epoch 12/50\n",
            "46255/46255 [==============================] - 25s 544us/step - loss: 0.2281 - acc: 0.9137 - val_loss: 0.2353 - val_acc: 0.9136\n",
            "Epoch 13/50\n",
            " 4736/46255 [==>...........................] - ETA: 20s - loss: 0.2311 - acc: 0.9162"
          ],
          "name": "stdout"
        },
        {
          "output_type": "stream",
          "text": [
            "46255/46255 [==============================] - 25s 543us/step - loss: 0.2258 - acc: 0.9160 - val_loss: 0.2308 - val_acc: 0.9144\n",
            "Epoch 14/50\n",
            "40960/46255 [=========================>....] - ETA: 2s - loss: 0.2142 - acc: 0.9188"
          ],
          "name": "stdout"
        },
        {
          "output_type": "stream",
          "text": [
            "46255/46255 [==============================] - 25s 543us/step - loss: 0.2157 - acc: 0.9185 - val_loss: 0.2266 - val_acc: 0.9161\n",
            "Epoch 15/50\n",
            "46255/46255 [==============================] - 25s 543us/step - loss: 0.2108 - acc: 0.9201 - val_loss: 0.2222 - val_acc: 0.9179\n",
            "Epoch 16/50\n",
            " 5248/46255 [==>...........................] - ETA: 20s - loss: 0.2003 - acc: 0.9263"
          ],
          "name": "stdout"
        },
        {
          "output_type": "stream",
          "text": [
            "46255/46255 [==============================] - 25s 547us/step - loss: 0.2096 - acc: 0.9206 - val_loss: 0.2303 - val_acc: 0.9151\n",
            "Epoch 17/50\n",
            "40960/46255 [=========================>....] - ETA: 2s - loss: 0.2001 - acc: 0.9235"
          ],
          "name": "stdout"
        },
        {
          "output_type": "stream",
          "text": [
            "46255/46255 [==============================] - 25s 543us/step - loss: 0.1999 - acc: 0.9241 - val_loss: 0.2342 - val_acc: 0.9153\n",
            "Epoch 18/50\n",
            "46255/46255 [==============================] - 25s 544us/step - loss: 0.1929 - acc: 0.9278 - val_loss: 0.2243 - val_acc: 0.9173\n",
            "Epoch 19/50\n",
            " 4736/46255 [==>...........................] - ETA: 20s - loss: 0.1823 - acc: 0.9305"
          ],
          "name": "stdout"
        },
        {
          "output_type": "stream",
          "text": [
            "46255/46255 [==============================] - 25s 545us/step - loss: 0.1915 - acc: 0.9278 - val_loss: 0.2187 - val_acc: 0.9194\n",
            "Epoch 20/50\n",
            "39808/46255 [========================>.....] - ETA: 3s - loss: 0.1911 - acc: 0.9288\b\b\b\b\b\b\b\b\b\b\b\b\b\b\b\b\b\b\b\b\b\b\b\b\b\b\b\b\b\b\b\b\b\b\b\b\b\b\b\b\b\b\b\b\b\b\b\b\b\b\b\b\b\b\b\b\b\b\b\b\b\b\b\b\b\b\b\b\b\b\b\b\b\b\b\b\b\b\b\b\b\b\b"
          ],
          "name": "stdout"
        },
        {
          "output_type": "stream",
          "text": [
            "46255/46255 [==============================] - 25s 547us/step - loss: 0.1897 - acc: 0.9296 - val_loss: 0.2219 - val_acc: 0.9203\n",
            "Epoch 21/50\n",
            "46255/46255 [==============================] - 25s 545us/step - loss: 0.1834 - acc: 0.9314 - val_loss: 0.2240 - val_acc: 0.9189\n",
            "Epoch 22/50\n",
            " 4608/46255 [=>............................] - ETA: 21s - loss: 0.1654 - acc: 0.9382"
          ],
          "name": "stdout"
        },
        {
          "output_type": "stream",
          "text": [
            "46255/46255 [==============================] - 25s 545us/step - loss: 0.1804 - acc: 0.9329 - val_loss: 0.2163 - val_acc: 0.9204\n",
            "Epoch 23/50\n",
            "39808/46255 [========================>.....] - ETA: 3s - loss: 0.1722 - acc: 0.9347"
          ],
          "name": "stdout"
        },
        {
          "output_type": "stream",
          "text": [
            "46255/46255 [==============================] - 25s 544us/step - loss: 0.1727 - acc: 0.9349 - val_loss: 0.2165 - val_acc: 0.9235\n",
            "Epoch 24/50\n",
            "46255/46255 [==============================] - 25s 545us/step - loss: 0.1704 - acc: 0.9353 - val_loss: 0.2175 - val_acc: 0.9254\n",
            "Epoch 25/50\n",
            " 4352/46255 [=>............................] - ETA: 21s - loss: 0.1510 - acc: 0.9435"
          ],
          "name": "stdout"
        },
        {
          "output_type": "stream",
          "text": [
            "46255/46255 [==============================] - 25s 541us/step - loss: 0.1716 - acc: 0.9358 - val_loss: 0.2251 - val_acc: 0.9209\n",
            "Epoch 26/50\n",
            "40960/46255 [=========================>....] - ETA: 2s - loss: 0.1660 - acc: 0.9368"
          ],
          "name": "stdout"
        },
        {
          "output_type": "stream",
          "text": [
            "46255/46255 [==============================] - 25s 541us/step - loss: 0.1666 - acc: 0.9367 - val_loss: 0.2242 - val_acc: 0.9230\n",
            "Epoch 27/50\n",
            "46255/46255 [==============================] - 25s 541us/step - loss: 0.1659 - acc: 0.9386 - val_loss: 0.2209 - val_acc: 0.9216\n",
            "Epoch 28/50\n",
            " 4992/46255 [==>...........................] - ETA: 20s - loss: 0.1585 - acc: 0.9441"
          ],
          "name": "stdout"
        },
        {
          "output_type": "stream",
          "text": [
            "46255/46255 [==============================] - 25s 551us/step - loss: 0.1620 - acc: 0.9391 - val_loss: 0.2203 - val_acc: 0.9212\n",
            "Epoch 29/50\n",
            "39680/46255 [========================>.....] - ETA: 3s - loss: 0.1622 - acc: 0.9386"
          ],
          "name": "stdout"
        },
        {
          "output_type": "stream",
          "text": [
            "46255/46255 [==============================] - 25s 545us/step - loss: 0.1624 - acc: 0.9389 - val_loss: 0.2262 - val_acc: 0.9222\n",
            "Epoch 00029: early stopping\n",
            "TEST LOSS: 0.24196611844301225 \t TEST ACCURACY: 0.9181\n",
            "[0.24196611844301225, 0.9181] \n",
            "\n"
          ],
          "name": "stdout"
        }
      ]
    },
    {
      "metadata": {
        "id": "YEkLm5RbEadU",
        "colab_type": "text"
      },
      "cell_type": "markdown",
      "source": [
        "### Running Optmization"
      ]
    },
    {
      "metadata": {
        "id": "pm1WPkslAavT",
        "colab_type": "code",
        "colab": {
          "autoexec": {
            "startup": false,
            "wait_interval": 0
          },
          "base_uri": "https://localhost:8080/",
          "height": 37794
        },
        "outputId": "2d9de9e4-b2dd-42c1-c6ed-16f7ecc5bb7f",
        "executionInfo": {
          "status": "ok",
          "timestamp": 1528418233638,
          "user_tz": -60,
          "elapsed": 11807090,
          "user": {
            "displayName": "Niall Turbitt",
            "photoUrl": "//lh4.googleusercontent.com/-8T4clQIdx1Y/AAAAAAAAAAI/AAAAAAAAAKI/oERGPawEbK8/s50-c-k-no/photo.jpg",
            "userId": "113020036098296333682"
          }
        }
      },
      "cell_type": "code",
      "source": [
        "# optimize mnist model\n",
        "\n",
        "\n",
        "# Run the optimization\n",
        "max_iter = 30     # evaluation budget\n",
        "# eps      = 10e-6  # Minimum allowed distance between the last two observations\n",
        "\n",
        "optimize_fashion_mnist.run_optimization(max_iter=max_iter)\n",
        "\n",
        "# Wall time: 3h 37min 58s"
      ],
      "execution_count": 22,
      "outputs": [
        {
          "output_type": "stream",
          "text": [
            "[[2.98950266e-01 2.10263297e-01 1.52136579e-01 1.51991737e-01\n",
            "  3.28412635e-01 1.28000000e+02 1.28000000e+02 5.12000000e+02\n",
            "  2.56000000e+02 5.12000000e+02 4.00000000e+00]]\n",
            "Train on 42062 samples, validate on 17938 samples\n",
            "Epoch 1/50\n",
            "42062/42062 [==============================] - 10s 240us/step - loss: 0.8429 - acc: 0.6961 - val_loss: 0.4733 - val_acc: 0.8244\n",
            "Epoch 2/50\n",
            "42062/42062 [==============================] - 8s 199us/step - loss: 0.4493 - acc: 0.8347 - val_loss: 0.3736 - val_acc: 0.8608\n",
            "Epoch 3/50\n",
            "30208/42062 [====================>.........] - ETA: 2s - loss: 0.3825 - acc: 0.8597"
          ],
          "name": "stdout"
        },
        {
          "output_type": "stream",
          "text": [
            "42062/42062 [==============================] - 8s 199us/step - loss: 0.3794 - acc: 0.8608 - val_loss: 0.3361 - val_acc: 0.8784\n",
            "Epoch 4/50\n",
            "42062/42062 [==============================] - 8s 199us/step - loss: 0.3410 - acc: 0.8763 - val_loss: 0.3158 - val_acc: 0.8840\n",
            "Epoch 5/50\n",
            "42062/42062 [==============================] - 8s 200us/step - loss: 0.3114 - acc: 0.8853 - val_loss: 0.2949 - val_acc: 0.8916\n",
            "Epoch 6/50\n",
            "42062/42062 [==============================] - 8s 200us/step - loss: 0.2924 - acc: 0.8925 - val_loss: 0.2989 - val_acc: 0.8892\n",
            "Epoch 7/50\n",
            " 6656/42062 [===>..........................] - ETA: 6s - loss: 0.2774 - acc: 0.8980"
          ],
          "name": "stdout"
        },
        {
          "output_type": "stream",
          "text": [
            "42062/42062 [==============================] - 8s 199us/step - loss: 0.2722 - acc: 0.8991 - val_loss: 0.2967 - val_acc: 0.8891\n",
            "Epoch 8/50\n",
            "42062/42062 [==============================] - 8s 200us/step - loss: 0.2599 - acc: 0.9033 - val_loss: 0.2568 - val_acc: 0.9050\n",
            "Epoch 9/50\n",
            "42062/42062 [==============================] - 8s 199us/step - loss: 0.2406 - acc: 0.9103 - val_loss: 0.2469 - val_acc: 0.9104\n",
            "Epoch 10/50\n",
            "42062/42062 [==============================] - 8s 200us/step - loss: 0.2289 - acc: 0.9148 - val_loss: 0.2455 - val_acc: 0.9122\n",
            "Epoch 11/50\n",
            " 3072/42062 [=>............................] - ETA: 6s - loss: 0.1980 - acc: 0.9277"
          ],
          "name": "stdout"
        },
        {
          "output_type": "stream",
          "text": [
            "42062/42062 [==============================] - 8s 199us/step - loss: 0.2155 - acc: 0.9194 - val_loss: 0.2439 - val_acc: 0.9118\n",
            "Epoch 12/50\n",
            "42062/42062 [==============================] - 8s 199us/step - loss: 0.2065 - acc: 0.9213 - val_loss: 0.2485 - val_acc: 0.9119\n",
            "Epoch 13/50\n",
            "42062/42062 [==============================] - 8s 199us/step - loss: 0.1946 - acc: 0.9278 - val_loss: 0.2367 - val_acc: 0.9165\n",
            "Epoch 14/50\n",
            "42062/42062 [==============================] - 8s 200us/step - loss: 0.1856 - acc: 0.9281 - val_loss: 0.2329 - val_acc: 0.9182\n",
            "Epoch 15/50\n",
            " 2560/42062 [>.............................] - ETA: 6s - loss: 0.1728 - acc: 0.9402"
          ],
          "name": "stdout"
        },
        {
          "output_type": "stream",
          "text": [
            "42062/42062 [==============================] - 8s 200us/step - loss: 0.1762 - acc: 0.9322 - val_loss: 0.2423 - val_acc: 0.9136\n",
            "Epoch 16/50\n",
            "42062/42062 [==============================] - 8s 200us/step - loss: 0.1688 - acc: 0.9361 - val_loss: 0.2330 - val_acc: 0.9194\n",
            "Epoch 17/50\n",
            "42062/42062 [==============================] - 8s 200us/step - loss: 0.1596 - acc: 0.9398 - val_loss: 0.2330 - val_acc: 0.9194\n",
            "Epoch 18/50\n",
            "42062/42062 [==============================] - 8s 198us/step - loss: 0.1514 - acc: 0.9430 - val_loss: 0.2314 - val_acc: 0.9209\n",
            "Epoch 19/50\n",
            " 2560/42062 [>.............................] - ETA: 6s - loss: 0.1509 - acc: 0.9395"
          ],
          "name": "stdout"
        },
        {
          "output_type": "stream",
          "text": [
            "42062/42062 [==============================] - 8s 199us/step - loss: 0.1449 - acc: 0.9446 - val_loss: 0.2311 - val_acc: 0.9242\n",
            "Epoch 20/50\n",
            "42062/42062 [==============================] - 8s 199us/step - loss: 0.1384 - acc: 0.9463 - val_loss: 0.2392 - val_acc: 0.9226\n",
            "Epoch 21/50\n",
            "42062/42062 [==============================] - 8s 199us/step - loss: 0.1296 - acc: 0.9506 - val_loss: 0.2350 - val_acc: 0.9196\n",
            "Epoch 22/50\n",
            "42062/42062 [==============================] - 8s 199us/step - loss: 0.1252 - acc: 0.9522 - val_loss: 0.2399 - val_acc: 0.9231\n",
            "Epoch 23/50\n",
            " 2560/42062 [>.............................] - ETA: 6s - loss: 0.1132 - acc: 0.9574"
          ],
          "name": "stdout"
        },
        {
          "output_type": "stream",
          "text": [
            "42062/42062 [==============================] - 8s 198us/step - loss: 0.1197 - acc: 0.9536 - val_loss: 0.2356 - val_acc: 0.9237\n",
            "Epoch 00023: early stopping\n",
            "TEST LOSS: 0.25602560620307924 \t TEST ACCURACY: 0.9170000000953674\n",
            "[0.25602560620307924, 0.9170000000953674] \n",
            "\n",
            "[[2.65935360e-02 6.69859156e-02 2.85621398e-01 3.17811983e-01\n",
            "  1.64748429e-01 3.20000000e+01 1.28000000e+02 6.40000000e+01\n",
            "  1.28000000e+02 6.40000000e+01 6.00000000e+00]]\n",
            "Train on 58404 samples, validate on 1596 samples\n",
            "Epoch 1/50\n",
            "40192/58404 [===================>..........] - ETA: 4s - loss: 0.6682 - acc: 0.7517"
          ],
          "name": "stdout"
        },
        {
          "output_type": "stream",
          "text": [
            "58404/58404 [==============================] - 13s 230us/step - loss: 0.6006 - acc: 0.7767 - val_loss: 0.3600 - val_acc: 0.8728\n",
            "Epoch 2/50\n",
            "58404/58404 [==============================] - 13s 226us/step - loss: 0.3852 - acc: 0.8602 - val_loss: 0.3191 - val_acc: 0.8741\n",
            "Epoch 3/50\n",
            "29760/58404 [==============>...............] - ETA: 6s - loss: 0.3368 - acc: 0.8758"
          ],
          "name": "stdout"
        },
        {
          "output_type": "stream",
          "text": [
            "58404/58404 [==============================] - 13s 225us/step - loss: 0.3325 - acc: 0.8774 - val_loss: 0.2715 - val_acc: 0.8941\n",
            "Epoch 4/50\n",
            "58404/58404 [==============================] - 13s 226us/step - loss: 0.3020 - acc: 0.8881 - val_loss: 0.2560 - val_acc: 0.9016\n",
            "Epoch 5/50\n",
            "27264/58404 [=============>................] - ETA: 6s - loss: 0.2858 - acc: 0.8939"
          ],
          "name": "stdout"
        },
        {
          "output_type": "stream",
          "text": [
            "58404/58404 [==============================] - 13s 225us/step - loss: 0.2875 - acc: 0.8934 - val_loss: 0.2486 - val_acc: 0.9073\n",
            "Epoch 6/50\n",
            "58404/58404 [==============================] - 13s 225us/step - loss: 0.2715 - acc: 0.8989 - val_loss: 0.2395 - val_acc: 0.9123\n",
            "Epoch 7/50\n",
            "26240/58404 [============>.................] - ETA: 7s - loss: 0.2568 - acc: 0.9050"
          ],
          "name": "stdout"
        },
        {
          "output_type": "stream",
          "text": [
            "58404/58404 [==============================] - 13s 227us/step - loss: 0.2595 - acc: 0.9047 - val_loss: 0.2348 - val_acc: 0.9104\n",
            "Epoch 8/50\n",
            "58404/58404 [==============================] - 13s 226us/step - loss: 0.2500 - acc: 0.9075 - val_loss: 0.2293 - val_acc: 0.9173\n",
            "Epoch 9/50\n",
            "26176/58404 [============>.................] - ETA: 7s - loss: 0.2437 - acc: 0.9074"
          ],
          "name": "stdout"
        },
        {
          "output_type": "stream",
          "text": [
            "58404/58404 [==============================] - 13s 226us/step - loss: 0.2401 - acc: 0.9106 - val_loss: 0.2300 - val_acc: 0.9110\n",
            "Epoch 10/50\n",
            "58404/58404 [==============================] - 13s 224us/step - loss: 0.2356 - acc: 0.9122 - val_loss: 0.2212 - val_acc: 0.9154\n",
            "Epoch 11/50\n",
            "26176/58404 [============>.................] - ETA: 7s - loss: 0.2264 - acc: 0.9160"
          ],
          "name": "stdout"
        },
        {
          "output_type": "stream",
          "text": [
            "58404/58404 [==============================] - 13s 225us/step - loss: 0.2294 - acc: 0.9144 - val_loss: 0.2164 - val_acc: 0.9179\n",
            "Epoch 12/50\n",
            "58404/58404 [==============================] - 13s 224us/step - loss: 0.2199 - acc: 0.9165 - val_loss: 0.2380 - val_acc: 0.9123\n",
            "Epoch 13/50\n",
            "26176/58404 [============>.................] - ETA: 7s - loss: 0.2120 - acc: 0.9195"
          ],
          "name": "stdout"
        },
        {
          "output_type": "stream",
          "text": [
            "58404/58404 [==============================] - 13s 223us/step - loss: 0.2142 - acc: 0.9199 - val_loss: 0.2381 - val_acc: 0.9016\n",
            "Epoch 14/50\n",
            "58404/58404 [==============================] - 13s 223us/step - loss: 0.2132 - acc: 0.9197 - val_loss: 0.2104 - val_acc: 0.9211\n",
            "Epoch 15/50\n",
            "26112/58404 [============>.................] - ETA: 7s - loss: 0.2075 - acc: 0.9224"
          ],
          "name": "stdout"
        },
        {
          "output_type": "stream",
          "text": [
            "58404/58404 [==============================] - 13s 225us/step - loss: 0.2071 - acc: 0.9228 - val_loss: 0.2235 - val_acc: 0.9198\n",
            "Epoch 16/50\n",
            "58404/58404 [==============================] - 13s 224us/step - loss: 0.2014 - acc: 0.9228 - val_loss: 0.2261 - val_acc: 0.9254\n",
            "Epoch 17/50\n",
            "25984/58404 [============>.................] - ETA: 7s - loss: 0.1973 - acc: 0.9272"
          ],
          "name": "stdout"
        },
        {
          "output_type": "stream",
          "text": [
            "58404/58404 [==============================] - 13s 225us/step - loss: 0.1989 - acc: 0.9253 - val_loss: 0.2160 - val_acc: 0.9229\n",
            "Epoch 18/50\n",
            "58404/58404 [==============================] - 13s 224us/step - loss: 0.1950 - acc: 0.9269 - val_loss: 0.2140 - val_acc: 0.9154\n",
            "Epoch 19/50\n",
            "26112/58404 [============>.................] - ETA: 7s - loss: 0.1846 - acc: 0.9294"
          ],
          "name": "stdout"
        },
        {
          "output_type": "stream",
          "text": [
            "58404/58404 [==============================] - 13s 224us/step - loss: 0.1903 - acc: 0.9272 - val_loss: 0.2200 - val_acc: 0.9148\n",
            "Epoch 20/50\n",
            "58404/58404 [==============================] - 13s 226us/step - loss: 0.1906 - acc: 0.9281 - val_loss: 0.2057 - val_acc: 0.9286\n",
            "Epoch 21/50\n",
            "26048/58404 [============>.................] - ETA: 7s - loss: 0.1854 - acc: 0.9299"
          ],
          "name": "stdout"
        },
        {
          "output_type": "stream",
          "text": [
            "58404/58404 [==============================] - 13s 226us/step - loss: 0.1864 - acc: 0.9300 - val_loss: 0.1958 - val_acc: 0.9223\n",
            "Epoch 22/50\n",
            "58404/58404 [==============================] - 13s 226us/step - loss: 0.1859 - acc: 0.9298 - val_loss: 0.2133 - val_acc: 0.9185\n",
            "Epoch 23/50\n",
            "25920/58404 [============>.................] - ETA: 7s - loss: 0.1788 - acc: 0.9329"
          ],
          "name": "stdout"
        },
        {
          "output_type": "stream",
          "text": [
            "58404/58404 [==============================] - 13s 226us/step - loss: 0.1837 - acc: 0.9305 - val_loss: 0.2045 - val_acc: 0.9242\n",
            "Epoch 24/50\n",
            "58404/58404 [==============================] - 13s 225us/step - loss: 0.1798 - acc: 0.9312 - val_loss: 0.2034 - val_acc: 0.9236\n",
            "Epoch 25/50\n",
            "25728/58404 [============>.................] - ETA: 7s - loss: 0.1707 - acc: 0.9353"
          ],
          "name": "stdout"
        },
        {
          "output_type": "stream",
          "text": [
            "58404/58404 [==============================] - 13s 224us/step - loss: 0.1783 - acc: 0.9324 - val_loss: 0.1970 - val_acc: 0.9223\n",
            "Epoch 26/50\n",
            "58404/58404 [==============================] - 13s 225us/step - loss: 0.1787 - acc: 0.9322 - val_loss: 0.2043 - val_acc: 0.9192\n",
            "Epoch 27/50\n",
            "26048/58404 [============>.................] - ETA: 7s - loss: 0.1682 - acc: 0.9357"
          ],
          "name": "stdout"
        },
        {
          "output_type": "stream",
          "text": [
            "58404/58404 [==============================] - 13s 225us/step - loss: 0.1726 - acc: 0.9345 - val_loss: 0.1965 - val_acc: 0.9292\n",
            "Epoch 00027: early stopping\n",
            "TEST LOSS: 0.23372843010425567 \t TEST ACCURACY: 0.9208\n",
            "[0.23372843010425567, 0.9208] \n",
            "\n",
            "[[  0.    0.    0.    0.5   0.5  32.  128.   64.  128.  128.    8. ]]\n",
            "Epoch 1/50\n",
            "60000/60000 [==============================] - 9s 148us/step - loss: 0.7475 - acc: 0.7269\n",
            "Epoch 2/50\n",
            "25344/60000 [===========>..................] - ETA: 4s - loss: 0.4832 - acc: 0.8266"
          ],
          "name": "stdout"
        },
        {
          "output_type": "stream",
          "text": [
            "60000/60000 [==============================] - 8s 133us/step - loss: 0.4583 - acc: 0.8355\n",
            "Epoch 3/50\n",
            "60000/60000 [==============================] - 8s 129us/step - loss: 0.3834 - acc: 0.8625\n",
            "Epoch 4/50\n",
            "60000/60000 [==============================] - 8s 127us/step - loss: 0.3479 - acc: 0.8758\n",
            "Epoch 5/50\n",
            "39040/60000 [==================>...........] - ETA: 2s - loss: 0.3266 - acc: 0.8832"
          ],
          "name": "stdout"
        },
        {
          "output_type": "stream",
          "text": [
            "60000/60000 [==============================] - 8s 126us/step - loss: 0.3223 - acc: 0.8849\n",
            "Epoch 6/50\n",
            "60000/60000 [==============================] - 8s 128us/step - loss: 0.3034 - acc: 0.8908\n",
            "Epoch 7/50\n",
            "60000/60000 [==============================] - 8s 128us/step - loss: 0.2893 - acc: 0.8966\n",
            "Epoch 8/50\n",
            "42368/60000 [====================>.........] - ETA: 2s - loss: 0.2799 - acc: 0.8992"
          ],
          "name": "stdout"
        },
        {
          "output_type": "stream",
          "text": [
            "60000/60000 [==============================] - 8s 127us/step - loss: 0.2780 - acc: 0.8995\n",
            "Epoch 9/50\n",
            "60000/60000 [==============================] - 8s 127us/step - loss: 0.2658 - acc: 0.9046\n",
            "Epoch 10/50\n",
            "60000/60000 [==============================] - 7s 124us/step - loss: 0.2556 - acc: 0.9068\n",
            "Epoch 11/50\n",
            "47232/60000 [======================>.......] - ETA: 1s - loss: 0.2500 - acc: 0.9102"
          ],
          "name": "stdout"
        },
        {
          "output_type": "stream",
          "text": [
            "60000/60000 [==============================] - 7s 125us/step - loss: 0.2497 - acc: 0.9104\n",
            "Epoch 12/50\n",
            "60000/60000 [==============================] - 8s 125us/step - loss: 0.2403 - acc: 0.9124\n",
            "Epoch 13/50\n",
            "60000/60000 [==============================] - 8s 127us/step - loss: 0.2332 - acc: 0.9168\n",
            "Epoch 14/50\n",
            "44416/60000 [=====================>........] - ETA: 1s - loss: 0.2310 - acc: 0.9167"
          ],
          "name": "stdout"
        },
        {
          "output_type": "stream",
          "text": [
            "60000/60000 [==============================] - 8s 128us/step - loss: 0.2292 - acc: 0.9168\n",
            "Epoch 15/50\n",
            "60000/60000 [==============================] - 8s 127us/step - loss: 0.2204 - acc: 0.9210\n",
            "Epoch 16/50\n",
            "60000/60000 [==============================] - 7s 125us/step - loss: 0.2126 - acc: 0.9238\n",
            "Epoch 17/50\n",
            "46848/60000 [======================>.......] - ETA: 1s - loss: 0.2112 - acc: 0.9237"
          ],
          "name": "stdout"
        },
        {
          "output_type": "stream",
          "text": [
            "60000/60000 [==============================] - 7s 124us/step - loss: 0.2104 - acc: 0.9240\n",
            "Epoch 18/50\n",
            "60000/60000 [==============================] - 7s 121us/step - loss: 0.2085 - acc: 0.9238\n",
            "Epoch 19/50\n",
            "60000/60000 [==============================] - 7s 123us/step - loss: 0.2004 - acc: 0.9272\n",
            "Epoch 20/50\n",
            "49536/60000 [=======================>......] - ETA: 1s - loss: 0.1958 - acc: 0.9282"
          ],
          "name": "stdout"
        },
        {
          "output_type": "stream",
          "text": [
            "60000/60000 [==============================] - 7s 123us/step - loss: 0.1957 - acc: 0.9286\n",
            "Epoch 21/50\n",
            "60000/60000 [==============================] - 7s 124us/step - loss: 0.1923 - acc: 0.9298\n",
            "Epoch 22/50\n",
            "60000/60000 [==============================] - 7s 123us/step - loss: 0.1871 - acc: 0.9314\n",
            "Epoch 23/50\n",
            "49664/60000 [=======================>......] - ETA: 1s - loss: 0.1822 - acc: 0.9334"
          ],
          "name": "stdout"
        },
        {
          "output_type": "stream",
          "text": [
            "60000/60000 [==============================] - 7s 124us/step - loss: 0.1825 - acc: 0.9333\n",
            "Epoch 24/50\n",
            "60000/60000 [==============================] - 7s 123us/step - loss: 0.1813 - acc: 0.9326\n",
            "Epoch 25/50\n",
            "60000/60000 [==============================] - 7s 123us/step - loss: 0.1768 - acc: 0.9355\n",
            "Epoch 26/50\n",
            "50176/60000 [========================>.....] - ETA: 1s - loss: 0.1713 - acc: 0.9355"
          ],
          "name": "stdout"
        },
        {
          "output_type": "stream",
          "text": [
            "60000/60000 [==============================] - 7s 124us/step - loss: 0.1725 - acc: 0.9351\n",
            "Epoch 27/50\n",
            "60000/60000 [==============================] - 7s 124us/step - loss: 0.1719 - acc: 0.9377\n",
            "Epoch 28/50\n",
            "60000/60000 [==============================] - 7s 123us/step - loss: 0.1682 - acc: 0.9376\n",
            "Epoch 29/50\n",
            "48768/60000 [=======================>......] - ETA: 1s - loss: 0.1593 - acc: 0.9421"
          ],
          "name": "stdout"
        },
        {
          "output_type": "stream",
          "text": [
            "60000/60000 [==============================] - 7s 125us/step - loss: 0.1630 - acc: 0.9407\n",
            "Epoch 30/50\n",
            "60000/60000 [==============================] - 7s 123us/step - loss: 0.1593 - acc: 0.9415\n",
            "Epoch 31/50\n",
            "60000/60000 [==============================] - 7s 124us/step - loss: 0.1584 - acc: 0.9427\n",
            "Epoch 32/50\n",
            "49408/60000 [=======================>......] - ETA: 1s - loss: 0.1519 - acc: 0.9430"
          ],
          "name": "stdout"
        },
        {
          "output_type": "stream",
          "text": [
            "60000/60000 [==============================] - 7s 123us/step - loss: 0.1532 - acc: 0.9427\n",
            "Epoch 33/50\n",
            "60000/60000 [==============================] - 7s 124us/step - loss: 0.1523 - acc: 0.9430\n",
            "Epoch 34/50\n",
            "60000/60000 [==============================] - 7s 124us/step - loss: 0.1512 - acc: 0.9450\n",
            "Epoch 35/50\n",
            "47744/60000 [======================>.......] - ETA: 1s - loss: 0.1424 - acc: 0.9472"
          ],
          "name": "stdout"
        },
        {
          "output_type": "stream",
          "text": [
            "60000/60000 [==============================] - 7s 125us/step - loss: 0.1445 - acc: 0.9465\n",
            "Epoch 36/50\n",
            "60000/60000 [==============================] - 7s 124us/step - loss: 0.1474 - acc: 0.9452\n",
            "Epoch 37/50\n",
            "60000/60000 [==============================] - 7s 123us/step - loss: 0.1410 - acc: 0.9473\n",
            "Epoch 38/50\n",
            "48384/60000 [=======================>......] - ETA: 1s - loss: 0.1375 - acc: 0.9483"
          ],
          "name": "stdout"
        },
        {
          "output_type": "stream",
          "text": [
            "60000/60000 [==============================] - 7s 124us/step - loss: 0.1406 - acc: 0.9479\n",
            "Epoch 39/50\n",
            "60000/60000 [==============================] - 7s 122us/step - loss: 0.1405 - acc: 0.9480\n",
            "Epoch 40/50\n",
            "60000/60000 [==============================] - 7s 123us/step - loss: 0.1382 - acc: 0.9487\n",
            "Epoch 41/50\n",
            "49920/60000 [=======================>......] - ETA: 1s - loss: 0.1346 - acc: 0.9493"
          ],
          "name": "stdout"
        },
        {
          "output_type": "stream",
          "text": [
            "60000/60000 [==============================] - 7s 125us/step - loss: 0.1358 - acc: 0.9488\n",
            "Epoch 42/50\n",
            "60000/60000 [==============================] - 7s 124us/step - loss: 0.1325 - acc: 0.9511\n",
            "Epoch 43/50\n",
            "60000/60000 [==============================] - 7s 122us/step - loss: 0.1299 - acc: 0.9513\n",
            "Epoch 44/50\n",
            "49664/60000 [=======================>......] - ETA: 1s - loss: 0.1277 - acc: 0.9524"
          ],
          "name": "stdout"
        },
        {
          "output_type": "stream",
          "text": [
            "60000/60000 [==============================] - 7s 123us/step - loss: 0.1294 - acc: 0.9520\n",
            "Epoch 45/50\n",
            "60000/60000 [==============================] - 7s 122us/step - loss: 0.1267 - acc: 0.9534\n",
            "Epoch 46/50\n",
            "60000/60000 [==============================] - 7s 123us/step - loss: 0.1225 - acc: 0.9556\n",
            "Epoch 47/50\n",
            "50176/60000 [========================>.....] - ETA: 1s - loss: 0.1203 - acc: 0.9550"
          ],
          "name": "stdout"
        },
        {
          "output_type": "stream",
          "text": [
            "60000/60000 [==============================] - 7s 122us/step - loss: 0.1212 - acc: 0.9547\n",
            "Epoch 48/50\n",
            "60000/60000 [==============================] - 7s 122us/step - loss: 0.1253 - acc: 0.9537\n",
            "Epoch 49/50\n",
            "60000/60000 [==============================] - 7s 122us/step - loss: 0.1226 - acc: 0.9544\n",
            "Epoch 50/50\n",
            "50560/60000 [========================>.....] - ETA: 1s - loss: 0.1206 - acc: 0.9560"
          ],
          "name": "stdout"
        },
        {
          "output_type": "stream",
          "text": [
            "60000/60000 [==============================] - 7s 123us/step - loss: 0.1214 - acc: 0.9552\n",
            "TEST LOSS: 0.2852250992298126 \t TEST ACCURACY: 0.9161\n",
            "[0.2852250992298126, 0.9161] \n",
            "\n",
            "[[  0.    0.    0.    0.5   0.5  64.  128.   64.  128.   64.    8. ]]\n",
            "Epoch 1/50\n",
            "60000/60000 [==============================] - 15s 254us/step - loss: 0.6677 - acc: 0.7571\n",
            "Epoch 2/50\n",
            " 8576/60000 [===>..........................] - ETA: 12s - loss: 0.4570 - acc: 0.8315"
          ],
          "name": "stdout"
        },
        {
          "output_type": "stream",
          "text": [
            "60000/60000 [==============================] - 14s 239us/step - loss: 0.4160 - acc: 0.8488\n",
            "Epoch 3/50\n",
            "60000/60000 [==============================] - 14s 241us/step - loss: 0.3611 - acc: 0.8701\n",
            "Epoch 4/50\n",
            "30784/60000 [==============>...............] - ETA: 7s - loss: 0.3264 - acc: 0.8808"
          ],
          "name": "stdout"
        },
        {
          "output_type": "stream",
          "text": [
            "60000/60000 [==============================] - 15s 250us/step - loss: 0.3239 - acc: 0.8832\n",
            "Epoch 5/50\n",
            "60000/60000 [==============================] - 15s 251us/step - loss: 0.3029 - acc: 0.8910\n",
            "Epoch 6/50\n",
            "36288/60000 [=================>............] - ETA: 5s - loss: 0.2835 - acc: 0.8970"
          ],
          "name": "stdout"
        },
        {
          "output_type": "stream",
          "text": [
            "60000/60000 [==============================] - 15s 250us/step - loss: 0.2860 - acc: 0.8962\n",
            "Epoch 7/50\n",
            "60000/60000 [==============================] - 15s 248us/step - loss: 0.2751 - acc: 0.9012\n",
            "Epoch 8/50\n",
            "38592/60000 [==================>...........] - ETA: 5s - loss: 0.2584 - acc: 0.9064"
          ],
          "name": "stdout"
        },
        {
          "output_type": "stream",
          "text": [
            "60000/60000 [==============================] - 15s 253us/step - loss: 0.2603 - acc: 0.9056\n",
            "Epoch 9/50\n",
            "60000/60000 [==============================] - 15s 253us/step - loss: 0.2494 - acc: 0.9084\n",
            "Epoch 10/50\n",
            "36864/60000 [=================>............] - ETA: 5s - loss: 0.2388 - acc: 0.9130"
          ],
          "name": "stdout"
        },
        {
          "output_type": "stream",
          "text": [
            "60000/60000 [==============================] - 15s 254us/step - loss: 0.2396 - acc: 0.9136\n",
            "Epoch 11/50\n",
            "60000/60000 [==============================] - 15s 255us/step - loss: 0.2351 - acc: 0.9155\n",
            "Epoch 12/50\n",
            "34496/60000 [================>.............] - ETA: 6s - loss: 0.2212 - acc: 0.9208"
          ],
          "name": "stdout"
        },
        {
          "output_type": "stream",
          "text": [
            "60000/60000 [==============================] - 15s 254us/step - loss: 0.2244 - acc: 0.9191\n",
            "Epoch 13/50\n",
            "60000/60000 [==============================] - 15s 257us/step - loss: 0.2180 - acc: 0.9206\n",
            "Epoch 14/50\n",
            "32832/60000 [===============>..............] - ETA: 6s - loss: 0.2123 - acc: 0.9227"
          ],
          "name": "stdout"
        },
        {
          "output_type": "stream",
          "text": [
            "60000/60000 [==============================] - 15s 257us/step - loss: 0.2128 - acc: 0.9226\n",
            "Epoch 15/50\n",
            "60000/60000 [==============================] - 15s 254us/step - loss: 0.2048 - acc: 0.9249\n",
            "Epoch 16/50\n",
            "35392/60000 [================>.............] - ETA: 6s - loss: 0.1974 - acc: 0.9277"
          ],
          "name": "stdout"
        },
        {
          "output_type": "stream",
          "text": [
            "60000/60000 [==============================] - 15s 250us/step - loss: 0.2002 - acc: 0.9266\n",
            "Epoch 17/50\n",
            "60000/60000 [==============================] - 15s 248us/step - loss: 0.1996 - acc: 0.9262\n",
            "Epoch 18/50\n",
            "37760/60000 [=================>............] - ETA: 5s - loss: 0.1894 - acc: 0.9318"
          ],
          "name": "stdout"
        },
        {
          "output_type": "stream",
          "text": [
            "60000/60000 [==============================] - 15s 251us/step - loss: 0.1923 - acc: 0.9309\n",
            "Epoch 19/50\n",
            "60000/60000 [==============================] - 15s 252us/step - loss: 0.1835 - acc: 0.9312\n",
            "Epoch 20/50\n",
            "38144/60000 [==================>...........] - ETA: 5s - loss: 0.1789 - acc: 0.9329"
          ],
          "name": "stdout"
        },
        {
          "output_type": "stream",
          "text": [
            "60000/60000 [==============================] - 15s 247us/step - loss: 0.1825 - acc: 0.9318\n",
            "Epoch 21/50\n",
            "60000/60000 [==============================] - 15s 248us/step - loss: 0.1765 - acc: 0.9338\n",
            "Epoch 22/50\n",
            "38784/60000 [==================>...........] - ETA: 5s - loss: 0.1678 - acc: 0.9374"
          ],
          "name": "stdout"
        },
        {
          "output_type": "stream",
          "text": [
            "60000/60000 [==============================] - 15s 247us/step - loss: 0.1723 - acc: 0.9359\n",
            "Epoch 23/50\n",
            "60000/60000 [==============================] - 15s 251us/step - loss: 0.1728 - acc: 0.9361\n",
            "Epoch 24/50\n",
            "38528/60000 [==================>...........] - ETA: 5s - loss: 0.1652 - acc: 0.9378"
          ],
          "name": "stdout"
        },
        {
          "output_type": "stream",
          "text": [
            "60000/60000 [==============================] - 15s 251us/step - loss: 0.1677 - acc: 0.9378\n",
            "Epoch 25/50\n",
            "60000/60000 [==============================] - 15s 248us/step - loss: 0.1636 - acc: 0.9401\n",
            "Epoch 26/50\n",
            "38720/60000 [==================>...........] - ETA: 5s - loss: 0.1558 - acc: 0.9429"
          ],
          "name": "stdout"
        },
        {
          "output_type": "stream",
          "text": [
            "60000/60000 [==============================] - 15s 251us/step - loss: 0.1626 - acc: 0.9399\n",
            "Epoch 27/50\n",
            "60000/60000 [==============================] - 15s 251us/step - loss: 0.1576 - acc: 0.9414\n",
            "Epoch 28/50\n",
            "38016/60000 [==================>...........] - ETA: 5s - loss: 0.1550 - acc: 0.9436"
          ],
          "name": "stdout"
        },
        {
          "output_type": "stream",
          "text": [
            "60000/60000 [==============================] - 15s 250us/step - loss: 0.1560 - acc: 0.9432\n",
            "Epoch 29/50\n",
            "60000/60000 [==============================] - 15s 250us/step - loss: 0.1546 - acc: 0.9439\n",
            "Epoch 30/50\n",
            "38144/60000 [==================>...........] - ETA: 5s - loss: 0.1468 - acc: 0.9450"
          ],
          "name": "stdout"
        },
        {
          "output_type": "stream",
          "text": [
            "60000/60000 [==============================] - 15s 251us/step - loss: 0.1486 - acc: 0.9448\n",
            "Epoch 31/50\n",
            "60000/60000 [==============================] - 15s 250us/step - loss: 0.1499 - acc: 0.9444\n",
            "Epoch 32/50\n",
            "38784/60000 [==================>...........] - ETA: 5s - loss: 0.1417 - acc: 0.9475"
          ],
          "name": "stdout"
        },
        {
          "output_type": "stream",
          "text": [
            "60000/60000 [==============================] - 15s 248us/step - loss: 0.1443 - acc: 0.9466\n",
            "Epoch 33/50\n",
            "60000/60000 [==============================] - 15s 248us/step - loss: 0.1449 - acc: 0.9470\n",
            "Epoch 34/50\n",
            "39680/60000 [==================>...........] - ETA: 5s - loss: 0.1392 - acc: 0.9471"
          ],
          "name": "stdout"
        },
        {
          "output_type": "stream",
          "text": [
            "60000/60000 [==============================] - 15s 248us/step - loss: 0.1412 - acc: 0.9480\n",
            "Epoch 35/50\n",
            "60000/60000 [==============================] - 15s 250us/step - loss: 0.1391 - acc: 0.9487\n",
            "Epoch 36/50\n",
            "39424/60000 [==================>...........] - ETA: 5s - loss: 0.1346 - acc: 0.9508"
          ],
          "name": "stdout"
        },
        {
          "output_type": "stream",
          "text": [
            "60000/60000 [==============================] - 15s 248us/step - loss: 0.1380 - acc: 0.9491\n",
            "Epoch 37/50\n",
            "60000/60000 [==============================] - 15s 249us/step - loss: 0.1384 - acc: 0.9482\n",
            "Epoch 38/50\n",
            "38528/60000 [==================>...........] - ETA: 5s - loss: 0.1330 - acc: 0.9513"
          ],
          "name": "stdout"
        },
        {
          "output_type": "stream",
          "text": [
            "60000/60000 [==============================] - 15s 249us/step - loss: 0.1338 - acc: 0.9517\n",
            "Epoch 39/50\n",
            "60000/60000 [==============================] - 15s 248us/step - loss: 0.1313 - acc: 0.9518\n",
            "Epoch 40/50\n",
            "38848/60000 [==================>...........] - ETA: 5s - loss: 0.1279 - acc: 0.9526"
          ],
          "name": "stdout"
        },
        {
          "output_type": "stream",
          "text": [
            "60000/60000 [==============================] - 15s 250us/step - loss: 0.1295 - acc: 0.9521\n",
            "Epoch 41/50\n",
            "60000/60000 [==============================] - 15s 252us/step - loss: 0.1263 - acc: 0.9546\n",
            "Epoch 42/50\n",
            "37568/60000 [=================>............] - ETA: 5s - loss: 0.1240 - acc: 0.9548"
          ],
          "name": "stdout"
        },
        {
          "output_type": "stream",
          "text": [
            "60000/60000 [==============================] - 15s 249us/step - loss: 0.1259 - acc: 0.9542\n",
            "Epoch 43/50\n",
            "60000/60000 [==============================] - 15s 251us/step - loss: 0.1238 - acc: 0.9553\n",
            "Epoch 44/50\n",
            "38720/60000 [==================>...........] - ETA: 5s - loss: 0.1169 - acc: 0.9561"
          ],
          "name": "stdout"
        },
        {
          "output_type": "stream",
          "text": [
            "60000/60000 [==============================] - 15s 247us/step - loss: 0.1200 - acc: 0.9553\n",
            "Epoch 45/50\n",
            "60000/60000 [==============================] - 15s 248us/step - loss: 0.1221 - acc: 0.9559\n",
            "Epoch 46/50\n",
            "39168/60000 [==================>...........] - ETA: 5s - loss: 0.1142 - acc: 0.9584"
          ],
          "name": "stdout"
        },
        {
          "output_type": "stream",
          "text": [
            "60000/60000 [==============================] - 15s 250us/step - loss: 0.1193 - acc: 0.9564\n",
            "Epoch 47/50\n",
            "60000/60000 [==============================] - 15s 250us/step - loss: 0.1172 - acc: 0.9570\n",
            "Epoch 48/50\n",
            "38208/60000 [==================>...........] - ETA: 5s - loss: 0.1140 - acc: 0.9583"
          ],
          "name": "stdout"
        },
        {
          "output_type": "stream",
          "text": [
            "60000/60000 [==============================] - 15s 249us/step - loss: 0.1172 - acc: 0.9567\n",
            "Epoch 49/50\n",
            "60000/60000 [==============================] - 15s 248us/step - loss: 0.1161 - acc: 0.9569\n",
            "Epoch 50/50\n",
            "39040/60000 [==================>...........] - ETA: 5s - loss: 0.1084 - acc: 0.9616"
          ],
          "name": "stdout"
        },
        {
          "output_type": "stream",
          "text": [
            "60000/60000 [==============================] - 15s 248us/step - loss: 0.1132 - acc: 0.9592\n",
            "TEST LOSS: 0.29098871030807494 \t TEST ACCURACY: 0.9196\n",
            "[0.29098871030807494, 0.9196] \n",
            "\n",
            "[[0.00000000e+00 6.83363408e-02 0.00000000e+00 5.00000000e-01\n",
            "  5.00000000e-01 1.60000000e+01 1.28000000e+02 6.40000000e+01\n",
            "  1.28000000e+02 6.40000000e+01 8.00000000e+00]]\n",
            "Epoch 1/50\n",
            "53632/60000 [=========================>....] - ETA: 1s - loss: 0.7244 - acc: 0.7322"
          ],
          "name": "stdout"
        },
        {
          "output_type": "stream",
          "text": [
            "60000/60000 [==============================] - 13s 221us/step - loss: 0.7003 - acc: 0.7416\n",
            "Epoch 2/50\n",
            "60000/60000 [==============================] - 12s 206us/step - loss: 0.4474 - acc: 0.8390\n",
            "Epoch 3/50\n",
            "49600/60000 [=======================>......] - ETA: 2s - loss: 0.3819 - acc: 0.8622"
          ],
          "name": "stdout"
        },
        {
          "output_type": "stream",
          "text": [
            "60000/60000 [==============================] - 12s 204us/step - loss: 0.3813 - acc: 0.8628\n",
            "Epoch 4/50\n",
            "60000/60000 [==============================] - 12s 205us/step - loss: 0.3450 - acc: 0.8765\n",
            "Epoch 5/50\n",
            "48896/60000 [=======================>......] - ETA: 2s - loss: 0.3254 - acc: 0.8847"
          ],
          "name": "stdout"
        },
        {
          "output_type": "stream",
          "text": [
            "60000/60000 [==============================] - 12s 204us/step - loss: 0.3231 - acc: 0.8853\n",
            "Epoch 6/50\n",
            "60000/60000 [==============================] - 12s 205us/step - loss: 0.3071 - acc: 0.8882\n",
            "Epoch 7/50\n",
            "48448/60000 [=======================>......] - ETA: 2s - loss: 0.2944 - acc: 0.8945"
          ],
          "name": "stdout"
        },
        {
          "output_type": "stream",
          "text": [
            "60000/60000 [==============================] - 12s 204us/step - loss: 0.2960 - acc: 0.8938\n",
            "Epoch 8/50\n",
            "60000/60000 [==============================] - 12s 206us/step - loss: 0.2834 - acc: 0.8970\n",
            "Epoch 9/50\n",
            "47552/60000 [======================>.......] - ETA: 2s - loss: 0.2757 - acc: 0.8990"
          ],
          "name": "stdout"
        },
        {
          "output_type": "stream",
          "text": [
            "60000/60000 [==============================] - 12s 205us/step - loss: 0.2750 - acc: 0.8998\n",
            "Epoch 10/50\n",
            "60000/60000 [==============================] - 12s 205us/step - loss: 0.2681 - acc: 0.9033\n",
            "Epoch 11/50\n",
            "47488/60000 [======================>.......] - ETA: 2s - loss: 0.2586 - acc: 0.9061"
          ],
          "name": "stdout"
        },
        {
          "output_type": "stream",
          "text": [
            "60000/60000 [==============================] - 12s 204us/step - loss: 0.2595 - acc: 0.9059\n",
            "Epoch 12/50\n",
            "60000/60000 [==============================] - 12s 205us/step - loss: 0.2519 - acc: 0.9084\n",
            "Epoch 13/50\n",
            "46976/60000 [======================>.......] - ETA: 2s - loss: 0.2477 - acc: 0.9097"
          ],
          "name": "stdout"
        },
        {
          "output_type": "stream",
          "text": [
            "60000/60000 [==============================] - 12s 205us/step - loss: 0.2484 - acc: 0.9092\n",
            "Epoch 14/50\n",
            "60000/60000 [==============================] - 12s 204us/step - loss: 0.2433 - acc: 0.9113\n",
            "Epoch 15/50\n",
            "47680/60000 [======================>.......] - ETA: 2s - loss: 0.2374 - acc: 0.9110"
          ],
          "name": "stdout"
        },
        {
          "output_type": "stream",
          "text": [
            "60000/60000 [==============================] - 12s 204us/step - loss: 0.2393 - acc: 0.9104\n",
            "Epoch 16/50\n",
            "60000/60000 [==============================] - 12s 205us/step - loss: 0.2346 - acc: 0.9133\n",
            "Epoch 17/50\n",
            "47296/60000 [======================>.......] - ETA: 2s - loss: 0.2277 - acc: 0.9177"
          ],
          "name": "stdout"
        },
        {
          "output_type": "stream",
          "text": [
            "60000/60000 [==============================] - 12s 205us/step - loss: 0.2311 - acc: 0.9160\n",
            "Epoch 18/50\n",
            "60000/60000 [==============================] - 12s 207us/step - loss: 0.2282 - acc: 0.9170\n",
            "Epoch 19/50\n",
            "47360/60000 [======================>.......] - ETA: 2s - loss: 0.2204 - acc: 0.9183"
          ],
          "name": "stdout"
        },
        {
          "output_type": "stream",
          "text": [
            "60000/60000 [==============================] - 12s 203us/step - loss: 0.2216 - acc: 0.9181\n",
            "Epoch 20/50\n",
            "60000/60000 [==============================] - 12s 204us/step - loss: 0.2177 - acc: 0.9212\n",
            "Epoch 21/50\n",
            "48960/60000 [=======================>......] - ETA: 2s - loss: 0.2150 - acc: 0.9203"
          ],
          "name": "stdout"
        },
        {
          "output_type": "stream",
          "text": [
            "60000/60000 [==============================] - 12s 202us/step - loss: 0.2165 - acc: 0.9197\n",
            "Epoch 22/50\n",
            "60000/60000 [==============================] - 12s 203us/step - loss: 0.2124 - acc: 0.9217\n",
            "Epoch 23/50\n",
            "47680/60000 [======================>.......] - ETA: 2s - loss: 0.2142 - acc: 0.9213"
          ],
          "name": "stdout"
        },
        {
          "output_type": "stream",
          "text": [
            "60000/60000 [==============================] - 12s 206us/step - loss: 0.2149 - acc: 0.9217\n",
            "Epoch 24/50\n",
            "60000/60000 [==============================] - 12s 205us/step - loss: 0.2106 - acc: 0.9233\n",
            "Epoch 25/50\n",
            "46592/60000 [======================>.......] - ETA: 2s - loss: 0.2072 - acc: 0.9239"
          ],
          "name": "stdout"
        },
        {
          "output_type": "stream",
          "text": [
            "60000/60000 [==============================] - 12s 205us/step - loss: 0.2089 - acc: 0.9234\n",
            "Epoch 26/50\n",
            "60000/60000 [==============================] - 12s 203us/step - loss: 0.2018 - acc: 0.9254\n",
            "Epoch 27/50\n",
            "47424/60000 [======================>.......] - ETA: 2s - loss: 0.1977 - acc: 0.9269"
          ],
          "name": "stdout"
        },
        {
          "output_type": "stream",
          "text": [
            "60000/60000 [==============================] - 12s 206us/step - loss: 0.2004 - acc: 0.9259\n",
            "Epoch 28/50\n",
            "60000/60000 [==============================] - 12s 204us/step - loss: 0.1990 - acc: 0.9271\n",
            "Epoch 29/50\n",
            "48128/60000 [=======================>......] - ETA: 2s - loss: 0.1964 - acc: 0.9272"
          ],
          "name": "stdout"
        },
        {
          "output_type": "stream",
          "text": [
            "60000/60000 [==============================] - 12s 204us/step - loss: 0.1961 - acc: 0.9278\n",
            "Epoch 30/50\n",
            "60000/60000 [==============================] - 12s 206us/step - loss: 0.1980 - acc: 0.9273\n",
            "Epoch 31/50\n",
            "46528/60000 [======================>.......] - ETA: 2s - loss: 0.1902 - acc: 0.9275"
          ],
          "name": "stdout"
        },
        {
          "output_type": "stream",
          "text": [
            "60000/60000 [==============================] - 12s 205us/step - loss: 0.1919 - acc: 0.9274\n",
            "Epoch 32/50\n",
            "60000/60000 [==============================] - 12s 206us/step - loss: 0.1916 - acc: 0.9286\n",
            "Epoch 33/50\n",
            "46464/60000 [======================>.......] - ETA: 2s - loss: 0.1862 - acc: 0.9316"
          ],
          "name": "stdout"
        },
        {
          "output_type": "stream",
          "text": [
            "60000/60000 [==============================] - 12s 205us/step - loss: 0.1882 - acc: 0.9315\n",
            "Epoch 34/50\n",
            "60000/60000 [==============================] - 12s 204us/step - loss: 0.1895 - acc: 0.9302\n",
            "Epoch 35/50\n",
            "47040/60000 [======================>.......] - ETA: 2s - loss: 0.1844 - acc: 0.9310"
          ],
          "name": "stdout"
        },
        {
          "output_type": "stream",
          "text": [
            "60000/60000 [==============================] - 12s 205us/step - loss: 0.1850 - acc: 0.9309\n",
            "Epoch 36/50\n",
            "60000/60000 [==============================] - 12s 204us/step - loss: 0.1860 - acc: 0.9304\n",
            "Epoch 37/50\n",
            "47552/60000 [======================>.......] - ETA: 2s - loss: 0.1827 - acc: 0.9321"
          ],
          "name": "stdout"
        },
        {
          "output_type": "stream",
          "text": [
            "60000/60000 [==============================] - 12s 204us/step - loss: 0.1836 - acc: 0.9320\n",
            "Epoch 38/50\n",
            "60000/60000 [==============================] - 12s 203us/step - loss: 0.1820 - acc: 0.9332\n",
            "Epoch 39/50\n",
            "48320/60000 [=======================>......] - ETA: 2s - loss: 0.1787 - acc: 0.9343"
          ],
          "name": "stdout"
        },
        {
          "output_type": "stream",
          "text": [
            "60000/60000 [==============================] - 12s 206us/step - loss: 0.1795 - acc: 0.9341\n",
            "Epoch 40/50\n",
            "60000/60000 [==============================] - 12s 205us/step - loss: 0.1791 - acc: 0.9333\n",
            "Epoch 41/50\n",
            "47552/60000 [======================>.......] - ETA: 2s - loss: 0.1782 - acc: 0.9336"
          ],
          "name": "stdout"
        },
        {
          "output_type": "stream",
          "text": [
            "60000/60000 [==============================] - 12s 204us/step - loss: 0.1784 - acc: 0.9336\n",
            "Epoch 42/50\n",
            "60000/60000 [==============================] - 12s 205us/step - loss: 0.1752 - acc: 0.9350\n",
            "Epoch 43/50\n",
            "46912/60000 [======================>.......] - ETA: 2s - loss: 0.1768 - acc: 0.9359"
          ],
          "name": "stdout"
        },
        {
          "output_type": "stream",
          "text": [
            "60000/60000 [==============================] - 12s 205us/step - loss: 0.1763 - acc: 0.9354\n",
            "Epoch 44/50\n",
            "60000/60000 [==============================] - 12s 204us/step - loss: 0.1763 - acc: 0.9358\n",
            "Epoch 45/50\n",
            "47104/60000 [======================>.......] - ETA: 2s - loss: 0.1705 - acc: 0.9368"
          ],
          "name": "stdout"
        },
        {
          "output_type": "stream",
          "text": [
            "60000/60000 [==============================] - 12s 205us/step - loss: 0.1727 - acc: 0.9357\n",
            "Epoch 46/50\n",
            "60000/60000 [==============================] - 12s 206us/step - loss: 0.1733 - acc: 0.9356\n",
            "Epoch 47/50\n",
            "46912/60000 [======================>.......] - ETA: 2s - loss: 0.1683 - acc: 0.9372"
          ],
          "name": "stdout"
        },
        {
          "output_type": "stream",
          "text": [
            "60000/60000 [==============================] - 12s 204us/step - loss: 0.1729 - acc: 0.9356\n",
            "Epoch 48/50\n",
            "60000/60000 [==============================] - 12s 204us/step - loss: 0.1697 - acc: 0.9377\n",
            "Epoch 49/50\n",
            "46848/60000 [======================>.......] - ETA: 2s - loss: 0.1700 - acc: 0.9375"
          ],
          "name": "stdout"
        },
        {
          "output_type": "stream",
          "text": [
            "60000/60000 [==============================] - 12s 205us/step - loss: 0.1706 - acc: 0.9372\n",
            "Epoch 50/50\n",
            "60000/60000 [==============================] - 12s 206us/step - loss: 0.1689 - acc: 0.9371\n",
            "TEST LOSS: 0.24537637569308282 \t TEST ACCURACY: 0.9162\n",
            "[0.24537637569308282, 0.9162] \n",
            "\n",
            "[[  0.25922207   0.2125635    0.38321882   0.33827814   0.1663288\n",
            "   16.          64.          32.         128.          64.\n",
            "    5.        ]]\n",
            "Train on 44446 samples, validate on 15554 samples\n",
            "Epoch 1/50\n",
            "27264/44446 [=================>............] - ETA: 3s - loss: 0.9365 - acc: 0.6501"
          ],
          "name": "stdout"
        },
        {
          "output_type": "stream",
          "text": [
            "44446/44446 [==============================] - 10s 231us/step - loss: 0.8173 - acc: 0.6924 - val_loss: 0.5114 - val_acc: 0.8168\n",
            "Epoch 2/50\n",
            "44446/44446 [==============================] - 9s 203us/step - loss: 0.5498 - acc: 0.7951 - val_loss: 0.4198 - val_acc: 0.8473\n",
            "Epoch 3/50\n",
            "44446/44446 [==============================] - 9s 204us/step - loss: 0.4720 - acc: 0.8252 - val_loss: 0.3690 - val_acc: 0.8650\n",
            "Epoch 4/50\n",
            " 6272/44446 [===>..........................] - ETA: 7s - loss: 0.4460 - acc: 0.8375"
          ],
          "name": "stdout"
        },
        {
          "output_type": "stream",
          "text": [
            "44446/44446 [==============================] - 9s 204us/step - loss: 0.4274 - acc: 0.8434 - val_loss: 0.3392 - val_acc: 0.8773\n",
            "Epoch 5/50\n",
            "44446/44446 [==============================] - 9s 204us/step - loss: 0.3989 - acc: 0.8548 - val_loss: 0.3243 - val_acc: 0.8786\n",
            "Epoch 6/50\n",
            "44446/44446 [==============================] - 9s 204us/step - loss: 0.3773 - acc: 0.8617 - val_loss: 0.3106 - val_acc: 0.8897\n",
            "Epoch 7/50\n",
            " 2880/44446 [>.............................] - ETA: 7s - loss: 0.3632 - acc: 0.8701"
          ],
          "name": "stdout"
        },
        {
          "output_type": "stream",
          "text": [
            "44446/44446 [==============================] - 9s 204us/step - loss: 0.3645 - acc: 0.8654 - val_loss: 0.2975 - val_acc: 0.8916\n",
            "Epoch 8/50\n",
            "44446/44446 [==============================] - 9s 205us/step - loss: 0.3549 - acc: 0.8705 - val_loss: 0.2919 - val_acc: 0.8933\n",
            "Epoch 9/50\n",
            "44446/44446 [==============================] - 9s 204us/step - loss: 0.3424 - acc: 0.8732 - val_loss: 0.2824 - val_acc: 0.8966\n",
            "Epoch 10/50\n",
            " 2240/44446 [>.............................] - ETA: 7s - loss: 0.3230 - acc: 0.8750"
          ],
          "name": "stdout"
        },
        {
          "output_type": "stream",
          "text": [
            "44446/44446 [==============================] - 9s 203us/step - loss: 0.3352 - acc: 0.8769 - val_loss: 0.2769 - val_acc: 0.8979\n",
            "Epoch 11/50\n",
            "44446/44446 [==============================] - 9s 203us/step - loss: 0.3309 - acc: 0.8807 - val_loss: 0.2727 - val_acc: 0.8992\n",
            "Epoch 12/50\n",
            "44446/44446 [==============================] - 9s 204us/step - loss: 0.3278 - acc: 0.8801 - val_loss: 0.2715 - val_acc: 0.9002\n",
            "Epoch 13/50\n",
            " 2240/44446 [>.............................] - ETA: 7s - loss: 0.3281 - acc: 0.8763"
          ],
          "name": "stdout"
        },
        {
          "output_type": "stream",
          "text": [
            "44446/44446 [==============================] - 9s 205us/step - loss: 0.3213 - acc: 0.8815 - val_loss: 0.2661 - val_acc: 0.9013\n",
            "Epoch 14/50\n",
            "44446/44446 [==============================] - 9s 203us/step - loss: 0.3180 - acc: 0.8830 - val_loss: 0.2664 - val_acc: 0.9017\n",
            "Epoch 15/50\n",
            "44446/44446 [==============================] - 9s 204us/step - loss: 0.3109 - acc: 0.8856 - val_loss: 0.2703 - val_acc: 0.8989\n",
            "Epoch 16/50\n",
            " 1920/44446 [>.............................] - ETA: 7s - loss: 0.2827 - acc: 0.8911"
          ],
          "name": "stdout"
        },
        {
          "output_type": "stream",
          "text": [
            "44446/44446 [==============================] - 9s 204us/step - loss: 0.3100 - acc: 0.8847 - val_loss: 0.2567 - val_acc: 0.9036\n",
            "Epoch 17/50\n",
            "44446/44446 [==============================] - 9s 203us/step - loss: 0.3086 - acc: 0.8867 - val_loss: 0.2573 - val_acc: 0.9055\n",
            "Epoch 18/50\n",
            "44446/44446 [==============================] - 9s 202us/step - loss: 0.3039 - acc: 0.8883 - val_loss: 0.2621 - val_acc: 0.9018\n",
            "Epoch 19/50\n",
            " 1920/44446 [>.............................] - ETA: 7s - loss: 0.3117 - acc: 0.8797"
          ],
          "name": "stdout"
        },
        {
          "output_type": "stream",
          "text": [
            "44446/44446 [==============================] - 9s 203us/step - loss: 0.3012 - acc: 0.8873 - val_loss: 0.2565 - val_acc: 0.9059\n",
            "Epoch 20/50\n",
            "44446/44446 [==============================] - 9s 204us/step - loss: 0.3002 - acc: 0.8885 - val_loss: 0.2551 - val_acc: 0.9038\n",
            "Epoch 21/50\n",
            "44446/44446 [==============================] - 9s 204us/step - loss: 0.2978 - acc: 0.8884 - val_loss: 0.2529 - val_acc: 0.9077\n",
            "Epoch 22/50\n",
            " 1920/44446 [>.............................] - ETA: 7s - loss: 0.2779 - acc: 0.9016"
          ],
          "name": "stdout"
        },
        {
          "output_type": "stream",
          "text": [
            "44446/44446 [==============================] - 9s 205us/step - loss: 0.2948 - acc: 0.8912 - val_loss: 0.2510 - val_acc: 0.9066\n",
            "Epoch 23/50\n",
            "44446/44446 [==============================] - 9s 204us/step - loss: 0.2954 - acc: 0.8909 - val_loss: 0.2511 - val_acc: 0.9068\n",
            "Epoch 24/50\n",
            "44446/44446 [==============================] - 9s 206us/step - loss: 0.2925 - acc: 0.8919 - val_loss: 0.2582 - val_acc: 0.9009\n",
            "Epoch 25/50\n",
            " 1600/44446 [>.............................] - ETA: 8s - loss: 0.2859 - acc: 0.8906"
          ],
          "name": "stdout"
        },
        {
          "output_type": "stream",
          "text": [
            "44446/44446 [==============================] - 9s 207us/step - loss: 0.2900 - acc: 0.8935 - val_loss: 0.2540 - val_acc: 0.9058\n",
            "Epoch 26/50\n",
            "44446/44446 [==============================] - 9s 205us/step - loss: 0.2872 - acc: 0.8944 - val_loss: 0.2520 - val_acc: 0.9055\n",
            "Epoch 27/50\n",
            "44446/44446 [==============================] - 9s 205us/step - loss: 0.2864 - acc: 0.8940 - val_loss: 0.2475 - val_acc: 0.9082\n",
            "Epoch 28/50\n",
            " 1536/44446 [>.............................] - ETA: 8s - loss: 0.3373 - acc: 0.8737"
          ],
          "name": "stdout"
        },
        {
          "output_type": "stream",
          "text": [
            "44446/44446 [==============================] - 9s 207us/step - loss: 0.2896 - acc: 0.8941 - val_loss: 0.2516 - val_acc: 0.9081\n",
            "Epoch 29/50\n",
            "44446/44446 [==============================] - 9s 207us/step - loss: 0.2827 - acc: 0.8961 - val_loss: 0.2511 - val_acc: 0.9059\n",
            "Epoch 30/50\n",
            "44446/44446 [==============================] - 9s 208us/step - loss: 0.2830 - acc: 0.8955 - val_loss: 0.2460 - val_acc: 0.9074\n",
            "Epoch 31/50\n",
            "  640/44446 [..............................] - ETA: 8s - loss: 0.2848 - acc: 0.8844"
          ],
          "name": "stdout"
        },
        {
          "output_type": "stream",
          "text": [
            "44446/44446 [==============================] - 9s 210us/step - loss: 0.2747 - acc: 0.8977 - val_loss: 0.2631 - val_acc: 0.9006\n",
            "Epoch 32/50\n",
            "44446/44446 [==============================] - 9s 211us/step - loss: 0.2811 - acc: 0.8971 - val_loss: 0.2445 - val_acc: 0.9096\n",
            "Epoch 33/50\n",
            "44446/44446 [==============================] - 9s 210us/step - loss: 0.2810 - acc: 0.8960 - val_loss: 0.2389 - val_acc: 0.9103\n"
          ],
          "name": "stdout"
        },
        {
          "output_type": "stream",
          "text": [
            "Epoch 34/50\n",
            "44446/44446 [==============================] - 9s 210us/step - loss: 0.2750 - acc: 0.8982 - val_loss: 0.2463 - val_acc: 0.9089\n",
            "Epoch 35/50\n",
            "44446/44446 [==============================] - 9s 210us/step - loss: 0.2761 - acc: 0.8988 - val_loss: 0.2402 - val_acc: 0.9108\n",
            "Epoch 36/50\n",
            "40640/44446 [==========================>...] - ETA: 0s - loss: 0.2777 - acc: 0.8970"
          ],
          "name": "stdout"
        },
        {
          "output_type": "stream",
          "text": [
            "44446/44446 [==============================] - 9s 210us/step - loss: 0.2770 - acc: 0.8975 - val_loss: 0.2381 - val_acc: 0.9121\n",
            "Epoch 37/50\n",
            "44446/44446 [==============================] - 9s 209us/step - loss: 0.2778 - acc: 0.8952 - val_loss: 0.2398 - val_acc: 0.9113\n",
            "Epoch 38/50\n",
            "44446/44446 [==============================] - 9s 210us/step - loss: 0.2729 - acc: 0.8980 - val_loss: 0.2393 - val_acc: 0.9128\n",
            "Epoch 39/50\n",
            " 6464/44446 [===>..........................] - ETA: 7s - loss: 0.2613 - acc: 0.9025"
          ],
          "name": "stdout"
        },
        {
          "output_type": "stream",
          "text": [
            "44446/44446 [==============================] - 9s 209us/step - loss: 0.2723 - acc: 0.8990 - val_loss: 0.2386 - val_acc: 0.9109\n",
            "Epoch 40/50\n",
            "44446/44446 [==============================] - 9s 209us/step - loss: 0.2745 - acc: 0.8974 - val_loss: 0.2403 - val_acc: 0.9110\n",
            "Epoch 41/50\n",
            "44446/44446 [==============================] - 9s 209us/step - loss: 0.2716 - acc: 0.8981 - val_loss: 0.2338 - val_acc: 0.9128\n",
            "Epoch 42/50\n",
            "  384/44446 [..............................] - ETA: 8s - loss: 0.1965 - acc: 0.9219 "
          ],
          "name": "stdout"
        },
        {
          "output_type": "stream",
          "text": [
            "44446/44446 [==============================] - 9s 210us/step - loss: 0.2675 - acc: 0.9002 - val_loss: 0.2350 - val_acc: 0.9120\n",
            "Epoch 43/50\n",
            "44446/44446 [==============================] - 9s 209us/step - loss: 0.2698 - acc: 0.8991 - val_loss: 0.2421 - val_acc: 0.9100\n",
            "Epoch 44/50\n",
            "44446/44446 [==============================] - 9s 208us/step - loss: 0.2694 - acc: 0.9007 - val_loss: 0.2381 - val_acc: 0.9110\n",
            "Epoch 45/50\n",
            "   64/44446 [..............................] - ETA: 12s - loss: 0.1235 - acc: 0.9688"
          ],
          "name": "stdout"
        },
        {
          "output_type": "stream",
          "text": [
            "44446/44446 [==============================] - 9s 210us/step - loss: 0.2695 - acc: 0.8976 - val_loss: 0.2338 - val_acc: 0.9124\n",
            "Epoch 46/50\n",
            "44446/44446 [==============================] - 9s 210us/step - loss: 0.2646 - acc: 0.9008 - val_loss: 0.2438 - val_acc: 0.9092\n",
            "Epoch 00046: early stopping\n",
            "TEST LOSS: 0.25682785868644714 \t TEST ACCURACY: 0.9031\n",
            "[0.25682785868644714, 0.9031] \n",
            "\n",
            "[[2.42943641e-01 2.22899481e-01 2.60982396e-01 2.13840670e-01\n",
            "  3.85935097e-01 1.28000000e+02 6.40000000e+01 6.40000000e+01\n",
            "  1.28000000e+02 5.12000000e+02 5.00000000e+00]]\n",
            "Train on 45423 samples, validate on 14577 samples\n",
            "Epoch 1/50\n",
            "35840/45423 [======================>.......] - ETA: 1s - loss: 1.1449 - acc: 0.5814"
          ],
          "name": "stdout"
        },
        {
          "output_type": "stream",
          "text": [
            "45423/45423 [==============================] - 8s 186us/step - loss: 1.0486 - acc: 0.6158 - val_loss: 0.5542 - val_acc: 0.7865\n",
            "Epoch 2/50\n",
            "45423/45423 [==============================] - 7s 147us/step - loss: 0.5826 - acc: 0.7818 - val_loss: 0.4466 - val_acc: 0.8353\n",
            "Epoch 3/50\n",
            "45423/45423 [==============================] - 7s 146us/step - loss: 0.4876 - acc: 0.8208 - val_loss: 0.3895 - val_acc: 0.8529\n",
            "Epoch 4/50\n",
            "40448/45423 [=========================>....] - ETA: 0s - loss: 0.4364 - acc: 0.8398"
          ],
          "name": "stdout"
        },
        {
          "output_type": "stream",
          "text": [
            "45423/45423 [==============================] - 7s 145us/step - loss: 0.4346 - acc: 0.8405 - val_loss: 0.3532 - val_acc: 0.8675\n",
            "Epoch 5/50\n",
            "45423/45423 [==============================] - 7s 146us/step - loss: 0.4006 - acc: 0.8538 - val_loss: 0.3246 - val_acc: 0.8785\n",
            "Epoch 6/50\n",
            "45423/45423 [==============================] - 7s 147us/step - loss: 0.3713 - acc: 0.8646 - val_loss: 0.3110 - val_acc: 0.8822\n",
            "Epoch 7/50\n",
            "43008/45423 [===========================>..] - ETA: 0s - loss: 0.3517 - acc: 0.8716"
          ],
          "name": "stdout"
        },
        {
          "output_type": "stream",
          "text": [
            "45423/45423 [==============================] - 7s 146us/step - loss: 0.3510 - acc: 0.8719 - val_loss: 0.2974 - val_acc: 0.8903\n",
            "Epoch 8/50\n",
            "45423/45423 [==============================] - 7s 146us/step - loss: 0.3366 - acc: 0.8768 - val_loss: 0.2854 - val_acc: 0.8935\n",
            "Epoch 9/50\n",
            "45423/45423 [==============================] - 7s 145us/step - loss: 0.3223 - acc: 0.8831 - val_loss: 0.2760 - val_acc: 0.8958\n",
            "Epoch 10/50\n",
            "39424/45423 [=========================>....] - ETA: 0s - loss: 0.3124 - acc: 0.8851"
          ],
          "name": "stdout"
        },
        {
          "output_type": "stream",
          "text": [
            "45423/45423 [==============================] - 7s 147us/step - loss: 0.3128 - acc: 0.8854 - val_loss: 0.2781 - val_acc: 0.8965\n",
            "Epoch 11/50\n",
            "45423/45423 [==============================] - 7s 145us/step - loss: 0.2970 - acc: 0.8915 - val_loss: 0.2578 - val_acc: 0.9043\n",
            "Epoch 12/50\n",
            "45423/45423 [==============================] - 7s 145us/step - loss: 0.2914 - acc: 0.8938 - val_loss: 0.2530 - val_acc: 0.9053\n",
            "Epoch 13/50\n",
            "39424/45423 [=========================>....] - ETA: 0s - loss: 0.2793 - acc: 0.8980"
          ],
          "name": "stdout"
        },
        {
          "output_type": "stream",
          "text": [
            "45423/45423 [==============================] - 7s 145us/step - loss: 0.2782 - acc: 0.8986 - val_loss: 0.2469 - val_acc: 0.9077\n",
            "Epoch 14/50\n",
            "45423/45423 [==============================] - 7s 145us/step - loss: 0.2750 - acc: 0.8999 - val_loss: 0.2468 - val_acc: 0.9087\n",
            "Epoch 15/50\n",
            "45423/45423 [==============================] - 7s 144us/step - loss: 0.2678 - acc: 0.9023 - val_loss: 0.2477 - val_acc: 0.9076\n",
            "Epoch 16/50\n",
            "39424/45423 [=========================>....] - ETA: 0s - loss: 0.2690 - acc: 0.9017"
          ],
          "name": "stdout"
        },
        {
          "output_type": "stream",
          "text": [
            "45423/45423 [==============================] - 7s 146us/step - loss: 0.2686 - acc: 0.9015 - val_loss: 0.2386 - val_acc: 0.9104\n",
            "Epoch 17/50\n",
            "45423/45423 [==============================] - 7s 146us/step - loss: 0.2553 - acc: 0.9069 - val_loss: 0.2326 - val_acc: 0.9133\n",
            "Epoch 18/50\n",
            "45423/45423 [==============================] - 7s 146us/step - loss: 0.2546 - acc: 0.9061 - val_loss: 0.2302 - val_acc: 0.9150\n",
            "Epoch 19/50\n",
            "42496/45423 [===========================>..] - ETA: 0s - loss: 0.2483 - acc: 0.9089"
          ],
          "name": "stdout"
        },
        {
          "output_type": "stream",
          "text": [
            "45423/45423 [==============================] - 7s 146us/step - loss: 0.2485 - acc: 0.9089 - val_loss: 0.2432 - val_acc: 0.9074\n",
            "Epoch 20/50\n",
            "45423/45423 [==============================] - 7s 145us/step - loss: 0.2437 - acc: 0.9106 - val_loss: 0.2282 - val_acc: 0.9142\n",
            "Epoch 21/50\n",
            "45423/45423 [==============================] - 7s 146us/step - loss: 0.2380 - acc: 0.9118 - val_loss: 0.2259 - val_acc: 0.9163\n",
            "Epoch 22/50\n",
            "43008/45423 [===========================>..] - ETA: 0s - loss: 0.2298 - acc: 0.9162"
          ],
          "name": "stdout"
        },
        {
          "output_type": "stream",
          "text": [
            "45423/45423 [==============================] - 7s 145us/step - loss: 0.2310 - acc: 0.9157 - val_loss: 0.2327 - val_acc: 0.9111\n",
            "Epoch 23/50\n",
            "45423/45423 [==============================] - 7s 145us/step - loss: 0.2327 - acc: 0.9134 - val_loss: 0.2236 - val_acc: 0.9163\n",
            "Epoch 24/50\n",
            "45423/45423 [==============================] - 7s 146us/step - loss: 0.2269 - acc: 0.9156 - val_loss: 0.2222 - val_acc: 0.9159\n",
            "Epoch 25/50\n",
            "42496/45423 [===========================>..] - ETA: 0s - loss: 0.2210 - acc: 0.9195"
          ],
          "name": "stdout"
        },
        {
          "output_type": "stream",
          "text": [
            "45423/45423 [==============================] - 7s 147us/step - loss: 0.2224 - acc: 0.9188 - val_loss: 0.2201 - val_acc: 0.9182\n",
            "Epoch 26/50\n",
            "45423/45423 [==============================] - 7s 146us/step - loss: 0.2192 - acc: 0.9184 - val_loss: 0.2167 - val_acc: 0.9192\n",
            "Epoch 27/50\n",
            "45423/45423 [==============================] - 7s 145us/step - loss: 0.2167 - acc: 0.9199 - val_loss: 0.2160 - val_acc: 0.9182\n",
            "Epoch 28/50\n",
            "43520/45423 [===========================>..] - ETA: 0s - loss: 0.2103 - acc: 0.9220"
          ],
          "name": "stdout"
        },
        {
          "output_type": "stream",
          "text": [
            "45423/45423 [==============================] - 7s 145us/step - loss: 0.2118 - acc: 0.9213 - val_loss: 0.2159 - val_acc: 0.9186\n",
            "Epoch 29/50\n",
            "45423/45423 [==============================] - 7s 145us/step - loss: 0.2098 - acc: 0.9216 - val_loss: 0.2179 - val_acc: 0.9195\n",
            "Epoch 30/50\n",
            "45423/45423 [==============================] - 7s 146us/step - loss: 0.2091 - acc: 0.9234 - val_loss: 0.2116 - val_acc: 0.9209\n",
            "Epoch 31/50\n",
            "40960/45423 [==========================>...] - ETA: 0s - loss: 0.2046 - acc: 0.9236"
          ],
          "name": "stdout"
        },
        {
          "output_type": "stream",
          "text": [
            "45423/45423 [==============================] - 7s 146us/step - loss: 0.2056 - acc: 0.9233 - val_loss: 0.2108 - val_acc: 0.9221\n",
            "Epoch 32/50\n",
            "45423/45423 [==============================] - 7s 146us/step - loss: 0.2031 - acc: 0.9248 - val_loss: 0.2177 - val_acc: 0.9180\n",
            "Epoch 33/50\n",
            "45423/45423 [==============================] - 7s 146us/step - loss: 0.2000 - acc: 0.9262 - val_loss: 0.2126 - val_acc: 0.9212\n",
            "Epoch 34/50\n",
            "40960/45423 [==========================>...] - ETA: 0s - loss: 0.1946 - acc: 0.9284"
          ],
          "name": "stdout"
        },
        {
          "output_type": "stream",
          "text": [
            "45423/45423 [==============================] - 7s 146us/step - loss: 0.1964 - acc: 0.9275 - val_loss: 0.2135 - val_acc: 0.9206\n",
            "Epoch 35/50\n",
            "45423/45423 [==============================] - 7s 145us/step - loss: 0.1955 - acc: 0.9273 - val_loss: 0.2131 - val_acc: 0.9204\n",
            "Epoch 36/50\n",
            "45423/45423 [==============================] - 7s 146us/step - loss: 0.1928 - acc: 0.9276 - val_loss: 0.2086 - val_acc: 0.9247\n",
            "Epoch 37/50\n",
            "44032/45423 [============================>.] - ETA: 0s - loss: 0.1882 - acc: 0.9308"
          ],
          "name": "stdout"
        },
        {
          "output_type": "stream",
          "text": [
            "45423/45423 [==============================] - 7s 145us/step - loss: 0.1886 - acc: 0.9307 - val_loss: 0.2094 - val_acc: 0.9226\n",
            "Epoch 38/50\n",
            "45423/45423 [==============================] - 7s 146us/step - loss: 0.1909 - acc: 0.9292 - val_loss: 0.2066 - val_acc: 0.9232\n",
            "Epoch 39/50\n",
            "45423/45423 [==============================] - 7s 146us/step - loss: 0.1846 - acc: 0.9309 - val_loss: 0.2113 - val_acc: 0.9236\n",
            "Epoch 40/50\n",
            "40448/45423 [=========================>....] - ETA: 0s - loss: 0.1844 - acc: 0.9309"
          ],
          "name": "stdout"
        },
        {
          "output_type": "stream",
          "text": [
            "45423/45423 [==============================] - 7s 146us/step - loss: 0.1849 - acc: 0.9306 - val_loss: 0.2055 - val_acc: 0.9248\n",
            "Epoch 41/50\n",
            "45423/45423 [==============================] - 7s 146us/step - loss: 0.1858 - acc: 0.9303 - val_loss: 0.2087 - val_acc: 0.9239\n",
            "Epoch 42/50\n",
            "45423/45423 [==============================] - 7s 146us/step - loss: 0.1827 - acc: 0.9319 - val_loss: 0.2097 - val_acc: 0.9247\n",
            "Epoch 43/50\n",
            "39424/45423 [=========================>....] - ETA: 0s - loss: 0.1797 - acc: 0.9339"
          ],
          "name": "stdout"
        },
        {
          "output_type": "stream",
          "text": [
            "45423/45423 [==============================] - 7s 145us/step - loss: 0.1791 - acc: 0.9339 - val_loss: 0.2149 - val_acc: 0.9232\n",
            "Epoch 44/50\n",
            "45423/45423 [==============================] - 7s 145us/step - loss: 0.1780 - acc: 0.9341 - val_loss: 0.2043 - val_acc: 0.9251\n",
            "Epoch 45/50\n",
            "45423/45423 [==============================] - 7s 146us/step - loss: 0.1774 - acc: 0.9322 - val_loss: 0.2077 - val_acc: 0.9243\n",
            "Epoch 46/50\n",
            "37376/45423 [=======================>......] - ETA: 1s - loss: 0.1695 - acc: 0.9356"
          ],
          "name": "stdout"
        },
        {
          "output_type": "stream",
          "text": [
            "45423/45423 [==============================] - 7s 145us/step - loss: 0.1723 - acc: 0.9347 - val_loss: 0.2097 - val_acc: 0.9232\n",
            "Epoch 47/50\n",
            "45423/45423 [==============================] - 7s 145us/step - loss: 0.1756 - acc: 0.9344 - val_loss: 0.2047 - val_acc: 0.9262\n",
            "Epoch 48/50\n",
            "45423/45423 [==============================] - 7s 145us/step - loss: 0.1700 - acc: 0.9376 - val_loss: 0.2102 - val_acc: 0.9258\n",
            "Epoch 49/50\n",
            "38912/45423 [========================>.....] - ETA: 0s - loss: 0.1705 - acc: 0.9348"
          ],
          "name": "stdout"
        },
        {
          "output_type": "stream",
          "text": [
            "45423/45423 [==============================] - 7s 146us/step - loss: 0.1708 - acc: 0.9352 - val_loss: 0.2115 - val_acc: 0.9242\n",
            "Epoch 00049: early stopping\n",
            "TEST LOSS: 0.2308410674571991 \t TEST ACCURACY: 0.9201000002861023\n",
            "[0.2308410674571991, 0.9201000002861023] \n",
            "\n",
            "[[2.09458299e-01 4.31494941e-01 2.34464579e-02 3.07421799e-01\n",
            "  2.50708732e-02 1.28000000e+02 1.28000000e+02 6.40000000e+01\n",
            "  1.28000000e+02 5.12000000e+02 6.00000000e+00]]\n",
            "Train on 47432 samples, validate on 12568 samples\n",
            "Epoch 1/50\n",
            "47432/47432 [==============================] - 10s 201us/step - loss: 0.8776 - acc: 0.6717 - val_loss: 0.5321 - val_acc: 0.8039\n",
            "Epoch 2/50\n",
            "30208/47432 [==================>...........] - ETA: 2s - loss: 0.5211 - acc: 0.8038"
          ],
          "name": "stdout"
        },
        {
          "output_type": "stream",
          "text": [
            "47432/47432 [==============================] - 8s 160us/step - loss: 0.5043 - acc: 0.8116 - val_loss: 0.4062 - val_acc: 0.8531\n",
            "Epoch 3/50\n",
            "47432/47432 [==============================] - 8s 161us/step - loss: 0.4254 - acc: 0.8417 - val_loss: 0.3647 - val_acc: 0.8690\n",
            "Epoch 4/50\n",
            "47432/47432 [==============================] - 8s 160us/step - loss: 0.3823 - acc: 0.8594 - val_loss: 0.3334 - val_acc: 0.8798\n",
            "Epoch 5/50\n",
            "44032/47432 [==========================>...] - ETA: 0s - loss: 0.3562 - acc: 0.8705"
          ],
          "name": "stdout"
        },
        {
          "output_type": "stream",
          "text": [
            "47432/47432 [==============================] - 8s 161us/step - loss: 0.3534 - acc: 0.8715 - val_loss: 0.3112 - val_acc: 0.8878\n",
            "Epoch 6/50\n",
            "47432/47432 [==============================] - 8s 160us/step - loss: 0.3282 - acc: 0.8785 - val_loss: 0.2887 - val_acc: 0.8938\n",
            "Epoch 7/50\n",
            "47432/47432 [==============================] - 8s 161us/step - loss: 0.3098 - acc: 0.8861 - val_loss: 0.2819 - val_acc: 0.8958\n",
            "Epoch 8/50\n",
            "46592/47432 [============================>.] - ETA: 0s - loss: 0.2961 - acc: 0.8904"
          ],
          "name": "stdout"
        },
        {
          "output_type": "stream",
          "text": [
            "47432/47432 [==============================] - 8s 161us/step - loss: 0.2960 - acc: 0.8902 - val_loss: 0.2706 - val_acc: 0.9004\n",
            "Epoch 9/50\n",
            "47432/47432 [==============================] - 8s 161us/step - loss: 0.2822 - acc: 0.8959 - val_loss: 0.2662 - val_acc: 0.9003\n",
            "Epoch 10/50\n",
            "47432/47432 [==============================] - 8s 161us/step - loss: 0.2709 - acc: 0.9002 - val_loss: 0.2549 - val_acc: 0.9063\n",
            "Epoch 11/50\n",
            "46592/47432 [============================>.] - ETA: 0s - loss: 0.2588 - acc: 0.9046"
          ],
          "name": "stdout"
        },
        {
          "output_type": "stream",
          "text": [
            "47432/47432 [==============================] - 8s 160us/step - loss: 0.2588 - acc: 0.9047 - val_loss: 0.2559 - val_acc: 0.9062\n",
            "Epoch 12/50\n",
            "47432/47432 [==============================] - 8s 161us/step - loss: 0.2540 - acc: 0.9062 - val_loss: 0.2441 - val_acc: 0.9112\n",
            "Epoch 13/50\n",
            "47432/47432 [==============================] - 8s 161us/step - loss: 0.2439 - acc: 0.9113 - val_loss: 0.2501 - val_acc: 0.9095\n",
            "Epoch 14/50\n",
            "46080/47432 [============================>.] - ETA: 0s - loss: 0.2378 - acc: 0.9105"
          ],
          "name": "stdout"
        },
        {
          "output_type": "stream",
          "text": [
            "47432/47432 [==============================] - 8s 160us/step - loss: 0.2378 - acc: 0.9105 - val_loss: 0.2350 - val_acc: 0.9144\n",
            "Epoch 15/50\n",
            "47432/47432 [==============================] - 8s 160us/step - loss: 0.2326 - acc: 0.9139 - val_loss: 0.2317 - val_acc: 0.9173\n",
            "Epoch 16/50\n",
            "47432/47432 [==============================] - 8s 161us/step - loss: 0.2257 - acc: 0.9166 - val_loss: 0.2440 - val_acc: 0.9089\n",
            "Epoch 17/50\n",
            "46080/47432 [============================>.] - ETA: 0s - loss: 0.2150 - acc: 0.9214"
          ],
          "name": "stdout"
        },
        {
          "output_type": "stream",
          "text": [
            "47432/47432 [==============================] - 8s 160us/step - loss: 0.2150 - acc: 0.9214 - val_loss: 0.2269 - val_acc: 0.9167\n",
            "Epoch 18/50\n",
            "47432/47432 [==============================] - 8s 160us/step - loss: 0.2106 - acc: 0.9205 - val_loss: 0.2561 - val_acc: 0.9067\n",
            "Epoch 19/50\n",
            "47432/47432 [==============================] - 8s 159us/step - loss: 0.2115 - acc: 0.9210 - val_loss: 0.2264 - val_acc: 0.9173\n",
            "Epoch 20/50\n",
            "46080/47432 [============================>.] - ETA: 0s - loss: 0.2008 - acc: 0.9257"
          ],
          "name": "stdout"
        },
        {
          "output_type": "stream",
          "text": [
            "47432/47432 [==============================] - 8s 160us/step - loss: 0.2014 - acc: 0.9256 - val_loss: 0.2287 - val_acc: 0.9168\n",
            "Epoch 21/50\n",
            "47432/47432 [==============================] - 8s 161us/step - loss: 0.1952 - acc: 0.9262 - val_loss: 0.2208 - val_acc: 0.9182\n",
            "Epoch 22/50\n",
            "47432/47432 [==============================] - 8s 160us/step - loss: 0.1945 - acc: 0.9274 - val_loss: 0.2176 - val_acc: 0.9219\n",
            "Epoch 23/50\n",
            "46080/47432 [============================>.] - ETA: 0s - loss: 0.1866 - acc: 0.9311"
          ],
          "name": "stdout"
        },
        {
          "output_type": "stream",
          "text": [
            "47432/47432 [==============================] - 8s 160us/step - loss: 0.1867 - acc: 0.9311 - val_loss: 0.2293 - val_acc: 0.9176\n",
            "Epoch 24/50\n",
            "47432/47432 [==============================] - 8s 159us/step - loss: 0.1833 - acc: 0.9307 - val_loss: 0.2202 - val_acc: 0.9221\n",
            "Epoch 25/50\n",
            "47432/47432 [==============================] - 8s 161us/step - loss: 0.1814 - acc: 0.9325 - val_loss: 0.2201 - val_acc: 0.9215\n",
            "Epoch 26/50\n",
            "46080/47432 [============================>.] - ETA: 0s - loss: 0.1752 - acc: 0.9335"
          ],
          "name": "stdout"
        },
        {
          "output_type": "stream",
          "text": [
            "47432/47432 [==============================] - 8s 160us/step - loss: 0.1750 - acc: 0.9336 - val_loss: 0.2171 - val_acc: 0.9227\n",
            "Epoch 27/50\n",
            "47432/47432 [==============================] - 8s 160us/step - loss: 0.1722 - acc: 0.9361 - val_loss: 0.2214 - val_acc: 0.9228\n",
            "Epoch 28/50\n",
            "47432/47432 [==============================] - 8s 159us/step - loss: 0.1702 - acc: 0.9359 - val_loss: 0.2197 - val_acc: 0.9220\n",
            "Epoch 29/50\n",
            "46080/47432 [============================>.] - ETA: 0s - loss: 0.1630 - acc: 0.9380"
          ],
          "name": "stdout"
        },
        {
          "output_type": "stream",
          "text": [
            "47432/47432 [==============================] - 8s 161us/step - loss: 0.1634 - acc: 0.9378 - val_loss: 0.2173 - val_acc: 0.9215\n",
            "Epoch 30/50\n",
            "47432/47432 [==============================] - 8s 161us/step - loss: 0.1639 - acc: 0.9387 - val_loss: 0.2182 - val_acc: 0.9224\n",
            "Epoch 31/50\n",
            "47432/47432 [==============================] - 8s 160us/step - loss: 0.1586 - acc: 0.9396 - val_loss: 0.2246 - val_acc: 0.9197\n",
            "Epoch 32/50\n",
            "46080/47432 [============================>.] - ETA: 0s - loss: 0.1569 - acc: 0.9397"
          ],
          "name": "stdout"
        },
        {
          "output_type": "stream",
          "text": [
            "47432/47432 [==============================] - 8s 159us/step - loss: 0.1571 - acc: 0.9398 - val_loss: 0.2123 - val_acc: 0.9243\n",
            "Epoch 33/50\n",
            "47432/47432 [==============================] - 8s 160us/step - loss: 0.1522 - acc: 0.9422 - val_loss: 0.2271 - val_acc: 0.9210\n",
            "Epoch 34/50\n",
            "47432/47432 [==============================] - 8s 161us/step - loss: 0.1513 - acc: 0.9424 - val_loss: 0.2198 - val_acc: 0.9223\n",
            "Epoch 35/50\n",
            "46080/47432 [============================>.] - ETA: 0s - loss: 0.1456 - acc: 0.9458"
          ],
          "name": "stdout"
        },
        {
          "output_type": "stream",
          "text": [
            "47432/47432 [==============================] - 8s 160us/step - loss: 0.1455 - acc: 0.9456 - val_loss: 0.2197 - val_acc: 0.9219\n",
            "Epoch 36/50\n",
            "47432/47432 [==============================] - 8s 160us/step - loss: 0.1469 - acc: 0.9439 - val_loss: 0.2212 - val_acc: 0.9223\n",
            "Epoch 37/50\n",
            "47432/47432 [==============================] - 8s 161us/step - loss: 0.1422 - acc: 0.9468 - val_loss: 0.2258 - val_acc: 0.9222\n",
            "Epoch 38/50\n",
            "46080/47432 [============================>.] - ETA: 0s - loss: 0.1405 - acc: 0.9460"
          ],
          "name": "stdout"
        },
        {
          "output_type": "stream",
          "text": [
            "47432/47432 [==============================] - 8s 160us/step - loss: 0.1407 - acc: 0.9461 - val_loss: 0.2264 - val_acc: 0.9223\n",
            "Epoch 00038: early stopping\n",
            "TEST LOSS: 0.23923141028881073 \t TEST ACCURACY: 0.9211999999046325\n",
            "[0.23923141028881073, 0.9211999999046325] \n",
            "\n",
            "[[8.36260077e-02 7.62554113e-02 1.52949202e-01 2.86367124e-02\n",
            "  4.92963551e-01 1.28000000e+02 3.20000000e+01 6.40000000e+01\n",
            "  6.40000000e+01 5.12000000e+02 4.00000000e+00]]\n",
            "Train on 54982 samples, validate on 5018 samples\n",
            "Epoch 1/50\n",
            "54982/54982 [==============================] - 8s 151us/step - loss: 0.9869 - acc: 0.6496 - val_loss: 0.4899 - val_acc: 0.8204\n",
            "Epoch 2/50\n",
            "25088/54982 [============>.................] - ETA: 3s - loss: 0.6041 - acc: 0.7860"
          ],
          "name": "stdout"
        },
        {
          "output_type": "stream",
          "text": [
            "54982/54982 [==============================] - 7s 124us/step - loss: 0.5658 - acc: 0.7985 - val_loss: 0.3954 - val_acc: 0.8539\n",
            "Epoch 3/50\n",
            "54982/54982 [==============================] - 7s 124us/step - loss: 0.4811 - acc: 0.8288 - val_loss: 0.3593 - val_acc: 0.8703\n",
            "Epoch 4/50\n",
            "54982/54982 [==============================] - 7s 123us/step - loss: 0.4336 - acc: 0.8479 - val_loss: 0.3189 - val_acc: 0.8834\n",
            "Epoch 5/50\n",
            "32768/54982 [================>.............] - ETA: 2s - loss: 0.4126 - acc: 0.8542"
          ],
          "name": "stdout"
        },
        {
          "output_type": "stream",
          "text": [
            "54982/54982 [==============================] - 7s 123us/step - loss: 0.4021 - acc: 0.8578 - val_loss: 0.3056 - val_acc: 0.8870\n",
            "Epoch 6/50\n",
            "54982/54982 [==============================] - 7s 123us/step - loss: 0.3807 - acc: 0.8663 - val_loss: 0.2948 - val_acc: 0.8888\n",
            "Epoch 7/50\n",
            "54982/54982 [==============================] - 7s 123us/step - loss: 0.3627 - acc: 0.8722 - val_loss: 0.2898 - val_acc: 0.8912\n",
            "Epoch 8/50\n",
            "34304/54982 [=================>............] - ETA: 2s - loss: 0.3537 - acc: 0.8777"
          ],
          "name": "stdout"
        },
        {
          "output_type": "stream",
          "text": [
            "54982/54982 [==============================] - 7s 123us/step - loss: 0.3489 - acc: 0.8789 - val_loss: 0.2695 - val_acc: 0.8988\n",
            "Epoch 9/50\n",
            "54982/54982 [==============================] - 7s 123us/step - loss: 0.3352 - acc: 0.8829 - val_loss: 0.2678 - val_acc: 0.9008\n",
            "Epoch 10/50\n",
            "54982/54982 [==============================] - 7s 124us/step - loss: 0.3220 - acc: 0.8860 - val_loss: 0.2679 - val_acc: 0.9008\n",
            "Epoch 11/50\n",
            "34304/54982 [=================>............] - ETA: 2s - loss: 0.3120 - acc: 0.8925"
          ],
          "name": "stdout"
        },
        {
          "output_type": "stream",
          "text": [
            "54982/54982 [==============================] - 7s 124us/step - loss: 0.3111 - acc: 0.8918 - val_loss: 0.2585 - val_acc: 0.9039\n",
            "Epoch 12/50\n",
            "54982/54982 [==============================] - 7s 123us/step - loss: 0.3044 - acc: 0.8920 - val_loss: 0.2553 - val_acc: 0.9014\n",
            "Epoch 13/50\n",
            "54982/54982 [==============================] - 7s 124us/step - loss: 0.2943 - acc: 0.8943 - val_loss: 0.2468 - val_acc: 0.9091\n",
            "Epoch 14/50\n",
            "33792/54982 [=================>............] - ETA: 2s - loss: 0.2880 - acc: 0.8986"
          ],
          "name": "stdout"
        },
        {
          "output_type": "stream",
          "text": [
            "54982/54982 [==============================] - 7s 125us/step - loss: 0.2857 - acc: 0.8990 - val_loss: 0.2453 - val_acc: 0.9129\n",
            "Epoch 15/50\n",
            "54982/54982 [==============================] - 7s 124us/step - loss: 0.2777 - acc: 0.9011 - val_loss: 0.2386 - val_acc: 0.9149\n",
            "Epoch 16/50\n",
            "54982/54982 [==============================] - 7s 124us/step - loss: 0.2761 - acc: 0.9020 - val_loss: 0.2356 - val_acc: 0.9129\n",
            "Epoch 17/50\n",
            "33792/54982 [=================>............] - ETA: 2s - loss: 0.2672 - acc: 0.9043"
          ],
          "name": "stdout"
        },
        {
          "output_type": "stream",
          "text": [
            "54982/54982 [==============================] - 7s 123us/step - loss: 0.2692 - acc: 0.9038 - val_loss: 0.2386 - val_acc: 0.9105\n",
            "Epoch 18/50\n",
            "54982/54982 [==============================] - 7s 124us/step - loss: 0.2630 - acc: 0.9068 - val_loss: 0.2355 - val_acc: 0.9131\n",
            "Epoch 19/50\n",
            "54982/54982 [==============================] - 7s 124us/step - loss: 0.2533 - acc: 0.9112 - val_loss: 0.2259 - val_acc: 0.9175\n",
            "Epoch 20/50\n",
            "33792/54982 [=================>............] - ETA: 2s - loss: 0.2574 - acc: 0.9097"
          ],
          "name": "stdout"
        },
        {
          "output_type": "stream",
          "text": [
            "54982/54982 [==============================] - 7s 124us/step - loss: 0.2541 - acc: 0.9105 - val_loss: 0.2237 - val_acc: 0.9175\n",
            "Epoch 21/50\n",
            "54982/54982 [==============================] - 7s 124us/step - loss: 0.2475 - acc: 0.9119 - val_loss: 0.2232 - val_acc: 0.9207\n",
            "Epoch 22/50\n",
            "54982/54982 [==============================] - 7s 124us/step - loss: 0.2458 - acc: 0.9123 - val_loss: 0.2233 - val_acc: 0.9221\n",
            "Epoch 23/50\n",
            "33792/54982 [=================>............] - ETA: 2s - loss: 0.2380 - acc: 0.9147"
          ],
          "name": "stdout"
        },
        {
          "output_type": "stream",
          "text": [
            "54982/54982 [==============================] - 7s 124us/step - loss: 0.2385 - acc: 0.9147 - val_loss: 0.2271 - val_acc: 0.9205\n",
            "Epoch 24/50\n",
            "54982/54982 [==============================] - 7s 125us/step - loss: 0.2372 - acc: 0.9150 - val_loss: 0.2230 - val_acc: 0.9209\n",
            "Epoch 25/50\n",
            "54982/54982 [==============================] - 7s 125us/step - loss: 0.2331 - acc: 0.9172 - val_loss: 0.2186 - val_acc: 0.9197\n",
            "Epoch 26/50\n",
            "33792/54982 [=================>............] - ETA: 2s - loss: 0.2331 - acc: 0.9156"
          ],
          "name": "stdout"
        },
        {
          "output_type": "stream",
          "text": [
            "54982/54982 [==============================] - 7s 125us/step - loss: 0.2293 - acc: 0.9173 - val_loss: 0.2217 - val_acc: 0.9209\n",
            "Epoch 27/50\n",
            "54982/54982 [==============================] - 7s 125us/step - loss: 0.2258 - acc: 0.9189 - val_loss: 0.2194 - val_acc: 0.9231\n",
            "Epoch 28/50\n",
            "54982/54982 [==============================] - 7s 124us/step - loss: 0.2227 - acc: 0.9196 - val_loss: 0.2221 - val_acc: 0.9217\n",
            "Epoch 29/50\n",
            "33792/54982 [=================>............] - ETA: 2s - loss: 0.2148 - acc: 0.9228"
          ],
          "name": "stdout"
        },
        {
          "output_type": "stream",
          "text": [
            "54982/54982 [==============================] - 7s 125us/step - loss: 0.2194 - acc: 0.9210 - val_loss: 0.2222 - val_acc: 0.9231\n",
            "Epoch 00029: early stopping\n",
            "TEST LOSS: 0.2411600030899048 \t TEST ACCURACY: 0.9146\n",
            "[0.2411600030899048, 0.9146] \n",
            "\n",
            "[[2.10939674e-01 2.14834581e-01 1.91657452e-01 5.88725735e-03\n",
            "  4.82114816e-01 6.40000000e+01 6.40000000e+01 6.40000000e+01\n",
            "  1.28000000e+02 5.12000000e+02 5.00000000e+00]]\n",
            "Train on 47343 samples, validate on 12657 samples\n",
            "Epoch 1/50\n",
            "47343/47343 [==============================] - 6s 124us/step - loss: 0.9912 - acc: 0.6334 - val_loss: 0.5403 - val_acc: 0.7992\n",
            "Epoch 2/50\n",
            "47343/47343 [==============================] - 4s 88us/step - loss: 0.5723 - acc: 0.7886 - val_loss: 0.4574 - val_acc: 0.8271\n",
            "Epoch 3/50\n",
            "43520/47343 [==========================>...] - ETA: 0s - loss: 0.4941 - acc: 0.8194"
          ],
          "name": "stdout"
        },
        {
          "output_type": "stream",
          "text": [
            "47343/47343 [==============================] - 4s 89us/step - loss: 0.4916 - acc: 0.8199 - val_loss: 0.4016 - val_acc: 0.8519\n",
            "Epoch 4/50\n",
            "47343/47343 [==============================] - 4s 88us/step - loss: 0.4447 - acc: 0.8387 - val_loss: 0.3632 - val_acc: 0.8673\n",
            "Epoch 5/50\n",
            "47343/47343 [==============================] - 4s 88us/step - loss: 0.4030 - acc: 0.8549 - val_loss: 0.3313 - val_acc: 0.8760\n",
            "Epoch 6/50\n",
            "47343/47343 [==============================] - 4s 89us/step - loss: 0.3773 - acc: 0.8631 - val_loss: 0.3309 - val_acc: 0.8768\n",
            "Epoch 7/50\n",
            "47343/47343 [==============================] - 4s 88us/step - loss: 0.3534 - acc: 0.8722 - val_loss: 0.3212 - val_acc: 0.8780\n",
            "Epoch 8/50\n",
            "23040/47343 [=============>................] - ETA: 2s - loss: 0.3417 - acc: 0.8739"
          ],
          "name": "stdout"
        },
        {
          "output_type": "stream",
          "text": [
            "47343/47343 [==============================] - 4s 89us/step - loss: 0.3394 - acc: 0.8756 - val_loss: 0.3025 - val_acc: 0.8865\n",
            "Epoch 9/50\n",
            "47343/47343 [==============================] - 4s 89us/step - loss: 0.3262 - acc: 0.8813 - val_loss: 0.2872 - val_acc: 0.8930\n",
            "Epoch 10/50\n",
            "47343/47343 [==============================] - 4s 88us/step - loss: 0.3134 - acc: 0.8871 - val_loss: 0.2822 - val_acc: 0.8955\n",
            "Epoch 11/50\n",
            "47343/47343 [==============================] - 4s 89us/step - loss: 0.3038 - acc: 0.8891 - val_loss: 0.2736 - val_acc: 0.8986\n",
            "Epoch 12/50\n",
            "47343/47343 [==============================] - 4s 88us/step - loss: 0.2966 - acc: 0.8925 - val_loss: 0.2641 - val_acc: 0.9011\n",
            "Epoch 13/50\n",
            "22016/47343 [============>.................] - ETA: 2s - loss: 0.2917 - acc: 0.8932"
          ],
          "name": "stdout"
        },
        {
          "output_type": "stream",
          "text": [
            "47343/47343 [==============================] - 4s 89us/step - loss: 0.2873 - acc: 0.8952 - val_loss: 0.2628 - val_acc: 0.9020\n",
            "Epoch 14/50\n",
            "47343/47343 [==============================] - 4s 88us/step - loss: 0.2837 - acc: 0.8974 - val_loss: 0.2574 - val_acc: 0.9017\n",
            "Epoch 15/50\n",
            "47343/47343 [==============================] - 4s 89us/step - loss: 0.2687 - acc: 0.9016 - val_loss: 0.2536 - val_acc: 0.9057\n",
            "Epoch 16/50\n",
            "47343/47343 [==============================] - 4s 89us/step - loss: 0.2638 - acc: 0.9038 - val_loss: 0.2492 - val_acc: 0.9072\n",
            "Epoch 17/50\n",
            "47343/47343 [==============================] - 4s 89us/step - loss: 0.2574 - acc: 0.9065 - val_loss: 0.2457 - val_acc: 0.9083\n",
            "Epoch 18/50\n",
            "19968/47343 [===========>..................] - ETA: 2s - loss: 0.2512 - acc: 0.9086"
          ],
          "name": "stdout"
        },
        {
          "output_type": "stream",
          "text": [
            "47343/47343 [==============================] - 4s 88us/step - loss: 0.2535 - acc: 0.9078 - val_loss: 0.2439 - val_acc: 0.9101\n",
            "Epoch 19/50\n",
            "47343/47343 [==============================] - 4s 88us/step - loss: 0.2461 - acc: 0.9098 - val_loss: 0.2363 - val_acc: 0.9115\n",
            "Epoch 20/50\n",
            "47343/47343 [==============================] - 4s 88us/step - loss: 0.2413 - acc: 0.9104 - val_loss: 0.2446 - val_acc: 0.9083\n",
            "Epoch 21/50\n",
            "47343/47343 [==============================] - 4s 89us/step - loss: 0.2394 - acc: 0.9122 - val_loss: 0.2334 - val_acc: 0.9123\n",
            "Epoch 22/50\n",
            "47343/47343 [==============================] - 4s 89us/step - loss: 0.2351 - acc: 0.9130 - val_loss: 0.2316 - val_acc: 0.9141\n",
            "Epoch 23/50\n",
            "20992/47343 [============>.................] - ETA: 2s - loss: 0.2240 - acc: 0.9165"
          ],
          "name": "stdout"
        },
        {
          "output_type": "stream",
          "text": [
            "47343/47343 [==============================] - 4s 88us/step - loss: 0.2278 - acc: 0.9154 - val_loss: 0.2355 - val_acc: 0.9129\n",
            "Epoch 24/50\n",
            "47343/47343 [==============================] - 4s 88us/step - loss: 0.2214 - acc: 0.9189 - val_loss: 0.2294 - val_acc: 0.9158\n",
            "Epoch 25/50\n",
            "47343/47343 [==============================] - 4s 89us/step - loss: 0.2219 - acc: 0.9203 - val_loss: 0.2300 - val_acc: 0.9148\n",
            "Epoch 26/50\n",
            "47343/47343 [==============================] - 4s 89us/step - loss: 0.2147 - acc: 0.9214 - val_loss: 0.2340 - val_acc: 0.9132\n",
            "Epoch 27/50\n",
            "47343/47343 [==============================] - 4s 89us/step - loss: 0.2118 - acc: 0.9223 - val_loss: 0.2267 - val_acc: 0.9166\n",
            "Epoch 28/50\n",
            "19968/47343 [===========>..................] - ETA: 2s - loss: 0.2133 - acc: 0.9207"
          ],
          "name": "stdout"
        },
        {
          "output_type": "stream",
          "text": [
            "47343/47343 [==============================] - 4s 88us/step - loss: 0.2093 - acc: 0.9231 - val_loss: 0.2284 - val_acc: 0.9159\n",
            "Epoch 29/50\n",
            "47343/47343 [==============================] - 4s 89us/step - loss: 0.2051 - acc: 0.9251 - val_loss: 0.2232 - val_acc: 0.9159\n",
            "Epoch 30/50\n",
            "47343/47343 [==============================] - 4s 88us/step - loss: 0.2041 - acc: 0.9254 - val_loss: 0.2322 - val_acc: 0.9144\n",
            "Epoch 31/50\n",
            "47343/47343 [==============================] - 4s 88us/step - loss: 0.1988 - acc: 0.9258 - val_loss: 0.2295 - val_acc: 0.9133\n",
            "Epoch 32/50\n",
            "47343/47343 [==============================] - 4s 89us/step - loss: 0.1943 - acc: 0.9280 - val_loss: 0.2297 - val_acc: 0.9185\n",
            "Epoch 33/50\n",
            "19456/47343 [===========>..................] - ETA: 2s - loss: 0.1849 - acc: 0.9302"
          ],
          "name": "stdout"
        },
        {
          "output_type": "stream",
          "text": [
            "47343/47343 [==============================] - 4s 89us/step - loss: 0.1925 - acc: 0.9274 - val_loss: 0.2173 - val_acc: 0.9201\n",
            "Epoch 34/50\n",
            "47343/47343 [==============================] - 4s 88us/step - loss: 0.1908 - acc: 0.9294 - val_loss: 0.2210 - val_acc: 0.9190\n",
            "Epoch 35/50\n",
            "47343/47343 [==============================] - 4s 88us/step - loss: 0.1846 - acc: 0.9300 - val_loss: 0.2210 - val_acc: 0.9194\n",
            "Epoch 36/50\n",
            "47343/47343 [==============================] - 4s 89us/step - loss: 0.1824 - acc: 0.9323 - val_loss: 0.2250 - val_acc: 0.9178\n",
            "Epoch 37/50\n",
            "47343/47343 [==============================] - 4s 88us/step - loss: 0.1773 - acc: 0.9333 - val_loss: 0.2247 - val_acc: 0.9190\n",
            "Epoch 38/50\n",
            "19968/47343 [===========>..................] - ETA: 2s - loss: 0.1788 - acc: 0.9320"
          ],
          "name": "stdout"
        },
        {
          "output_type": "stream",
          "text": [
            "47343/47343 [==============================] - 4s 88us/step - loss: 0.1780 - acc: 0.9331 - val_loss: 0.2293 - val_acc: 0.9204\n",
            "Epoch 00038: early stopping\n",
            "TEST LOSS: 0.24710526440143585 \t TEST ACCURACY: 0.9162999998092651\n",
            "[0.24710526440143585, 0.9162999998092651] \n",
            "\n",
            "[[  0.           0.18513605   0.           0.5          0.\n",
            "   32.         128.          32.         128.          64.\n",
            "    8.        ]]\n",
            "Epoch 1/50\n",
            "49472/60000 [=======================>......] - ETA: 2s - loss: 0.7109 - acc: 0.7359"
          ],
          "name": "stdout"
        },
        {
          "output_type": "stream",
          "text": [
            "60000/60000 [==============================] - 14s 236us/step - loss: 0.6745 - acc: 0.7494\n",
            "Epoch 2/50\n",
            "60000/60000 [==============================] - 13s 213us/step - loss: 0.4395 - acc: 0.8394\n",
            "Epoch 3/50\n",
            "46656/60000 [======================>.......] - ETA: 2s - loss: 0.3760 - acc: 0.8609"
          ],
          "name": "stdout"
        },
        {
          "output_type": "stream",
          "text": [
            "60000/60000 [==============================] - 13s 214us/step - loss: 0.3723 - acc: 0.8628\n",
            "Epoch 4/50\n",
            "60000/60000 [==============================] - 13s 213us/step - loss: 0.3463 - acc: 0.8743\n",
            "Epoch 5/50\n",
            "45632/60000 [=====================>........] - ETA: 3s - loss: 0.3225 - acc: 0.8818"
          ],
          "name": "stdout"
        },
        {
          "output_type": "stream",
          "text": [
            "60000/60000 [==============================] - 13s 213us/step - loss: 0.3225 - acc: 0.8821\n",
            "Epoch 6/50\n",
            "60000/60000 [==============================] - 13s 212us/step - loss: 0.3048 - acc: 0.8872\n",
            "Epoch 7/50\n",
            "45376/60000 [=====================>........] - ETA: 3s - loss: 0.2944 - acc: 0.8925"
          ],
          "name": "stdout"
        },
        {
          "output_type": "stream",
          "text": [
            "60000/60000 [==============================] - 13s 215us/step - loss: 0.2939 - acc: 0.8929\n",
            "Epoch 8/50\n",
            "60000/60000 [==============================] - 13s 214us/step - loss: 0.2854 - acc: 0.8950\n",
            "Epoch 9/50\n",
            "45312/60000 [=====================>........] - ETA: 3s - loss: 0.2732 - acc: 0.8994"
          ],
          "name": "stdout"
        },
        {
          "output_type": "stream",
          "text": [
            "60000/60000 [==============================] - 13s 212us/step - loss: 0.2733 - acc: 0.8987\n",
            "Epoch 10/50\n",
            "60000/60000 [==============================] - 13s 212us/step - loss: 0.2641 - acc: 0.9028\n",
            "Epoch 11/50\n",
            "44864/60000 [=====================>........] - ETA: 3s - loss: 0.2515 - acc: 0.9078"
          ],
          "name": "stdout"
        },
        {
          "output_type": "stream",
          "text": [
            "60000/60000 [==============================] - 13s 213us/step - loss: 0.2559 - acc: 0.9059\n",
            "Epoch 12/50\n",
            "60000/60000 [==============================] - 13s 213us/step - loss: 0.2529 - acc: 0.9065\n",
            "Epoch 13/50\n",
            "44608/60000 [=====================>........] - ETA: 3s - loss: 0.2491 - acc: 0.9064"
          ],
          "name": "stdout"
        },
        {
          "output_type": "stream",
          "text": [
            "60000/60000 [==============================] - 13s 214us/step - loss: 0.2466 - acc: 0.9077\n",
            "Epoch 14/50\n",
            "60000/60000 [==============================] - 13s 214us/step - loss: 0.2406 - acc: 0.9113\n",
            "Epoch 15/50\n",
            "44544/60000 [=====================>........] - ETA: 3s - loss: 0.2368 - acc: 0.9120"
          ],
          "name": "stdout"
        },
        {
          "output_type": "stream",
          "text": [
            "60000/60000 [==============================] - 13s 212us/step - loss: 0.2375 - acc: 0.9116\n",
            "Epoch 16/50\n",
            "60000/60000 [==============================] - 13s 213us/step - loss: 0.2332 - acc: 0.9148\n",
            "Epoch 17/50\n",
            "44544/60000 [=====================>........] - ETA: 3s - loss: 0.2286 - acc: 0.9155"
          ],
          "name": "stdout"
        },
        {
          "output_type": "stream",
          "text": [
            "60000/60000 [==============================] - 13s 214us/step - loss: 0.2292 - acc: 0.9153\n",
            "Epoch 18/50\n",
            "60000/60000 [==============================] - 13s 212us/step - loss: 0.2286 - acc: 0.9150\n",
            "Epoch 19/50\n",
            "44544/60000 [=====================>........] - ETA: 3s - loss: 0.2220 - acc: 0.9178"
          ],
          "name": "stdout"
        },
        {
          "output_type": "stream",
          "text": [
            "60000/60000 [==============================] - 13s 211us/step - loss: 0.2215 - acc: 0.9178\n",
            "Epoch 20/50\n",
            "60000/60000 [==============================] - 13s 213us/step - loss: 0.2170 - acc: 0.9195\n",
            "Epoch 21/50\n",
            "44608/60000 [=====================>........] - ETA: 3s - loss: 0.2182 - acc: 0.9185"
          ],
          "name": "stdout"
        },
        {
          "output_type": "stream",
          "text": [
            "60000/60000 [==============================] - 13s 214us/step - loss: 0.2173 - acc: 0.9189\n",
            "Epoch 22/50\n",
            "60000/60000 [==============================] - 13s 212us/step - loss: 0.2130 - acc: 0.9214\n",
            "Epoch 23/50\n",
            "44608/60000 [=====================>........] - ETA: 3s - loss: 0.2118 - acc: 0.9201"
          ],
          "name": "stdout"
        },
        {
          "output_type": "stream",
          "text": [
            "60000/60000 [==============================] - 13s 213us/step - loss: 0.2124 - acc: 0.9198\n",
            "Epoch 24/50\n",
            "60000/60000 [==============================] - 13s 211us/step - loss: 0.2091 - acc: 0.9224\n",
            "Epoch 25/50\n",
            "44608/60000 [=====================>........] - ETA: 3s - loss: 0.2004 - acc: 0.9257"
          ],
          "name": "stdout"
        },
        {
          "output_type": "stream",
          "text": [
            "60000/60000 [==============================] - 13s 215us/step - loss: 0.2054 - acc: 0.9234\n",
            "Epoch 26/50\n",
            "60000/60000 [==============================] - 13s 214us/step - loss: 0.2048 - acc: 0.9237\n",
            "Epoch 27/50\n",
            "44608/60000 [=====================>........] - ETA: 3s - loss: 0.2043 - acc: 0.9244"
          ],
          "name": "stdout"
        },
        {
          "output_type": "stream",
          "text": [
            "60000/60000 [==============================] - 13s 214us/step - loss: 0.2037 - acc: 0.9245\n",
            "Epoch 28/50\n",
            "60000/60000 [==============================] - 13s 214us/step - loss: 0.2003 - acc: 0.9255\n",
            "Epoch 29/50\n",
            "44544/60000 [=====================>........] - ETA: 3s - loss: 0.1996 - acc: 0.9252"
          ],
          "name": "stdout"
        },
        {
          "output_type": "stream",
          "text": [
            "60000/60000 [==============================] - 13s 213us/step - loss: 0.2008 - acc: 0.9243\n",
            "Epoch 30/50\n",
            "60000/60000 [==============================] - 13s 214us/step - loss: 0.1975 - acc: 0.9250\n",
            "Epoch 31/50\n",
            "44352/60000 [=====================>........] - ETA: 3s - loss: 0.1945 - acc: 0.9270"
          ],
          "name": "stdout"
        },
        {
          "output_type": "stream",
          "text": [
            "60000/60000 [==============================] - 13s 215us/step - loss: 0.1963 - acc: 0.9265\n",
            "Epoch 32/50\n",
            "60000/60000 [==============================] - 13s 215us/step - loss: 0.1903 - acc: 0.9295\n",
            "Epoch 33/50\n",
            "44608/60000 [=====================>........] - ETA: 3s - loss: 0.1898 - acc: 0.9289"
          ],
          "name": "stdout"
        },
        {
          "output_type": "stream",
          "text": [
            "60000/60000 [==============================] - 13s 212us/step - loss: 0.1931 - acc: 0.9278\n",
            "Epoch 34/50\n",
            "60000/60000 [==============================] - 13s 212us/step - loss: 0.1898 - acc: 0.9287\n",
            "Epoch 35/50\n",
            "44608/60000 [=====================>........] - ETA: 3s - loss: 0.1922 - acc: 0.9282"
          ],
          "name": "stdout"
        },
        {
          "output_type": "stream",
          "text": [
            "60000/60000 [==============================] - 13s 213us/step - loss: 0.1921 - acc: 0.9282\n",
            "Epoch 36/50\n",
            "60000/60000 [==============================] - 13s 213us/step - loss: 0.1890 - acc: 0.9308\n",
            "Epoch 37/50\n",
            "44608/60000 [=====================>........] - ETA: 3s - loss: 0.1827 - acc: 0.9309"
          ],
          "name": "stdout"
        },
        {
          "output_type": "stream",
          "text": [
            "60000/60000 [==============================] - 13s 212us/step - loss: 0.1863 - acc: 0.9299\n",
            "Epoch 38/50\n",
            "60000/60000 [==============================] - 13s 214us/step - loss: 0.1849 - acc: 0.9313\n",
            "Epoch 39/50\n",
            "44608/60000 [=====================>........] - ETA: 3s - loss: 0.1800 - acc: 0.9317"
          ],
          "name": "stdout"
        },
        {
          "output_type": "stream",
          "text": [
            "60000/60000 [==============================] - 13s 216us/step - loss: 0.1829 - acc: 0.9308\n",
            "Epoch 40/50\n",
            "60000/60000 [==============================] - 13s 215us/step - loss: 0.1828 - acc: 0.9325\n",
            "Epoch 41/50\n",
            "44608/60000 [=====================>........] - ETA: 3s - loss: 0.1830 - acc: 0.9310"
          ],
          "name": "stdout"
        },
        {
          "output_type": "stream",
          "text": [
            "60000/60000 [==============================] - 13s 213us/step - loss: 0.1821 - acc: 0.9313\n",
            "Epoch 42/50\n",
            "60000/60000 [==============================] - 13s 213us/step - loss: 0.1818 - acc: 0.9314\n",
            "Epoch 43/50\n",
            "44352/60000 [=====================>........] - ETA: 3s - loss: 0.1783 - acc: 0.9342"
          ],
          "name": "stdout"
        },
        {
          "output_type": "stream",
          "text": [
            "60000/60000 [==============================] - 13s 213us/step - loss: 0.1804 - acc: 0.9326\n",
            "Epoch 44/50\n",
            "60000/60000 [==============================] - 13s 212us/step - loss: 0.1794 - acc: 0.9328\n",
            "Epoch 45/50\n",
            "44544/60000 [=====================>........] - ETA: 3s - loss: 0.1788 - acc: 0.9330"
          ],
          "name": "stdout"
        },
        {
          "output_type": "stream",
          "text": [
            "60000/60000 [==============================] - 13s 215us/step - loss: 0.1795 - acc: 0.9327\n",
            "Epoch 46/50\n",
            "60000/60000 [==============================] - 13s 214us/step - loss: 0.1794 - acc: 0.9334\n",
            "Epoch 47/50\n",
            "44544/60000 [=====================>........] - ETA: 3s - loss: 0.1716 - acc: 0.9361"
          ],
          "name": "stdout"
        },
        {
          "output_type": "stream",
          "text": [
            "60000/60000 [==============================] - 13s 214us/step - loss: 0.1730 - acc: 0.9358\n",
            "Epoch 48/50\n",
            "60000/60000 [==============================] - 13s 213us/step - loss: 0.1747 - acc: 0.9340\n",
            "Epoch 49/50\n",
            "44544/60000 [=====================>........] - ETA: 3s - loss: 0.1732 - acc: 0.9344"
          ],
          "name": "stdout"
        },
        {
          "output_type": "stream",
          "text": [
            "60000/60000 [==============================] - 13s 214us/step - loss: 0.1746 - acc: 0.9342\n",
            "Epoch 50/50\n",
            "60000/60000 [==============================] - 13s 215us/step - loss: 0.1716 - acc: 0.9356\n",
            "TEST LOSS: 0.2237941327691078 \t TEST ACCURACY: 0.9195\n",
            "[0.2237941327691078, 0.9195] \n",
            "\n",
            "[[2.69319156e-01 2.27086038e-01 1.98110493e-01 3.73978041e-01\n",
            "  3.26075087e-01 1.28000000e+02 6.40000000e+01 5.12000000e+02\n",
            "  2.56000000e+02 2.56000000e+02 7.00000000e+00]]\n",
            "Train on 43840 samples, validate on 16160 samples\n",
            "Epoch 1/50\n",
            "38400/43840 [=========================>....] - ETA: 1s - loss: 0.6939 - acc: 0.7420"
          ],
          "name": "stdout"
        },
        {
          "output_type": "stream",
          "text": [
            "43840/43840 [==============================] - 11s 246us/step - loss: 0.6679 - acc: 0.7517 - val_loss: 0.4237 - val_acc: 0.8455\n",
            "Epoch 2/50\n",
            "43840/43840 [==============================] - 9s 200us/step - loss: 0.4227 - acc: 0.8455 - val_loss: 0.3528 - val_acc: 0.8712\n",
            "Epoch 3/50\n",
            "43840/43840 [==============================] - 9s 200us/step - loss: 0.3634 - acc: 0.8668 - val_loss: 0.3316 - val_acc: 0.8777\n",
            "Epoch 4/50\n",
            "43840/43840 [==============================] - 9s 200us/step - loss: 0.3291 - acc: 0.8776 - val_loss: 0.2996 - val_acc: 0.8877\n"
          ],
          "name": "stdout"
        },
        {
          "output_type": "stream",
          "text": [
            "Epoch 5/50\n",
            "43840/43840 [==============================] - 9s 202us/step - loss: 0.3013 - acc: 0.8889 - val_loss: 0.2818 - val_acc: 0.8936\n",
            "Epoch 6/50\n",
            "43840/43840 [==============================] - 9s 201us/step - loss: 0.2785 - acc: 0.8968 - val_loss: 0.2660 - val_acc: 0.9016\n",
            "Epoch 7/50\n",
            "43840/43840 [==============================] - 9s 202us/step - loss: 0.2652 - acc: 0.9013 - val_loss: 0.2548 - val_acc: 0.9061\n",
            "Epoch 8/50\n",
            "34560/43840 [======================>.......] - ETA: 1s - loss: 0.2477 - acc: 0.9069"
          ],
          "name": "stdout"
        },
        {
          "output_type": "stream",
          "text": [
            "43840/43840 [==============================] - 9s 201us/step - loss: 0.2502 - acc: 0.9063 - val_loss: 0.2537 - val_acc: 0.9064\n",
            "Epoch 9/50\n",
            "43840/43840 [==============================] - 9s 201us/step - loss: 0.2355 - acc: 0.9122 - val_loss: 0.2539 - val_acc: 0.9057\n",
            "Epoch 10/50\n",
            "43840/43840 [==============================] - 9s 201us/step - loss: 0.2282 - acc: 0.9140 - val_loss: 0.2521 - val_acc: 0.9063\n",
            "Epoch 11/50\n",
            "41728/43840 [===========================>..] - ETA: 0s - loss: 0.2131 - acc: 0.9197"
          ],
          "name": "stdout"
        },
        {
          "output_type": "stream",
          "text": [
            "43840/43840 [==============================] - 9s 202us/step - loss: 0.2132 - acc: 0.9196 - val_loss: 0.2358 - val_acc: 0.9147\n",
            "Epoch 12/50\n",
            "43840/43840 [==============================] - 9s 201us/step - loss: 0.2070 - acc: 0.9225 - val_loss: 0.2423 - val_acc: 0.9115\n",
            "Epoch 13/50\n",
            "43840/43840 [==============================] - 9s 201us/step - loss: 0.1976 - acc: 0.9266 - val_loss: 0.2241 - val_acc: 0.9184\n",
            "Epoch 14/50\n",
            "43840/43840 [==============================] - 9s 202us/step - loss: 0.1953 - acc: 0.9264 - val_loss: 0.2262 - val_acc: 0.9193\n"
          ],
          "name": "stdout"
        },
        {
          "output_type": "stream",
          "text": [
            "Epoch 15/50\n",
            "43840/43840 [==============================] - 9s 201us/step - loss: 0.1838 - acc: 0.9316 - val_loss: 0.2261 - val_acc: 0.9191\n",
            "Epoch 16/50\n",
            "43840/43840 [==============================] - 9s 200us/step - loss: 0.1751 - acc: 0.9326 - val_loss: 0.2292 - val_acc: 0.9186\n",
            "Epoch 17/50\n",
            "43840/43840 [==============================] - 9s 200us/step - loss: 0.1693 - acc: 0.9357 - val_loss: 0.2330 - val_acc: 0.9208\n",
            "Epoch 18/50\n",
            "34816/43840 [======================>.......] - ETA: 1s - loss: 0.1652 - acc: 0.9376"
          ],
          "name": "stdout"
        },
        {
          "output_type": "stream",
          "text": [
            "43840/43840 [==============================] - 9s 202us/step - loss: 0.1692 - acc: 0.9361 - val_loss: 0.2312 - val_acc: 0.9186\n",
            "Epoch 19/50\n",
            "43840/43840 [==============================] - 9s 201us/step - loss: 0.1585 - acc: 0.9397 - val_loss: 0.2328 - val_acc: 0.9169\n",
            "Epoch 20/50\n",
            "43840/43840 [==============================] - 9s 201us/step - loss: 0.1582 - acc: 0.9389 - val_loss: 0.2286 - val_acc: 0.9205\n",
            "Epoch 00020: early stopping\n",
            "TEST LOSS: 0.25281146235466 \t TEST ACCURACY: 0.9155\n",
            "[0.25281146235466, 0.9155] \n",
            "\n",
            "[[2.61127956e-02 1.90999570e-01 4.01270781e-01 1.52169306e-01\n",
            "  1.02909853e-01 3.20000000e+01 1.28000000e+02 3.20000000e+01\n",
            "  6.40000000e+01 6.40000000e+01 8.00000000e+00]]\n",
            "Train on 58433 samples, validate on 1567 samples\n",
            "Epoch 1/50\n",
            "12800/58433 [=====>........................] - ETA: 15s - loss: 1.0975 - acc: 0.5938"
          ],
          "name": "stdout"
        },
        {
          "output_type": "stream",
          "text": [
            "58433/58433 [==============================] - 15s 255us/step - loss: 0.6893 - acc: 0.7431 - val_loss: 0.4075 - val_acc: 0.8526\n",
            "Epoch 2/50\n",
            "58433/58433 [==============================] - 13s 227us/step - loss: 0.4384 - acc: 0.8395 - val_loss: 0.3233 - val_acc: 0.8775\n",
            "Epoch 3/50\n",
            "22912/58433 [==========>...................] - ETA: 7s - loss: 0.3719 - acc: 0.8633"
          ],
          "name": "stdout"
        },
        {
          "output_type": "stream",
          "text": [
            "58433/58433 [==============================] - 13s 227us/step - loss: 0.3700 - acc: 0.8650 - val_loss: 0.3047 - val_acc: 0.8883\n",
            "Epoch 4/50\n",
            "58433/58433 [==============================] - 13s 226us/step - loss: 0.3396 - acc: 0.8769 - val_loss: 0.2794 - val_acc: 0.8960\n",
            "Epoch 5/50\n",
            "25920/58433 [============>.................] - ETA: 7s - loss: 0.3174 - acc: 0.8857"
          ],
          "name": "stdout"
        },
        {
          "output_type": "stream",
          "text": [
            "58433/58433 [==============================] - 13s 224us/step - loss: 0.3174 - acc: 0.8840 - val_loss: 0.2835 - val_acc: 0.8922\n",
            "Epoch 6/50\n",
            "58433/58433 [==============================] - 13s 223us/step - loss: 0.3029 - acc: 0.8887 - val_loss: 0.2666 - val_acc: 0.9017\n",
            "Epoch 7/50\n",
            "26432/58433 [============>.................] - ETA: 6s - loss: 0.2987 - acc: 0.8910"
          ],
          "name": "stdout"
        },
        {
          "output_type": "stream",
          "text": [
            "58433/58433 [==============================] - 13s 220us/step - loss: 0.2958 - acc: 0.8912 - val_loss: 0.2519 - val_acc: 0.9043\n",
            "Epoch 8/50\n",
            "58433/58433 [==============================] - 13s 222us/step - loss: 0.2817 - acc: 0.8967 - val_loss: 0.2613 - val_acc: 0.9004\n",
            "Epoch 9/50\n",
            "26560/58433 [============>.................] - ETA: 7s - loss: 0.2685 - acc: 0.8995"
          ],
          "name": "stdout"
        },
        {
          "output_type": "stream",
          "text": [
            "58433/58433 [==============================] - 13s 225us/step - loss: 0.2734 - acc: 0.8987 - val_loss: 0.2557 - val_acc: 0.8979\n",
            "Epoch 10/50\n",
            "58433/58433 [==============================] - 13s 227us/step - loss: 0.2703 - acc: 0.8992 - val_loss: 0.2451 - val_acc: 0.9030\n",
            "Epoch 11/50\n",
            "26112/58433 [============>.................] - ETA: 7s - loss: 0.2574 - acc: 0.9052"
          ],
          "name": "stdout"
        },
        {
          "output_type": "stream",
          "text": [
            "58433/58433 [==============================] - 13s 225us/step - loss: 0.2592 - acc: 0.9041 - val_loss: 0.2526 - val_acc: 0.9094\n",
            "Epoch 12/50\n",
            "58433/58433 [==============================] - 13s 226us/step - loss: 0.2543 - acc: 0.9051 - val_loss: 0.2374 - val_acc: 0.9087\n",
            "Epoch 13/50\n",
            "26112/58433 [============>.................] - ETA: 7s - loss: 0.2516 - acc: 0.9062"
          ],
          "name": "stdout"
        },
        {
          "output_type": "stream",
          "text": [
            "58433/58433 [==============================] - 13s 227us/step - loss: 0.2526 - acc: 0.9062 - val_loss: 0.2426 - val_acc: 0.9036\n",
            "Epoch 14/50\n",
            "58433/58433 [==============================] - 13s 229us/step - loss: 0.2487 - acc: 0.9078 - val_loss: 0.2342 - val_acc: 0.9087\n",
            "Epoch 15/50\n",
            "25792/58433 [============>.................] - ETA: 7s - loss: 0.2552 - acc: 0.9042"
          ],
          "name": "stdout"
        },
        {
          "output_type": "stream",
          "text": [
            "58433/58433 [==============================] - 13s 228us/step - loss: 0.2497 - acc: 0.9071 - val_loss: 0.2325 - val_acc: 0.9138\n",
            "Epoch 16/50\n",
            "58433/58433 [==============================] - 13s 227us/step - loss: 0.2378 - acc: 0.9119 - val_loss: 0.2143 - val_acc: 0.9158\n",
            "Epoch 17/50\n",
            "25856/58433 [============>.................] - ETA: 7s - loss: 0.2284 - acc: 0.9129"
          ],
          "name": "stdout"
        },
        {
          "output_type": "stream",
          "text": [
            "58433/58433 [==============================] - 13s 229us/step - loss: 0.2370 - acc: 0.9112 - val_loss: 0.2163 - val_acc: 0.9221\n",
            "Epoch 18/50\n",
            "58433/58433 [==============================] - 13s 227us/step - loss: 0.2352 - acc: 0.9124 - val_loss: 0.2215 - val_acc: 0.9138\n",
            "Epoch 19/50\n",
            "25408/58433 [============>.................] - ETA: 7s - loss: 0.2276 - acc: 0.9135"
          ],
          "name": "stdout"
        },
        {
          "output_type": "stream",
          "text": [
            "58433/58433 [==============================] - 13s 228us/step - loss: 0.2304 - acc: 0.9136 - val_loss: 0.2261 - val_acc: 0.9100\n",
            "Epoch 20/50\n",
            "58433/58433 [==============================] - 13s 228us/step - loss: 0.2311 - acc: 0.9135 - val_loss: 0.2215 - val_acc: 0.9158\n",
            "Epoch 21/50\n",
            "25728/58433 [============>.................] - ETA: 7s - loss: 0.2214 - acc: 0.9190"
          ],
          "name": "stdout"
        },
        {
          "output_type": "stream",
          "text": [
            "58433/58433 [==============================] - 13s 227us/step - loss: 0.2279 - acc: 0.9154 - val_loss: 0.2178 - val_acc: 0.9228\n",
            "Epoch 22/50\n",
            "58433/58433 [==============================] - 13s 225us/step - loss: 0.2282 - acc: 0.9155 - val_loss: 0.2201 - val_acc: 0.9170\n",
            "Epoch 23/50\n",
            "25728/58433 [============>.................] - ETA: 7s - loss: 0.2206 - acc: 0.9172"
          ],
          "name": "stdout"
        },
        {
          "output_type": "stream",
          "text": [
            "58433/58433 [==============================] - 13s 227us/step - loss: 0.2215 - acc: 0.9169 - val_loss: 0.2176 - val_acc: 0.9158\n",
            "Epoch 24/50\n",
            "58433/58433 [==============================] - 13s 227us/step - loss: 0.2191 - acc: 0.9188 - val_loss: 0.2168 - val_acc: 0.9215\n",
            "Epoch 00024: early stopping\n",
            "TEST LOSS: 0.22727041230201722 \t TEST ACCURACY: 0.9153\n",
            "[0.22727041230201722, 0.9153] \n",
            "\n",
            "[[7.46305618e-02 3.17615623e-01 1.97898401e-02 8.30040176e-02\n",
            "  3.57305524e-01 1.28000000e+02 6.40000000e+01 1.28000000e+02\n",
            "  6.40000000e+01 5.12000000e+02 4.00000000e+00]]\n",
            "Train on 55522 samples, validate on 4478 samples\n",
            "Epoch 1/50\n",
            "26112/55522 [=============>................] - ETA: 5s - loss: 1.1978 - acc: 0.5767"
          ],
          "name": "stdout"
        },
        {
          "output_type": "stream",
          "text": [
            "55522/55522 [==============================] - 10s 174us/step - loss: 0.9277 - acc: 0.6674 - val_loss: 0.4998 - val_acc: 0.8171\n",
            "Epoch 2/50\n",
            "55522/55522 [==============================] - 8s 136us/step - loss: 0.5374 - acc: 0.8053 - val_loss: 0.3976 - val_acc: 0.8528\n",
            "Epoch 3/50\n",
            "55522/55522 [==============================] - 8s 137us/step - loss: 0.4423 - acc: 0.8422 - val_loss: 0.3480 - val_acc: 0.8694\n",
            "Epoch 4/50\n",
            "30720/55522 [===============>..............] - ETA: 3s - loss: 0.3982 - acc: 0.8586"
          ],
          "name": "stdout"
        },
        {
          "output_type": "stream",
          "text": [
            "55522/55522 [==============================] - 8s 137us/step - loss: 0.3884 - acc: 0.8612 - val_loss: 0.3103 - val_acc: 0.8874\n",
            "Epoch 5/50\n",
            "55522/55522 [==============================] - 8s 137us/step - loss: 0.3555 - acc: 0.8724 - val_loss: 0.3097 - val_acc: 0.8877\n",
            "Epoch 6/50\n",
            "55522/55522 [==============================] - 8s 136us/step - loss: 0.3342 - acc: 0.8783 - val_loss: 0.2849 - val_acc: 0.8926\n",
            "Epoch 7/50\n",
            "30208/55522 [===============>..............] - ETA: 3s - loss: 0.3102 - acc: 0.8889"
          ],
          "name": "stdout"
        },
        {
          "output_type": "stream",
          "text": [
            "55522/55522 [==============================] - 8s 136us/step - loss: 0.3091 - acc: 0.8891 - val_loss: 0.2681 - val_acc: 0.9022\n",
            "Epoch 8/50\n",
            "55522/55522 [==============================] - 8s 136us/step - loss: 0.2934 - acc: 0.8950 - val_loss: 0.2657 - val_acc: 0.9004\n",
            "Epoch 9/50\n",
            "55522/55522 [==============================] - 8s 137us/step - loss: 0.2840 - acc: 0.8985 - val_loss: 0.2531 - val_acc: 0.9082\n",
            "Epoch 10/50\n",
            "29184/55522 [==============>...............] - ETA: 3s - loss: 0.2626 - acc: 0.9046"
          ],
          "name": "stdout"
        },
        {
          "output_type": "stream",
          "text": [
            "55522/55522 [==============================] - 8s 136us/step - loss: 0.2660 - acc: 0.9033 - val_loss: 0.2447 - val_acc: 0.9100\n",
            "Epoch 11/50\n",
            "55522/55522 [==============================] - 8s 136us/step - loss: 0.2587 - acc: 0.9069 - val_loss: 0.2443 - val_acc: 0.9087\n",
            "Epoch 12/50\n",
            "55522/55522 [==============================] - 8s 136us/step - loss: 0.2494 - acc: 0.9097 - val_loss: 0.2321 - val_acc: 0.9134\n",
            "Epoch 13/50\n",
            "27136/55522 [=============>................] - ETA: 3s - loss: 0.2393 - acc: 0.9149"
          ],
          "name": "stdout"
        },
        {
          "output_type": "stream",
          "text": [
            "55522/55522 [==============================] - 8s 137us/step - loss: 0.2385 - acc: 0.9144 - val_loss: 0.2441 - val_acc: 0.9096\n",
            "Epoch 14/50\n",
            "55522/55522 [==============================] - 8s 137us/step - loss: 0.2302 - acc: 0.9173 - val_loss: 0.2341 - val_acc: 0.9122\n",
            "Epoch 15/50\n",
            "55522/55522 [==============================] - 8s 136us/step - loss: 0.2222 - acc: 0.9186 - val_loss: 0.2288 - val_acc: 0.9147\n",
            "Epoch 16/50\n",
            "29696/55522 [===============>..............] - ETA: 3s - loss: 0.2156 - acc: 0.9207"
          ],
          "name": "stdout"
        },
        {
          "output_type": "stream",
          "text": [
            "55522/55522 [==============================] - 8s 137us/step - loss: 0.2155 - acc: 0.9216 - val_loss: 0.2300 - val_acc: 0.9165\n",
            "Epoch 17/50\n",
            "55522/55522 [==============================] - 8s 138us/step - loss: 0.2068 - acc: 0.9234 - val_loss: 0.2286 - val_acc: 0.9165\n",
            "Epoch 18/50\n",
            "55522/55522 [==============================] - 8s 138us/step - loss: 0.2040 - acc: 0.9257 - val_loss: 0.2231 - val_acc: 0.9180\n",
            "Epoch 19/50\n",
            "30208/55522 [===============>..............] - ETA: 3s - loss: 0.1974 - acc: 0.9265"
          ],
          "name": "stdout"
        },
        {
          "output_type": "stream",
          "text": [
            "55522/55522 [==============================] - 8s 137us/step - loss: 0.1988 - acc: 0.9265 - val_loss: 0.2181 - val_acc: 0.9212\n",
            "Epoch 20/50\n",
            "55522/55522 [==============================] - 8s 137us/step - loss: 0.1874 - acc: 0.9310 - val_loss: 0.2159 - val_acc: 0.9227\n",
            "Epoch 21/50\n",
            "55522/55522 [==============================] - 8s 136us/step - loss: 0.1849 - acc: 0.9318 - val_loss: 0.2143 - val_acc: 0.9196\n",
            "Epoch 22/50\n",
            "30208/55522 [===============>..............] - ETA: 3s - loss: 0.1765 - acc: 0.9326"
          ],
          "name": "stdout"
        },
        {
          "output_type": "stream",
          "text": [
            "55522/55522 [==============================] - 8s 137us/step - loss: 0.1795 - acc: 0.9323 - val_loss: 0.2208 - val_acc: 0.9198\n",
            "Epoch 23/50\n",
            "55522/55522 [==============================] - 8s 136us/step - loss: 0.1724 - acc: 0.9358 - val_loss: 0.2174 - val_acc: 0.9241\n",
            "Epoch 24/50\n",
            "55522/55522 [==============================] - 8s 137us/step - loss: 0.1708 - acc: 0.9363 - val_loss: 0.2216 - val_acc: 0.9214\n",
            "Epoch 25/50\n",
            "29696/55522 [===============>..............] - ETA: 3s - loss: 0.1677 - acc: 0.9368"
          ],
          "name": "stdout"
        },
        {
          "output_type": "stream",
          "text": [
            "55522/55522 [==============================] - 8s 137us/step - loss: 0.1639 - acc: 0.9384 - val_loss: 0.2311 - val_acc: 0.9230\n",
            "Epoch 00025: early stopping\n",
            "TEST LOSS: 0.2602436908960342 \t TEST ACCURACY: 0.9129999999046325\n",
            "[0.2602436908960342, 0.9129999999046325] \n",
            "\n",
            "[[4.80967699e-02 2.44213622e-01 2.95132318e-01 1.86303128e-01\n",
            "  1.89181014e-01 3.20000000e+01 1.28000000e+02 3.20000000e+01\n",
            "  6.40000000e+01 6.40000000e+01 7.00000000e+00]]\n",
            "Train on 57114 samples, validate on 2886 samples\n",
            "Epoch 1/50\n",
            "41152/57114 [====================>.........] - ETA: 4s - loss: 0.7328 - acc: 0.7295"
          ],
          "name": "stdout"
        },
        {
          "output_type": "stream",
          "text": [
            "57114/57114 [==============================] - 15s 257us/step - loss: 0.6662 - acc: 0.7544 - val_loss: 0.3828 - val_acc: 0.8597\n",
            "Epoch 2/50\n",
            "57114/57114 [==============================] - 13s 228us/step - loss: 0.4267 - acc: 0.8449 - val_loss: 0.3173 - val_acc: 0.8818\n",
            "Epoch 3/50\n",
            "30848/57114 [===============>..............] - ETA: 5s - loss: 0.3765 - acc: 0.8661"
          ],
          "name": "stdout"
        },
        {
          "output_type": "stream",
          "text": [
            "57114/57114 [==============================] - 13s 226us/step - loss: 0.3698 - acc: 0.8673 - val_loss: 0.2931 - val_acc: 0.8891\n",
            "Epoch 4/50\n",
            "57114/57114 [==============================] - 13s 226us/step - loss: 0.3396 - acc: 0.8758 - val_loss: 0.2625 - val_acc: 0.9012\n",
            "Epoch 5/50\n",
            "28544/57114 [=============>................] - ETA: 6s - loss: 0.3184 - acc: 0.8838"
          ],
          "name": "stdout"
        },
        {
          "output_type": "stream",
          "text": [
            "57114/57114 [==============================] - 13s 227us/step - loss: 0.3178 - acc: 0.8844 - val_loss: 0.2505 - val_acc: 0.9026\n",
            "Epoch 6/50\n",
            "57114/57114 [==============================] - 13s 229us/step - loss: 0.3055 - acc: 0.8872 - val_loss: 0.2489 - val_acc: 0.9078\n",
            "Epoch 7/50\n",
            "28032/57114 [=============>................] - ETA: 6s - loss: 0.2942 - acc: 0.8916"
          ],
          "name": "stdout"
        },
        {
          "output_type": "stream",
          "text": [
            "57114/57114 [==============================] - 13s 226us/step - loss: 0.2935 - acc: 0.8921 - val_loss: 0.2564 - val_acc: 0.9002\n",
            "Epoch 8/50\n",
            "57114/57114 [==============================] - 13s 225us/step - loss: 0.2837 - acc: 0.8954 - val_loss: 0.2308 - val_acc: 0.9158\n",
            "Epoch 9/50\n",
            "28224/57114 [=============>................] - ETA: 6s - loss: 0.2800 - acc: 0.8965"
          ],
          "name": "stdout"
        },
        {
          "output_type": "stream",
          "text": [
            "57114/57114 [==============================] - 13s 225us/step - loss: 0.2780 - acc: 0.8966 - val_loss: 0.2378 - val_acc: 0.9103\n",
            "Epoch 10/50\n",
            "57114/57114 [==============================] - 13s 226us/step - loss: 0.2722 - acc: 0.8996 - val_loss: 0.2651 - val_acc: 0.8954\n",
            "Epoch 11/50\n",
            "27648/57114 [=============>................] - ETA: 6s - loss: 0.2671 - acc: 0.9013"
          ],
          "name": "stdout"
        },
        {
          "output_type": "stream",
          "text": [
            "57114/57114 [==============================] - 13s 223us/step - loss: 0.2652 - acc: 0.9021 - val_loss: 0.2288 - val_acc: 0.9130\n",
            "Epoch 12/50\n",
            "57114/57114 [==============================] - 13s 223us/step - loss: 0.2582 - acc: 0.9038 - val_loss: 0.2286 - val_acc: 0.9113\n",
            "Epoch 13/50\n",
            "27904/57114 [=============>................] - ETA: 6s - loss: 0.2566 - acc: 0.9023"
          ],
          "name": "stdout"
        },
        {
          "output_type": "stream",
          "text": [
            "57114/57114 [==============================] - 13s 222us/step - loss: 0.2554 - acc: 0.9035 - val_loss: 0.2226 - val_acc: 0.9130\n",
            "Epoch 14/50\n",
            "57114/57114 [==============================] - 13s 225us/step - loss: 0.2529 - acc: 0.9073 - val_loss: 0.2324 - val_acc: 0.9158\n",
            "Epoch 15/50\n",
            "27712/57114 [=============>................] - ETA: 6s - loss: 0.2458 - acc: 0.9075"
          ],
          "name": "stdout"
        },
        {
          "output_type": "stream",
          "text": [
            "57114/57114 [==============================] - 13s 228us/step - loss: 0.2487 - acc: 0.9078 - val_loss: 0.2210 - val_acc: 0.9172\n",
            "Epoch 16/50\n",
            "57114/57114 [==============================] - 13s 228us/step - loss: 0.2446 - acc: 0.9097 - val_loss: 0.2105 - val_acc: 0.9179\n",
            "Epoch 17/50\n",
            "27520/57114 [=============>................] - ETA: 6s - loss: 0.2418 - acc: 0.9101"
          ],
          "name": "stdout"
        },
        {
          "output_type": "stream",
          "text": [
            "57114/57114 [==============================] - 13s 226us/step - loss: 0.2430 - acc: 0.9101 - val_loss: 0.2226 - val_acc: 0.9168\n",
            "Epoch 18/50\n",
            "57114/57114 [==============================] - 13s 227us/step - loss: 0.2418 - acc: 0.9104 - val_loss: 0.2132 - val_acc: 0.9193\n",
            "Epoch 19/50\n",
            "27648/57114 [=============>................] - ETA: 6s - loss: 0.2379 - acc: 0.9109"
          ],
          "name": "stdout"
        },
        {
          "output_type": "stream",
          "text": [
            "57114/57114 [==============================] - 13s 228us/step - loss: 0.2374 - acc: 0.9109 - val_loss: 0.2217 - val_acc: 0.9168\n",
            "Epoch 20/50\n",
            "57114/57114 [==============================] - 13s 229us/step - loss: 0.2349 - acc: 0.9115 - val_loss: 0.2101 - val_acc: 0.9217\n",
            "Epoch 21/50\n",
            "27712/57114 [=============>................] - ETA: 6s - loss: 0.2271 - acc: 0.9157"
          ],
          "name": "stdout"
        },
        {
          "output_type": "stream",
          "text": [
            "57114/57114 [==============================] - 13s 226us/step - loss: 0.2304 - acc: 0.9135 - val_loss: 0.2074 - val_acc: 0.9200\n",
            "Epoch 22/50\n",
            "57114/57114 [==============================] - 13s 226us/step - loss: 0.2297 - acc: 0.9160 - val_loss: 0.2058 - val_acc: 0.9248\n",
            "Epoch 23/50\n",
            "27456/57114 [=============>................] - ETA: 6s - loss: 0.2261 - acc: 0.9147"
          ],
          "name": "stdout"
        },
        {
          "output_type": "stream",
          "text": [
            "57114/57114 [==============================] - 13s 228us/step - loss: 0.2319 - acc: 0.9130 - val_loss: 0.2134 - val_acc: 0.9200\n",
            "Epoch 24/50\n",
            "57114/57114 [==============================] - 13s 227us/step - loss: 0.2281 - acc: 0.9150 - val_loss: 0.2141 - val_acc: 0.9203\n",
            "Epoch 25/50\n",
            "27328/57114 [=============>................] - ETA: 6s - loss: 0.2172 - acc: 0.9182"
          ],
          "name": "stdout"
        },
        {
          "output_type": "stream",
          "text": [
            "57114/57114 [==============================] - 13s 227us/step - loss: 0.2216 - acc: 0.9161 - val_loss: 0.2104 - val_acc: 0.9179\n",
            "Epoch 26/50\n",
            "57114/57114 [==============================] - 13s 228us/step - loss: 0.2217 - acc: 0.9171 - val_loss: 0.2077 - val_acc: 0.9231\n",
            "Epoch 27/50\n",
            "27648/57114 [=============>................] - ETA: 6s - loss: 0.2176 - acc: 0.9172"
          ],
          "name": "stdout"
        },
        {
          "output_type": "stream",
          "text": [
            "57114/57114 [==============================] - 13s 227us/step - loss: 0.2220 - acc: 0.9179 - val_loss: 0.2089 - val_acc: 0.9196\n",
            "Epoch 28/50\n",
            "57114/57114 [==============================] - 13s 228us/step - loss: 0.2197 - acc: 0.9174 - val_loss: 0.2096 - val_acc: 0.9182\n",
            "Epoch 29/50\n",
            "27520/57114 [=============>................] - ETA: 6s - loss: 0.2177 - acc: 0.9160"
          ],
          "name": "stdout"
        },
        {
          "output_type": "stream",
          "text": [
            "57114/57114 [==============================] - 13s 227us/step - loss: 0.2222 - acc: 0.9164 - val_loss: 0.2096 - val_acc: 0.9182\n",
            "Epoch 00029: early stopping\n",
            "TEST LOSS: 0.22754243550300599 \t TEST ACCURACY: 0.9197\n",
            "[0.22754243550300599, 0.9197] \n",
            "\n",
            "[[  0.    0.    0.5   0.    0.   32.  128.   32.   64.   64.    8. ]]\n",
            "Epoch 1/50\n",
            "55936/60000 [==========================>...] - ETA: 0s - loss: 0.5844 - acc: 0.7856"
          ],
          "name": "stdout"
        },
        {
          "output_type": "stream",
          "text": [
            "60000/60000 [==============================] - 14s 233us/step - loss: 0.5729 - acc: 0.7898\n",
            "Epoch 2/50\n",
            "60000/60000 [==============================] - 12s 207us/step - loss: 0.3789 - acc: 0.8610\n",
            "Epoch 3/50\n",
            "49728/60000 [=======================>......] - ETA: 2s - loss: 0.3325 - acc: 0.8789"
          ],
          "name": "stdout"
        },
        {
          "output_type": "stream",
          "text": [
            "60000/60000 [==============================] - 12s 204us/step - loss: 0.3305 - acc: 0.8798\n",
            "Epoch 4/50\n",
            "60000/60000 [==============================] - 12s 205us/step - loss: 0.3032 - acc: 0.8895\n",
            "Epoch 5/50\n",
            "48256/60000 [=======================>......] - ETA: 2s - loss: 0.2836 - acc: 0.8949"
          ],
          "name": "stdout"
        },
        {
          "output_type": "stream",
          "text": [
            "60000/60000 [==============================] - 12s 204us/step - loss: 0.2837 - acc: 0.8948\n",
            "Epoch 6/50\n",
            "60000/60000 [==============================] - 12s 204us/step - loss: 0.2705 - acc: 0.8994\n",
            "Epoch 7/50\n",
            "46848/60000 [======================>.......] - ETA: 2s - loss: 0.2572 - acc: 0.9043"
          ],
          "name": "stdout"
        },
        {
          "output_type": "stream",
          "text": [
            "60000/60000 [==============================] - 13s 209us/step - loss: 0.2578 - acc: 0.9040\n",
            "Epoch 8/50\n",
            "60000/60000 [==============================] - 12s 207us/step - loss: 0.2477 - acc: 0.9076\n",
            "Epoch 9/50\n",
            "46208/60000 [======================>.......] - ETA: 2s - loss: 0.2344 - acc: 0.9139"
          ],
          "name": "stdout"
        },
        {
          "output_type": "stream",
          "text": [
            "60000/60000 [==============================] - 12s 208us/step - loss: 0.2391 - acc: 0.9118\n",
            "Epoch 10/50\n",
            "60000/60000 [==============================] - 13s 210us/step - loss: 0.2316 - acc: 0.9129\n",
            "Epoch 11/50\n",
            "45120/60000 [=====================>........] - ETA: 3s - loss: 0.2246 - acc: 0.9156"
          ],
          "name": "stdout"
        },
        {
          "output_type": "stream",
          "text": [
            "60000/60000 [==============================] - 13s 209us/step - loss: 0.2257 - acc: 0.9150\n",
            "Epoch 12/50\n",
            "60000/60000 [==============================] - 12s 208us/step - loss: 0.2170 - acc: 0.9187\n",
            "Epoch 13/50\n",
            "44928/60000 [=====================>........] - ETA: 3s - loss: 0.2086 - acc: 0.9209"
          ],
          "name": "stdout"
        },
        {
          "output_type": "stream",
          "text": [
            "60000/60000 [==============================] - 13s 209us/step - loss: 0.2127 - acc: 0.9194\n",
            "Epoch 14/50\n",
            "60000/60000 [==============================] - 13s 210us/step - loss: 0.2071 - acc: 0.9217\n",
            "Epoch 15/50\n",
            "44864/60000 [=====================>........] - ETA: 3s - loss: 0.2014 - acc: 0.9247"
          ],
          "name": "stdout"
        },
        {
          "output_type": "stream",
          "text": [
            "60000/60000 [==============================] - 13s 209us/step - loss: 0.2020 - acc: 0.9239\n",
            "Epoch 16/50\n",
            "60000/60000 [==============================] - 12s 208us/step - loss: 0.1998 - acc: 0.9245\n",
            "Epoch 17/50\n",
            "44864/60000 [=====================>........] - ETA: 3s - loss: 0.1930 - acc: 0.9262"
          ],
          "name": "stdout"
        },
        {
          "output_type": "stream",
          "text": [
            "60000/60000 [==============================] - 13s 209us/step - loss: 0.1926 - acc: 0.9264\n",
            "Epoch 18/50\n",
            "60000/60000 [==============================] - 13s 210us/step - loss: 0.1914 - acc: 0.9270\n",
            "Epoch 19/50\n",
            "44928/60000 [=====================>........] - ETA: 3s - loss: 0.1839 - acc: 0.9296"
          ],
          "name": "stdout"
        },
        {
          "output_type": "stream",
          "text": [
            "60000/60000 [==============================] - 13s 209us/step - loss: 0.1845 - acc: 0.9296\n",
            "Epoch 20/50\n",
            "60000/60000 [==============================] - 13s 211us/step - loss: 0.1863 - acc: 0.9296\n",
            "Epoch 21/50\n",
            "45120/60000 [=====================>........] - ETA: 3s - loss: 0.1818 - acc: 0.9304"
          ],
          "name": "stdout"
        },
        {
          "output_type": "stream",
          "text": [
            "60000/60000 [==============================] - 13s 209us/step - loss: 0.1810 - acc: 0.9311\n",
            "Epoch 22/50\n",
            "60000/60000 [==============================] - 13s 209us/step - loss: 0.1789 - acc: 0.9331\n",
            "Epoch 23/50\n",
            "45120/60000 [=====================>........] - ETA: 3s - loss: 0.1756 - acc: 0.9327"
          ],
          "name": "stdout"
        },
        {
          "output_type": "stream",
          "text": [
            "60000/60000 [==============================] - 13s 209us/step - loss: 0.1751 - acc: 0.9334\n",
            "Epoch 24/50\n",
            "60000/60000 [==============================] - 13s 209us/step - loss: 0.1727 - acc: 0.9350\n",
            "Epoch 25/50\n",
            "46208/60000 [======================>.......] - ETA: 2s - loss: 0.1694 - acc: 0.9355"
          ],
          "name": "stdout"
        },
        {
          "output_type": "stream",
          "text": [
            "60000/60000 [==============================] - 12s 204us/step - loss: 0.1695 - acc: 0.9350\n",
            "Epoch 26/50\n",
            "60000/60000 [==============================] - 12s 205us/step - loss: 0.1644 - acc: 0.9383\n",
            "Epoch 27/50\n",
            "46784/60000 [======================>.......] - ETA: 2s - loss: 0.1668 - acc: 0.9367"
          ],
          "name": "stdout"
        },
        {
          "output_type": "stream",
          "text": [
            "60000/60000 [==============================] - 12s 204us/step - loss: 0.1654 - acc: 0.9375\n",
            "Epoch 28/50\n",
            "60000/60000 [==============================] - 12s 205us/step - loss: 0.1636 - acc: 0.9382\n",
            "Epoch 29/50\n",
            "45696/60000 [=====================>........] - ETA: 2s - loss: 0.1576 - acc: 0.9391"
          ],
          "name": "stdout"
        },
        {
          "output_type": "stream",
          "text": [
            "60000/60000 [==============================] - 13s 210us/step - loss: 0.1593 - acc: 0.9389\n",
            "Epoch 30/50\n",
            "60000/60000 [==============================] - 13s 211us/step - loss: 0.1597 - acc: 0.9388\n",
            "Epoch 31/50\n",
            "44800/60000 [=====================>........] - ETA: 3s - loss: 0.1537 - acc: 0.9413"
          ],
          "name": "stdout"
        },
        {
          "output_type": "stream",
          "text": [
            "60000/60000 [==============================] - 13s 209us/step - loss: 0.1564 - acc: 0.9400\n",
            "Epoch 32/50\n",
            "60000/60000 [==============================] - 13s 209us/step - loss: 0.1526 - acc: 0.9418\n",
            "Epoch 33/50\n",
            "44608/60000 [=====================>........] - ETA: 3s - loss: 0.1515 - acc: 0.9415"
          ],
          "name": "stdout"
        },
        {
          "output_type": "stream",
          "text": [
            "60000/60000 [==============================] - 12s 208us/step - loss: 0.1515 - acc: 0.9423\n",
            "Epoch 34/50\n",
            "60000/60000 [==============================] - 13s 210us/step - loss: 0.1484 - acc: 0.9434\n",
            "Epoch 35/50\n",
            "45056/60000 [=====================>........] - ETA: 3s - loss: 0.1540 - acc: 0.9412"
          ],
          "name": "stdout"
        },
        {
          "output_type": "stream",
          "text": [
            "60000/60000 [==============================] - 13s 209us/step - loss: 0.1522 - acc: 0.9427\n",
            "Epoch 36/50\n",
            "60000/60000 [==============================] - 13s 209us/step - loss: 0.1489 - acc: 0.9446\n",
            "Epoch 37/50\n",
            "44928/60000 [=====================>........] - ETA: 3s - loss: 0.1465 - acc: 0.9444"
          ],
          "name": "stdout"
        },
        {
          "output_type": "stream",
          "text": [
            "60000/60000 [==============================] - 13s 210us/step - loss: 0.1471 - acc: 0.9435\n",
            "Epoch 38/50\n",
            "60000/60000 [==============================] - 13s 211us/step - loss: 0.1457 - acc: 0.9448\n",
            "Epoch 39/50\n",
            "44928/60000 [=====================>........] - ETA: 3s - loss: 0.1442 - acc: 0.9457"
          ],
          "name": "stdout"
        },
        {
          "output_type": "stream",
          "text": [
            "60000/60000 [==============================] - 13s 210us/step - loss: 0.1453 - acc: 0.9453\n",
            "Epoch 40/50\n",
            "60000/60000 [==============================] - 13s 211us/step - loss: 0.1438 - acc: 0.9459\n",
            "Epoch 41/50\n",
            "44864/60000 [=====================>........] - ETA: 3s - loss: 0.1388 - acc: 0.9471"
          ],
          "name": "stdout"
        },
        {
          "output_type": "stream",
          "text": [
            "60000/60000 [==============================] - 13s 209us/step - loss: 0.1417 - acc: 0.9461\n",
            "Epoch 42/50\n",
            "60000/60000 [==============================] - 13s 209us/step - loss: 0.1401 - acc: 0.9465\n",
            "Epoch 43/50\n",
            "44928/60000 [=====================>........] - ETA: 3s - loss: 0.1379 - acc: 0.9476"
          ],
          "name": "stdout"
        },
        {
          "output_type": "stream",
          "text": [
            "60000/60000 [==============================] - 13s 210us/step - loss: 0.1364 - acc: 0.9479\n",
            "Epoch 44/50\n",
            "60000/60000 [==============================] - 13s 209us/step - loss: 0.1420 - acc: 0.9453\n",
            "Epoch 45/50\n",
            "45120/60000 [=====================>........] - ETA: 3s - loss: 0.1352 - acc: 0.9488"
          ],
          "name": "stdout"
        },
        {
          "output_type": "stream",
          "text": [
            "60000/60000 [==============================] - 13s 210us/step - loss: 0.1365 - acc: 0.9483\n",
            "Epoch 46/50\n",
            "60000/60000 [==============================] - 13s 209us/step - loss: 0.1350 - acc: 0.9488\n",
            "Epoch 47/50\n",
            "45120/60000 [=====================>........] - ETA: 3s - loss: 0.1322 - acc: 0.9497"
          ],
          "name": "stdout"
        },
        {
          "output_type": "stream",
          "text": [
            "60000/60000 [==============================] - 13s 211us/step - loss: 0.1338 - acc: 0.9492\n",
            "Epoch 48/50\n",
            "60000/60000 [==============================] - 12s 208us/step - loss: 0.1342 - acc: 0.9485\n",
            "Epoch 49/50\n",
            "44864/60000 [=====================>........] - ETA: 3s - loss: 0.1301 - acc: 0.9504"
          ],
          "name": "stdout"
        },
        {
          "output_type": "stream",
          "text": [
            "60000/60000 [==============================] - 13s 210us/step - loss: 0.1319 - acc: 0.9498\n",
            "Epoch 50/50\n",
            "60000/60000 [==============================] - 13s 209us/step - loss: 0.1312 - acc: 0.9506\n",
            "TEST LOSS: 0.25558000888302923 \t TEST ACCURACY: 0.9207\n",
            "[0.25558000888302923, 0.9207] \n",
            "\n",
            "[[1.40192377e-01 8.46494484e-02 4.32341264e-01 3.36526437e-02\n",
            "  1.64437740e-01 1.28000000e+02 1.02400000e+03 3.20000000e+01\n",
            "  1.28000000e+02 1.28000000e+02 4.00000000e+00]]\n",
            "Train on 51588 samples, validate on 8412 samples\n",
            "Epoch 1/50\n",
            "10624/51588 [=====>........................] - ETA: 29s - loss: 1.1690 - acc: 0.5747"
          ],
          "name": "stdout"
        },
        {
          "output_type": "stream",
          "text": [
            "51588/51588 [==============================] - 30s 577us/step - loss: 0.6680 - acc: 0.7561 - val_loss: 0.4191 - val_acc: 0.8512\n",
            "Epoch 2/50\n",
            "41472/51588 [=======================>......] - ETA: 5s - loss: 0.3999 - acc: 0.8542"
          ],
          "name": "stdout"
        },
        {
          "output_type": "stream",
          "text": [
            "51588/51588 [==============================] - 27s 521us/step - loss: 0.3944 - acc: 0.8564 - val_loss: 0.3307 - val_acc: 0.8782\n",
            "Epoch 3/50\n",
            "51588/51588 [==============================] - 27s 520us/step - loss: 0.3387 - acc: 0.8764 - val_loss: 0.3095 - val_acc: 0.8871\n",
            "Epoch 4/50\n",
            " 1024/51588 [..............................] - ETA: 25s - loss: 0.3695 - acc: 0.8682"
          ],
          "name": "stdout"
        },
        {
          "output_type": "stream",
          "text": [
            "51588/51588 [==============================] - 27s 519us/step - loss: 0.3082 - acc: 0.8879 - val_loss: 0.2895 - val_acc: 0.8937\n",
            "Epoch 5/50\n",
            "37760/51588 [====================>.........] - ETA: 6s - loss: 0.2825 - acc: 0.8967"
          ],
          "name": "stdout"
        },
        {
          "output_type": "stream",
          "text": [
            "51588/51588 [==============================] - 27s 522us/step - loss: 0.2810 - acc: 0.8968 - val_loss: 0.2723 - val_acc: 0.8991\n",
            "Epoch 6/50\n",
            "51588/51588 [==============================] - 27s 517us/step - loss: 0.2643 - acc: 0.9036 - val_loss: 0.2740 - val_acc: 0.8998\n"
          ],
          "name": "stdout"
        },
        {
          "output_type": "stream",
          "text": [
            "Epoch 7/50\n",
            "51588/51588 [==============================] - 27s 518us/step - loss: 0.2602 - acc: 0.9040 - val_loss: 0.2584 - val_acc: 0.9073\n",
            "Epoch 8/50\n",
            "33536/51588 [==================>...........] - ETA: 8s - loss: 0.2429 - acc: 0.9097"
          ],
          "name": "stdout"
        },
        {
          "output_type": "stream",
          "text": [
            "51588/51588 [==============================] - 27s 519us/step - loss: 0.2409 - acc: 0.9107 - val_loss: 0.2523 - val_acc: 0.9076\n",
            "Epoch 9/50\n",
            "49664/51588 [===========================>..] - ETA: 0s - loss: 0.2316 - acc: 0.9142"
          ],
          "name": "stdout"
        },
        {
          "output_type": "stream",
          "text": [
            "51588/51588 [==============================] - 27s 524us/step - loss: 0.2313 - acc: 0.9143 - val_loss: 0.2387 - val_acc: 0.9114\n",
            "Epoch 10/50\n",
            "51588/51588 [==============================] - 27s 522us/step - loss: 0.2213 - acc: 0.9172 - val_loss: 0.2311 - val_acc: 0.9152\n",
            "Epoch 11/50\n",
            " 2432/51588 [>.............................] - ETA: 24s - loss: 0.2090 - acc: 0.9194"
          ],
          "name": "stdout"
        },
        {
          "output_type": "stream",
          "text": [
            "51588/51588 [==============================] - 27s 529us/step - loss: 0.2132 - acc: 0.9209 - val_loss: 0.2390 - val_acc: 0.9175\n",
            "Epoch 12/50\n",
            "35328/51588 [===================>..........] - ETA: 8s - loss: 0.2004 - acc: 0.9265"
          ],
          "name": "stdout"
        },
        {
          "output_type": "stream",
          "text": [
            "51588/51588 [==============================] - 27s 533us/step - loss: 0.2025 - acc: 0.9258 - val_loss: 0.2305 - val_acc: 0.9156\n",
            "Epoch 13/50\n",
            "47360/51588 [==========================>...] - ETA: 2s - loss: 0.2016 - acc: 0.9242"
          ],
          "name": "stdout"
        },
        {
          "output_type": "stream",
          "text": [
            "51588/51588 [==============================] - 28s 535us/step - loss: 0.2011 - acc: 0.9243 - val_loss: 0.2301 - val_acc: 0.9211\n",
            "Epoch 14/50\n",
            "51588/51588 [==============================] - 27s 531us/step - loss: 0.1915 - acc: 0.9282 - val_loss: 0.2331 - val_acc: 0.9176\n",
            "Epoch 15/50\n",
            " 1536/51588 [..............................] - ETA: 25s - loss: 0.1708 - acc: 0.9349"
          ],
          "name": "stdout"
        },
        {
          "output_type": "stream",
          "text": [
            "51588/51588 [==============================] - 28s 536us/step - loss: 0.1831 - acc: 0.9326 - val_loss: 0.2362 - val_acc: 0.9155\n",
            "Epoch 16/50\n",
            "35840/51588 [===================>..........] - ETA: 7s - loss: 0.1745 - acc: 0.9355"
          ],
          "name": "stdout"
        },
        {
          "output_type": "stream",
          "text": [
            "51588/51588 [==============================] - 27s 532us/step - loss: 0.1765 - acc: 0.9347 - val_loss: 0.2337 - val_acc: 0.9183\n",
            "Epoch 17/50\n",
            "50560/51588 [============================>.] - ETA: 0s - loss: 0.1691 - acc: 0.9372"
          ],
          "name": "stdout"
        },
        {
          "output_type": "stream",
          "text": [
            "51588/51588 [==============================] - 27s 526us/step - loss: 0.1693 - acc: 0.9372 - val_loss: 0.2252 - val_acc: 0.9248\n",
            "Epoch 18/50\n",
            "51588/51588 [==============================] - 27s 528us/step - loss: 0.1660 - acc: 0.9384 - val_loss: 0.2295 - val_acc: 0.9220\n",
            "Epoch 19/50\n",
            " 1536/51588 [..............................] - ETA: 24s - loss: 0.1626 - acc: 0.9375"
          ],
          "name": "stdout"
        },
        {
          "output_type": "stream",
          "text": [
            "51588/51588 [==============================] - 27s 533us/step - loss: 0.1619 - acc: 0.9398 - val_loss: 0.2335 - val_acc: 0.9219\n",
            "Epoch 20/50\n",
            "36992/51588 [====================>.........] - ETA: 7s - loss: 0.1657 - acc: 0.9384"
          ],
          "name": "stdout"
        },
        {
          "output_type": "stream",
          "text": [
            "51588/51588 [==============================] - 27s 530us/step - loss: 0.1659 - acc: 0.9380 - val_loss: 0.2311 - val_acc: 0.9200\n",
            "Epoch 21/50\n",
            "50304/51588 [============================>.] - ETA: 0s - loss: 0.1526 - acc: 0.9422"
          ],
          "name": "stdout"
        },
        {
          "output_type": "stream",
          "text": [
            "51588/51588 [==============================] - 27s 528us/step - loss: 0.1526 - acc: 0.9422 - val_loss: 0.2354 - val_acc: 0.9214\n",
            "Epoch 00021: early stopping\n",
            "TEST LOSS: 0.26078709499835967 \t TEST ACCURACY: 0.9159\n",
            "[0.26078709499835967, 0.9159] \n",
            "\n",
            "[[2.54804428e-01 7.16521911e-02 1.03883761e-01 1.52628609e-01\n",
            "  1.72883909e-01 3.20000000e+01 3.20000000e+01 1.02400000e+03\n",
            "  3.20000000e+01 6.40000000e+01 5.00000000e+00]]\n",
            "Train on 44711 samples, validate on 15289 samples\n",
            "Epoch 1/50\n",
            "43008/44711 [===========================>..] - ETA: 0s - loss: 0.7154 - acc: 0.7433"
          ],
          "name": "stdout"
        },
        {
          "output_type": "stream",
          "text": [
            "44711/44711 [==============================] - 14s 308us/step - loss: 0.7070 - acc: 0.7463 - val_loss: 0.3991 - val_acc: 0.8509\n",
            "Epoch 2/50\n",
            "44711/44711 [==============================] - 11s 255us/step - loss: 0.4461 - acc: 0.8398 - val_loss: 0.3393 - val_acc: 0.8740\n",
            "Epoch 3/50\n",
            "41280/44711 [==========================>...] - ETA: 0s - loss: 0.3873 - acc: 0.8619"
          ],
          "name": "stdout"
        },
        {
          "output_type": "stream",
          "text": [
            "44711/44711 [==============================] - 11s 255us/step - loss: 0.3866 - acc: 0.8622 - val_loss: 0.3207 - val_acc: 0.8819\n",
            "Epoch 4/50\n",
            "44711/44711 [==============================] - 11s 253us/step - loss: 0.3382 - acc: 0.8778 - val_loss: 0.2847 - val_acc: 0.8953\n",
            "Epoch 5/50\n",
            "40896/44711 [==========================>...] - ETA: 0s - loss: 0.3093 - acc: 0.8898"
          ],
          "name": "stdout"
        },
        {
          "output_type": "stream",
          "text": [
            "44711/44711 [==============================] - 11s 252us/step - loss: 0.3090 - acc: 0.8896 - val_loss: 0.2781 - val_acc: 0.8969\n",
            "Epoch 6/50\n",
            "44711/44711 [==============================] - 11s 254us/step - loss: 0.2875 - acc: 0.8972 - val_loss: 0.2850 - val_acc: 0.8955\n",
            "Epoch 7/50\n",
            "40896/44711 [==========================>...] - ETA: 0s - loss: 0.2694 - acc: 0.9035"
          ],
          "name": "stdout"
        },
        {
          "output_type": "stream",
          "text": [
            "44711/44711 [==============================] - 11s 254us/step - loss: 0.2688 - acc: 0.9033 - val_loss: 0.2615 - val_acc: 0.9058\n",
            "Epoch 8/50\n",
            "44711/44711 [==============================] - 11s 255us/step - loss: 0.2477 - acc: 0.9090 - val_loss: 0.2760 - val_acc: 0.8971\n",
            "Epoch 9/50\n",
            "40768/44711 [==========================>...] - ETA: 0s - loss: 0.2364 - acc: 0.9137"
          ],
          "name": "stdout"
        },
        {
          "output_type": "stream",
          "text": [
            "44711/44711 [==============================] - 11s 256us/step - loss: 0.2365 - acc: 0.9138 - val_loss: 0.2557 - val_acc: 0.9084\n",
            "Epoch 10/50\n",
            "44711/44711 [==============================] - 11s 253us/step - loss: 0.2188 - acc: 0.9186 - val_loss: 0.2592 - val_acc: 0.9077\n",
            "Epoch 11/50\n",
            "40320/44711 [==========================>...] - ETA: 1s - loss: 0.2085 - acc: 0.9223"
          ],
          "name": "stdout"
        },
        {
          "output_type": "stream",
          "text": [
            "44711/44711 [==============================] - 11s 254us/step - loss: 0.2093 - acc: 0.9221 - val_loss: 0.2600 - val_acc: 0.9108\n",
            "Epoch 12/50\n",
            "44711/44711 [==============================] - 11s 252us/step - loss: 0.1985 - acc: 0.9259 - val_loss: 0.2562 - val_acc: 0.9127\n",
            "Epoch 13/50\n",
            "41152/44711 [==========================>...] - ETA: 0s - loss: 0.1862 - acc: 0.9311"
          ],
          "name": "stdout"
        },
        {
          "output_type": "stream",
          "text": [
            "44711/44711 [==============================] - 11s 247us/step - loss: 0.1877 - acc: 0.9307 - val_loss: 0.2530 - val_acc: 0.9132\n",
            "Epoch 14/50\n",
            "44711/44711 [==============================] - 11s 245us/step - loss: 0.1777 - acc: 0.9336 - val_loss: 0.2614 - val_acc: 0.9138\n",
            "Epoch 15/50\n",
            "41472/44711 [==========================>...] - ETA: 0s - loss: 0.1708 - acc: 0.9364"
          ],
          "name": "stdout"
        },
        {
          "output_type": "stream",
          "text": [
            "44711/44711 [==============================] - 11s 245us/step - loss: 0.1708 - acc: 0.9365 - val_loss: 0.2580 - val_acc: 0.9116\n",
            "Epoch 16/50\n",
            "44711/44711 [==============================] - 11s 242us/step - loss: 0.1637 - acc: 0.9382 - val_loss: 0.2694 - val_acc: 0.9146\n",
            "Epoch 17/50\n",
            "41216/44711 [==========================>...] - ETA: 0s - loss: 0.1592 - acc: 0.9401"
          ],
          "name": "stdout"
        },
        {
          "output_type": "stream",
          "text": [
            "44711/44711 [==============================] - 11s 247us/step - loss: 0.1596 - acc: 0.9398 - val_loss: 0.2490 - val_acc: 0.9165\n",
            "Epoch 18/50\n",
            "44711/44711 [==============================] - 11s 250us/step - loss: 0.1504 - acc: 0.9426 - val_loss: 0.2686 - val_acc: 0.9127\n",
            "Epoch 19/50\n",
            "40448/44711 [==========================>...] - ETA: 0s - loss: 0.1447 - acc: 0.9455"
          ],
          "name": "stdout"
        },
        {
          "output_type": "stream",
          "text": [
            "44711/44711 [==============================] - 11s 251us/step - loss: 0.1452 - acc: 0.9454 - val_loss: 0.2660 - val_acc: 0.9152\n",
            "Epoch 20/50\n",
            "44711/44711 [==============================] - 11s 250us/step - loss: 0.1378 - acc: 0.9465 - val_loss: 0.2650 - val_acc: 0.9165\n",
            "Epoch 21/50\n",
            "40960/44711 [==========================>...] - ETA: 0s - loss: 0.1318 - acc: 0.9483"
          ],
          "name": "stdout"
        },
        {
          "output_type": "stream",
          "text": [
            "44711/44711 [==============================] - 11s 250us/step - loss: 0.1319 - acc: 0.9487 - val_loss: 0.2801 - val_acc: 0.9171\n",
            "Epoch 22/50\n",
            "44711/44711 [==============================] - 11s 250us/step - loss: 0.1310 - acc: 0.9492 - val_loss: 0.2766 - val_acc: 0.9149\n",
            "Epoch 00022: early stopping\n",
            "TEST LOSS: 0.29078915736079214 \t TEST ACCURACY: 0.9127\n",
            "[0.29078915736079214, 0.9127] \n",
            "\n",
            "[[1.50513960e-01 4.19189096e-01 1.50942235e-01 8.00880364e-02\n",
            "  2.68283676e-01 1.28000000e+02 1.28000000e+02 5.12000000e+02\n",
            "  1.02400000e+03 5.12000000e+02 6.00000000e+00]]\n",
            "Train on 50969 samples, validate on 9031 samples\n",
            "Epoch 1/50\n",
            "39936/50969 [======================>.......] - ETA: 2s - loss: 0.8799 - acc: 0.6804"
          ],
          "name": "stdout"
        },
        {
          "output_type": "stream",
          "text": [
            "50969/50969 [==============================] - 13s 257us/step - loss: 0.7964 - acc: 0.7083 - val_loss: 0.4803 - val_acc: 0.8239\n",
            "Epoch 2/50\n",
            "50969/50969 [==============================] - 10s 203us/step - loss: 0.4185 - acc: 0.8459 - val_loss: 0.3665 - val_acc: 0.8673\n",
            "Epoch 3/50\n",
            "50969/50969 [==============================] - 10s 202us/step - loss: 0.3526 - acc: 0.8690 - val_loss: 0.3227 - val_acc: 0.8824\n",
            "Epoch 4/50\n",
            "29184/50969 [================>.............] - ETA: 4s - loss: 0.3134 - acc: 0.8821"
          ],
          "name": "stdout"
        },
        {
          "output_type": "stream",
          "text": [
            "50969/50969 [==============================] - 10s 204us/step - loss: 0.3199 - acc: 0.8803 - val_loss: 0.3089 - val_acc: 0.8861\n",
            "Epoch 5/50\n",
            "50969/50969 [==============================] - 10s 202us/step - loss: 0.2923 - acc: 0.8919 - val_loss: 0.2777 - val_acc: 0.8950\n",
            "Epoch 6/50\n",
            "50969/50969 [==============================] - 10s 202us/step - loss: 0.2734 - acc: 0.8974 - val_loss: 0.2790 - val_acc: 0.8962\n",
            "Epoch 7/50\n",
            "33792/50969 [==================>...........] - ETA: 3s - loss: 0.2567 - acc: 0.9024"
          ],
          "name": "stdout"
        },
        {
          "output_type": "stream",
          "text": [
            "50969/50969 [==============================] - 10s 202us/step - loss: 0.2574 - acc: 0.9032 - val_loss: 0.2743 - val_acc: 0.8978\n",
            "Epoch 8/50\n",
            "50969/50969 [==============================] - 10s 203us/step - loss: 0.2400 - acc: 0.9101 - val_loss: 0.2553 - val_acc: 0.9058\n",
            "Epoch 9/50\n",
            "50969/50969 [==============================] - 10s 202us/step - loss: 0.2252 - acc: 0.9148 - val_loss: 0.2489 - val_acc: 0.9079\n",
            "Epoch 10/50\n",
            "35328/50969 [===================>..........] - ETA: 3s - loss: 0.2099 - acc: 0.9209"
          ],
          "name": "stdout"
        },
        {
          "output_type": "stream",
          "text": [
            "50969/50969 [==============================] - 10s 203us/step - loss: 0.2111 - acc: 0.9208 - val_loss: 0.2457 - val_acc: 0.9108\n",
            "Epoch 11/50\n",
            "50969/50969 [==============================] - 10s 203us/step - loss: 0.1973 - acc: 0.9261 - val_loss: 0.2545 - val_acc: 0.9064\n",
            "Epoch 12/50\n",
            "50969/50969 [==============================] - 10s 202us/step - loss: 0.1855 - acc: 0.9279 - val_loss: 0.2358 - val_acc: 0.9121\n",
            "Epoch 13/50\n",
            "36352/50969 [====================>.........] - ETA: 2s - loss: 0.1773 - acc: 0.9314"
          ],
          "name": "stdout"
        },
        {
          "output_type": "stream",
          "text": [
            "50969/50969 [==============================] - 10s 202us/step - loss: 0.1808 - acc: 0.9306 - val_loss: 0.2363 - val_acc: 0.9116\n",
            "Epoch 14/50\n",
            "50969/50969 [==============================] - 10s 202us/step - loss: 0.1676 - acc: 0.9360 - val_loss: 0.2394 - val_acc: 0.9130\n",
            "Epoch 15/50\n",
            "50969/50969 [==============================] - 10s 202us/step - loss: 0.1593 - acc: 0.9392 - val_loss: 0.2232 - val_acc: 0.9183\n",
            "Epoch 16/50\n",
            "33792/50969 [==================>...........] - ETA: 3s - loss: 0.1501 - acc: 0.9441"
          ],
          "name": "stdout"
        },
        {
          "output_type": "stream",
          "text": [
            "50969/50969 [==============================] - 10s 201us/step - loss: 0.1503 - acc: 0.9440 - val_loss: 0.2305 - val_acc: 0.9187\n",
            "Epoch 17/50\n",
            "50969/50969 [==============================] - 10s 201us/step - loss: 0.1422 - acc: 0.9455 - val_loss: 0.2304 - val_acc: 0.9194\n",
            "Epoch 18/50\n",
            "50969/50969 [==============================] - 10s 201us/step - loss: 0.1331 - acc: 0.9505 - val_loss: 0.2442 - val_acc: 0.9161\n",
            "Epoch 19/50\n",
            "36864/50969 [====================>.........] - ETA: 2s - loss: 0.1234 - acc: 0.9524"
          ],
          "name": "stdout"
        },
        {
          "output_type": "stream",
          "text": [
            "50969/50969 [==============================] - 10s 201us/step - loss: 0.1263 - acc: 0.9519 - val_loss: 0.2412 - val_acc: 0.9181\n",
            "Epoch 20/50\n",
            "50969/50969 [==============================] - 10s 201us/step - loss: 0.1167 - acc: 0.9554 - val_loss: 0.2478 - val_acc: 0.9207\n",
            "Epoch 21/50\n",
            "50969/50969 [==============================] - 10s 202us/step - loss: 0.1133 - acc: 0.9570 - val_loss: 0.2492 - val_acc: 0.9152\n",
            "Epoch 00021: early stopping\n",
            "TEST LOSS: 0.27391115465164184 \t TEST ACCURACY: 0.9141000000953674\n",
            "[0.27391115465164184, 0.9141000000953674] \n",
            "\n",
            "[[1.13686332e-01 2.74567755e-01 4.26887435e-02 2.73742067e-01\n",
            "  1.68650001e-01 5.12000000e+02 1.28000000e+02 1.02400000e+03\n",
            "  1.02400000e+03 2.56000000e+02 8.00000000e+00]]\n",
            "Train on 53178 samples, validate on 6822 samples\n",
            "Epoch 1/50\n",
            "10240/53178 [====>.........................] - ETA: 37s - loss: 1.1522 - acc: 0.6296"
          ],
          "name": "stdout"
        },
        {
          "output_type": "stream",
          "text": [
            "53178/53178 [==============================] - 36s 675us/step - loss: 0.5921 - acc: 0.7907 - val_loss: 0.3768 - val_acc: 0.8568\n",
            "Epoch 2/50\n",
            "53178/53178 [==============================] - 31s 591us/step - loss: 0.3578 - acc: 0.8671 - val_loss: 0.3251 - val_acc: 0.8821\n",
            "Epoch 3/50\n",
            "27648/53178 [==============>...............] - ETA: 14s - loss: 0.3151 - acc: 0.8812"
          ],
          "name": "stdout"
        },
        {
          "output_type": "stream",
          "text": [
            "53178/53178 [==============================] - 31s 592us/step - loss: 0.3110 - acc: 0.8833 - val_loss: 0.3079 - val_acc: 0.8841\n",
            "Epoch 4/50\n",
            "53178/53178 [==============================] - 31s 592us/step - loss: 0.2784 - acc: 0.8948 - val_loss: 0.2704 - val_acc: 0.8991\n",
            "Epoch 5/50\n",
            "31744/53178 [================>.............] - ETA: 12s - loss: 0.2506 - acc: 0.9054"
          ],
          "name": "stdout"
        },
        {
          "output_type": "stream",
          "text": [
            "53178/53178 [==============================] - 31s 590us/step - loss: 0.2576 - acc: 0.9024 - val_loss: 0.2719 - val_acc: 0.8977\n",
            "Epoch 6/50\n",
            "53178/53178 [==============================] - 31s 590us/step - loss: 0.2355 - acc: 0.9099 - val_loss: 0.2617 - val_acc: 0.8997\n",
            "Epoch 7/50\n",
            "32768/53178 [=================>............] - ETA: 11s - loss: 0.2119 - acc: 0.9201"
          ],
          "name": "stdout"
        },
        {
          "output_type": "stream",
          "text": [
            "53178/53178 [==============================] - 31s 589us/step - loss: 0.2136 - acc: 0.9189 - val_loss: 0.2517 - val_acc: 0.9085\n",
            "Epoch 8/50\n",
            "53178/53178 [==============================] - 31s 588us/step - loss: 0.2012 - acc: 0.9232 - val_loss: 0.2584 - val_acc: 0.9072\n",
            "Epoch 9/50\n",
            "33024/53178 [=================>............] - ETA: 11s - loss: 0.1841 - acc: 0.9307"
          ],
          "name": "stdout"
        },
        {
          "output_type": "stream",
          "text": [
            "53178/53178 [==============================] - 31s 590us/step - loss: 0.1897 - acc: 0.9283 - val_loss: 0.2476 - val_acc: 0.9107\n",
            "Epoch 10/50\n",
            "53178/53178 [==============================] - 31s 590us/step - loss: 0.1713 - acc: 0.9340 - val_loss: 0.2596 - val_acc: 0.9050\n",
            "Epoch 11/50\n",
            "32768/53178 [=================>............] - ETA: 11s - loss: 0.1527 - acc: 0.9426"
          ],
          "name": "stdout"
        },
        {
          "output_type": "stream",
          "text": [
            "53178/53178 [==============================] - 31s 590us/step - loss: 0.1595 - acc: 0.9393 - val_loss: 0.2607 - val_acc: 0.9074\n",
            "Epoch 12/50\n",
            "53178/53178 [==============================] - 31s 589us/step - loss: 0.1482 - acc: 0.9422 - val_loss: 0.2555 - val_acc: 0.9140\n",
            "Epoch 13/50\n",
            "32768/53178 [=================>............] - ETA: 11s - loss: 0.1375 - acc: 0.9468"
          ],
          "name": "stdout"
        },
        {
          "output_type": "stream",
          "text": [
            "53178/53178 [==============================] - 31s 589us/step - loss: 0.1407 - acc: 0.9457 - val_loss: 0.2609 - val_acc: 0.9135\n",
            "Epoch 14/50\n",
            "53178/53178 [==============================] - 31s 589us/step - loss: 0.1279 - acc: 0.9504 - val_loss: 0.2858 - val_acc: 0.9118\n",
            "Epoch 15/50\n",
            "32768/53178 [=================>............] - ETA: 11s - loss: 0.1236 - acc: 0.9539"
          ],
          "name": "stdout"
        },
        {
          "output_type": "stream",
          "text": [
            "53178/53178 [==============================] - 31s 590us/step - loss: 0.1219 - acc: 0.9539 - val_loss: 0.2997 - val_acc: 0.9119\n",
            "Epoch 16/50\n",
            "53178/53178 [==============================] - 31s 588us/step - loss: 0.1124 - acc: 0.9571 - val_loss: 0.2893 - val_acc: 0.9116\n",
            "Epoch 17/50\n",
            "32768/53178 [=================>............] - ETA: 11s - loss: 0.1040 - acc: 0.9602"
          ],
          "name": "stdout"
        },
        {
          "output_type": "stream",
          "text": [
            "53178/53178 [==============================] - 31s 587us/step - loss: 0.1096 - acc: 0.9585 - val_loss: 0.2796 - val_acc: 0.9131\n",
            "Epoch 00017: early stopping\n",
            "TEST LOSS: 0.31919243911504747 \t TEST ACCURACY: 0.9123\n",
            "[0.31919243911504747, 0.9123] \n",
            "\n",
            "[[2.81787317e-01 4.94000551e-01 4.66445999e-01 2.42769098e-01\n",
            "  3.79359795e-01 1.60000000e+01 1.28000000e+02 3.20000000e+01\n",
            "  1.28000000e+02 5.12000000e+02 8.00000000e+00]]\n",
            "Train on 43092 samples, validate on 16908 samples\n",
            "Epoch 1/50\n",
            "43092/43092 [==============================] - 5s 119us/step - loss: 1.4463 - acc: 0.4595 - val_loss: 0.8244 - val_acc: 0.7267\n",
            "Epoch 2/50\n",
            "43092/43092 [==============================] - 3s 65us/step - loss: 0.7800 - acc: 0.7059 - val_loss: 0.6429 - val_acc: 0.7728\n",
            "Epoch 3/50\n",
            "43092/43092 [==============================] - 3s 65us/step - loss: 0.6785 - acc: 0.7413 - val_loss: 0.5715 - val_acc: 0.7868\n",
            "Epoch 4/50\n",
            "  512/43092 [..............................] - ETA: 2s - loss: 0.6122 - acc: 0.7617"
          ],
          "name": "stdout"
        },
        {
          "output_type": "stream",
          "text": [
            "43092/43092 [==============================] - 3s 65us/step - loss: 0.6273 - acc: 0.7614 - val_loss: 0.5533 - val_acc: 0.8027\n",
            "Epoch 5/50\n",
            "43092/43092 [==============================] - 3s 64us/step - loss: 0.5907 - acc: 0.7762 - val_loss: 0.5198 - val_acc: 0.8133\n",
            "Epoch 6/50\n",
            "43092/43092 [==============================] - 3s 65us/step - loss: 0.5661 - acc: 0.7850 - val_loss: 0.4916 - val_acc: 0.8246\n",
            "Epoch 7/50\n",
            "43092/43092 [==============================] - 3s 64us/step - loss: 0.5439 - acc: 0.7936 - val_loss: 0.4791 - val_acc: 0.8293\n",
            "Epoch 8/50\n",
            "43092/43092 [==============================] - 3s 64us/step - loss: 0.5261 - acc: 0.8025 - val_loss: 0.4542 - val_acc: 0.8340\n",
            "Epoch 9/50\n",
            "29184/43092 [===================>..........] - ETA: 0s - loss: 0.5119 - acc: 0.8094"
          ],
          "name": "stdout"
        },
        {
          "output_type": "stream",
          "text": [
            "43092/43092 [==============================] - 3s 65us/step - loss: 0.5098 - acc: 0.8103 - val_loss: 0.4267 - val_acc: 0.8417\n",
            "Epoch 10/50\n",
            "43092/43092 [==============================] - 3s 64us/step - loss: 0.4872 - acc: 0.8170 - val_loss: 0.4150 - val_acc: 0.8487\n",
            "Epoch 11/50\n",
            "43092/43092 [==============================] - 3s 63us/step - loss: 0.4757 - acc: 0.8214 - val_loss: 0.4028 - val_acc: 0.8494\n",
            "Epoch 12/50\n",
            "43092/43092 [==============================] - 3s 64us/step - loss: 0.4622 - acc: 0.8264 - val_loss: 0.3947 - val_acc: 0.8553\n",
            "Epoch 13/50\n",
            "43092/43092 [==============================] - 3s 64us/step - loss: 0.4450 - acc: 0.8352 - val_loss: 0.3854 - val_acc: 0.8590\n",
            "Epoch 14/50\n",
            "32256/43092 [=====================>........] - ETA: 0s - loss: 0.4385 - acc: 0.8346"
          ],
          "name": "stdout"
        },
        {
          "output_type": "stream",
          "text": [
            "43092/43092 [==============================] - 3s 64us/step - loss: 0.4371 - acc: 0.8360 - val_loss: 0.3584 - val_acc: 0.8675\n",
            "Epoch 15/50\n",
            "43092/43092 [==============================] - 3s 64us/step - loss: 0.4253 - acc: 0.8434 - val_loss: 0.3449 - val_acc: 0.8740\n",
            "Epoch 16/50\n",
            "43092/43092 [==============================] - 3s 64us/step - loss: 0.4108 - acc: 0.8495 - val_loss: 0.3355 - val_acc: 0.8759\n",
            "Epoch 17/50\n",
            "43092/43092 [==============================] - 3s 64us/step - loss: 0.4068 - acc: 0.8494 - val_loss: 0.3350 - val_acc: 0.8768\n",
            "Epoch 18/50\n",
            "43092/43092 [==============================] - 3s 64us/step - loss: 0.3974 - acc: 0.8540 - val_loss: 0.3259 - val_acc: 0.8791\n",
            "Epoch 19/50\n",
            "32256/43092 [=====================>........] - ETA: 0s - loss: 0.3876 - acc: 0.8587"
          ],
          "name": "stdout"
        },
        {
          "output_type": "stream",
          "text": [
            "43092/43092 [==============================] - 3s 65us/step - loss: 0.3883 - acc: 0.8585 - val_loss: 0.3212 - val_acc: 0.8835\n",
            "Epoch 20/50\n",
            "43092/43092 [==============================] - 3s 64us/step - loss: 0.3861 - acc: 0.8571 - val_loss: 0.3174 - val_acc: 0.8825\n",
            "Epoch 21/50\n",
            "43092/43092 [==============================] - 3s 64us/step - loss: 0.3814 - acc: 0.8587 - val_loss: 0.3165 - val_acc: 0.8828\n",
            "Epoch 22/50\n",
            "43092/43092 [==============================] - 3s 64us/step - loss: 0.3748 - acc: 0.8627 - val_loss: 0.3115 - val_acc: 0.8822\n",
            "Epoch 23/50\n",
            "43092/43092 [==============================] - 3s 64us/step - loss: 0.3731 - acc: 0.8624 - val_loss: 0.3026 - val_acc: 0.8872\n",
            "Epoch 24/50\n",
            "32256/43092 [=====================>........] - ETA: 0s - loss: 0.3677 - acc: 0.8646"
          ],
          "name": "stdout"
        },
        {
          "output_type": "stream",
          "text": [
            "43092/43092 [==============================] - 3s 64us/step - loss: 0.3677 - acc: 0.8648 - val_loss: 0.3031 - val_acc: 0.8872\n",
            "Epoch 25/50\n",
            "43092/43092 [==============================] - 3s 65us/step - loss: 0.3636 - acc: 0.8678 - val_loss: 0.3117 - val_acc: 0.8840\n",
            "Epoch 26/50\n",
            "43092/43092 [==============================] - 3s 65us/step - loss: 0.3565 - acc: 0.8681 - val_loss: 0.3316 - val_acc: 0.8756\n",
            "Epoch 27/50\n",
            "43092/43092 [==============================] - 3s 64us/step - loss: 0.3575 - acc: 0.8682 - val_loss: 0.2935 - val_acc: 0.8913\n",
            "Epoch 28/50\n",
            "43092/43092 [==============================] - 3s 64us/step - loss: 0.3533 - acc: 0.8709 - val_loss: 0.2927 - val_acc: 0.8899\n",
            "Epoch 29/50\n",
            "32256/43092 [=====================>........] - ETA: 0s - loss: 0.3463 - acc: 0.8752"
          ],
          "name": "stdout"
        },
        {
          "output_type": "stream",
          "text": [
            "43092/43092 [==============================] - 3s 64us/step - loss: 0.3489 - acc: 0.8729 - val_loss: 0.2963 - val_acc: 0.8895\n",
            "Epoch 30/50\n",
            "43092/43092 [==============================] - 3s 64us/step - loss: 0.3443 - acc: 0.8729 - val_loss: 0.2861 - val_acc: 0.8944\n",
            "Epoch 31/50\n",
            "43092/43092 [==============================] - 3s 64us/step - loss: 0.3451 - acc: 0.8747 - val_loss: 0.2897 - val_acc: 0.8930\n",
            "Epoch 32/50\n",
            "43092/43092 [==============================] - 3s 64us/step - loss: 0.3447 - acc: 0.8734 - val_loss: 0.2933 - val_acc: 0.8904\n",
            "Epoch 33/50\n",
            "43092/43092 [==============================] - 3s 64us/step - loss: 0.3420 - acc: 0.8733 - val_loss: 0.2836 - val_acc: 0.8950\n",
            "Epoch 34/50\n",
            "32256/43092 [=====================>........] - ETA: 0s - loss: 0.3388 - acc: 0.8751"
          ],
          "name": "stdout"
        },
        {
          "output_type": "stream",
          "text": [
            "43092/43092 [==============================] - 3s 65us/step - loss: 0.3382 - acc: 0.8755 - val_loss: 0.2796 - val_acc: 0.8969\n",
            "Epoch 35/50\n",
            "43092/43092 [==============================] - 3s 64us/step - loss: 0.3376 - acc: 0.8742 - val_loss: 0.2850 - val_acc: 0.8939\n",
            "Epoch 36/50\n",
            "43092/43092 [==============================] - 3s 64us/step - loss: 0.3355 - acc: 0.8772 - val_loss: 0.2903 - val_acc: 0.8920\n",
            "Epoch 37/50\n",
            "43092/43092 [==============================] - 3s 65us/step - loss: 0.3336 - acc: 0.8777 - val_loss: 0.2756 - val_acc: 0.8974\n",
            "Epoch 38/50\n",
            "43092/43092 [==============================] - 3s 64us/step - loss: 0.3308 - acc: 0.8779 - val_loss: 0.2790 - val_acc: 0.8950\n",
            "Epoch 39/50\n",
            "32256/43092 [=====================>........] - ETA: 0s - loss: 0.3270 - acc: 0.8817"
          ],
          "name": "stdout"
        },
        {
          "output_type": "stream",
          "text": [
            "43092/43092 [==============================] - 3s 64us/step - loss: 0.3283 - acc: 0.8807 - val_loss: 0.2733 - val_acc: 0.8993\n",
            "Epoch 40/50\n",
            "43092/43092 [==============================] - 3s 64us/step - loss: 0.3274 - acc: 0.8796 - val_loss: 0.2785 - val_acc: 0.8983\n",
            "Epoch 41/50\n",
            "43092/43092 [==============================] - 3s 64us/step - loss: 0.3248 - acc: 0.8800 - val_loss: 0.2740 - val_acc: 0.8974\n",
            "Epoch 42/50\n",
            "43092/43092 [==============================] - 3s 64us/step - loss: 0.3210 - acc: 0.8820 - val_loss: 0.2691 - val_acc: 0.9002\n",
            "Epoch 43/50\n",
            "43092/43092 [==============================] - 3s 64us/step - loss: 0.3240 - acc: 0.8810 - val_loss: 0.2728 - val_acc: 0.9008\n",
            "Epoch 44/50\n",
            "32256/43092 [=====================>........] - ETA: 0s - loss: 0.3234 - acc: 0.8806"
          ],
          "name": "stdout"
        },
        {
          "output_type": "stream",
          "text": [
            "43092/43092 [==============================] - 3s 64us/step - loss: 0.3228 - acc: 0.8804 - val_loss: 0.2711 - val_acc: 0.8984\n",
            "Epoch 45/50\n",
            "43092/43092 [==============================] - 3s 64us/step - loss: 0.3165 - acc: 0.8844 - val_loss: 0.2680 - val_acc: 0.9006\n",
            "Epoch 46/50\n",
            "43092/43092 [==============================] - 3s 64us/step - loss: 0.3170 - acc: 0.8830 - val_loss: 0.2783 - val_acc: 0.8969\n",
            "Epoch 47/50\n",
            "43092/43092 [==============================] - 3s 64us/step - loss: 0.3194 - acc: 0.8816 - val_loss: 0.2728 - val_acc: 0.8990\n",
            "Epoch 48/50\n",
            "43092/43092 [==============================] - 3s 64us/step - loss: 0.3138 - acc: 0.8847 - val_loss: 0.2660 - val_acc: 0.9014\n",
            "Epoch 49/50\n",
            "32256/43092 [=====================>........] - ETA: 0s - loss: 0.3182 - acc: 0.8840"
          ],
          "name": "stdout"
        },
        {
          "output_type": "stream",
          "text": [
            "43092/43092 [==============================] - 3s 64us/step - loss: 0.3159 - acc: 0.8841 - val_loss: 0.2627 - val_acc: 0.9024\n",
            "Epoch 50/50\n",
            "43092/43092 [==============================] - 3s 64us/step - loss: 0.3161 - acc: 0.8840 - val_loss: 0.2675 - val_acc: 0.9014\n",
            "TEST LOSS: 0.27929485092163087 \t TEST ACCURACY: 0.8978999998092652\n",
            "[0.27929485092163087, 0.8978999998092652] \n",
            "\n",
            "[[1.33299516e-01 3.56529975e-01 3.43397929e-01 1.47603666e-01\n",
            "  3.16646603e-01 1.28000000e+02 1.28000000e+02 6.40000000e+01\n",
            "  5.12000000e+02 6.40000000e+01 4.00000000e+00]]\n",
            "Train on 52002 samples, validate on 7998 samples\n",
            "Epoch 1/50\n",
            "24064/52002 [============>.................] - ETA: 11s - loss: 0.7515 - acc: 0.7160"
          ],
          "name": "stdout"
        },
        {
          "output_type": "stream",
          "text": [
            "52002/52002 [==============================] - 19s 367us/step - loss: 0.6098 - acc: 0.7726 - val_loss: 0.3706 - val_acc: 0.8633\n",
            "Epoch 2/50\n",
            "52002/52002 [==============================] - 16s 305us/step - loss: 0.3889 - acc: 0.8581 - val_loss: 0.3179 - val_acc: 0.8841\n",
            "Epoch 3/50\n",
            "14272/52002 [=======>......................] - ETA: 10s - loss: 0.3465 - acc: 0.8720"
          ],
          "name": "stdout"
        },
        {
          "output_type": "stream",
          "text": [
            "52002/52002 [==============================] - 16s 303us/step - loss: 0.3344 - acc: 0.8769 - val_loss: 0.3078 - val_acc: 0.8868\n",
            "Epoch 4/50\n",
            "52002/52002 [==============================] - 16s 302us/step - loss: 0.3108 - acc: 0.8853 - val_loss: 0.2689 - val_acc: 0.9039\n",
            "Epoch 5/50\n",
            "11968/52002 [=====>........................] - ETA: 11s - loss: 0.2988 - acc: 0.8897"
          ],
          "name": "stdout"
        },
        {
          "output_type": "stream",
          "text": [
            "52002/52002 [==============================] - 16s 300us/step - loss: 0.2946 - acc: 0.8914 - val_loss: 0.2678 - val_acc: 0.8997\n",
            "Epoch 6/50\n",
            "52002/52002 [==============================] - 16s 299us/step - loss: 0.2761 - acc: 0.8965 - val_loss: 0.2591 - val_acc: 0.9030\n",
            "Epoch 7/50\n",
            "11392/52002 [=====>........................] - ETA: 11s - loss: 0.2622 - acc: 0.9004"
          ],
          "name": "stdout"
        },
        {
          "output_type": "stream",
          "text": [
            "52002/52002 [==============================] - 15s 298us/step - loss: 0.2689 - acc: 0.8999 - val_loss: 0.2486 - val_acc: 0.9105\n",
            "Epoch 8/50\n",
            "52002/52002 [==============================] - 16s 299us/step - loss: 0.2558 - acc: 0.9055 - val_loss: 0.2414 - val_acc: 0.9101\n",
            "Epoch 9/50\n",
            "11392/52002 [=====>........................] - ETA: 11s - loss: 0.2379 - acc: 0.9112"
          ],
          "name": "stdout"
        },
        {
          "output_type": "stream",
          "text": [
            "52002/52002 [==============================] - 16s 299us/step - loss: 0.2532 - acc: 0.9064 - val_loss: 0.2405 - val_acc: 0.9142\n",
            "Epoch 10/50\n",
            "52002/52002 [==============================] - 16s 304us/step - loss: 0.2449 - acc: 0.9079 - val_loss: 0.2448 - val_acc: 0.9080\n",
            "Epoch 11/50\n",
            "11008/52002 [=====>........................] - ETA: 11s - loss: 0.2335 - acc: 0.9108"
          ],
          "name": "stdout"
        },
        {
          "output_type": "stream",
          "text": [
            "52002/52002 [==============================] - 16s 301us/step - loss: 0.2383 - acc: 0.9110 - val_loss: 0.2279 - val_acc: 0.9161\n",
            "Epoch 12/50\n",
            "52002/52002 [==============================] - 16s 302us/step - loss: 0.2304 - acc: 0.9134 - val_loss: 0.2302 - val_acc: 0.9136\n",
            "Epoch 13/50\n",
            "11008/52002 [=====>........................] - ETA: 12s - loss: 0.2245 - acc: 0.9173"
          ],
          "name": "stdout"
        },
        {
          "output_type": "stream",
          "text": [
            "52002/52002 [==============================] - 16s 303us/step - loss: 0.2301 - acc: 0.9144 - val_loss: 0.2239 - val_acc: 0.9155\n",
            "Epoch 14/50\n",
            "52002/52002 [==============================] - 16s 303us/step - loss: 0.2244 - acc: 0.9154 - val_loss: 0.2245 - val_acc: 0.9176\n",
            "Epoch 15/50\n",
            "10816/52002 [=====>........................] - ETA: 11s - loss: 0.2091 - acc: 0.9220"
          ],
          "name": "stdout"
        },
        {
          "output_type": "stream",
          "text": [
            "52002/52002 [==============================] - 16s 301us/step - loss: 0.2191 - acc: 0.9170 - val_loss: 0.2311 - val_acc: 0.9165\n",
            "Epoch 16/50\n",
            "52002/52002 [==============================] - 16s 302us/step - loss: 0.2130 - acc: 0.9197 - val_loss: 0.2269 - val_acc: 0.9165\n",
            "Epoch 17/50\n",
            "11008/52002 [=====>........................] - ETA: 11s - loss: 0.2072 - acc: 0.9212"
          ],
          "name": "stdout"
        },
        {
          "output_type": "stream",
          "text": [
            "52002/52002 [==============================] - 16s 300us/step - loss: 0.2120 - acc: 0.9204 - val_loss: 0.2199 - val_acc: 0.9174\n",
            "Epoch 18/50\n",
            "52002/52002 [==============================] - 16s 302us/step - loss: 0.2113 - acc: 0.9207 - val_loss: 0.2223 - val_acc: 0.9201\n",
            "Epoch 19/50\n",
            "11008/52002 [=====>........................] - ETA: 12s - loss: 0.2032 - acc: 0.9240"
          ],
          "name": "stdout"
        },
        {
          "output_type": "stream",
          "text": [
            "52002/52002 [==============================] - 16s 305us/step - loss: 0.2094 - acc: 0.9228 - val_loss: 0.2152 - val_acc: 0.9182\n",
            "Epoch 20/50\n",
            "52002/52002 [==============================] - 16s 304us/step - loss: 0.2045 - acc: 0.9233 - val_loss: 0.2220 - val_acc: 0.9167\n",
            "Epoch 21/50\n",
            "11008/52002 [=====>........................] - ETA: 11s - loss: 0.2001 - acc: 0.9256"
          ],
          "name": "stdout"
        },
        {
          "output_type": "stream",
          "text": [
            "52002/52002 [==============================] - 16s 305us/step - loss: 0.1998 - acc: 0.9258 - val_loss: 0.2326 - val_acc: 0.9156\n",
            "Epoch 22/50\n",
            "52002/52002 [==============================] - 16s 304us/step - loss: 0.1969 - acc: 0.9262 - val_loss: 0.2217 - val_acc: 0.9191\n",
            "Epoch 23/50\n",
            "11008/52002 [=====>........................] - ETA: 11s - loss: 0.1900 - acc: 0.9280"
          ],
          "name": "stdout"
        },
        {
          "output_type": "stream",
          "text": [
            "52002/52002 [==============================] - 16s 301us/step - loss: 0.1978 - acc: 0.9259 - val_loss: 0.2236 - val_acc: 0.9182\n",
            "Epoch 00023: early stopping\n",
            "TEST LOSS: 0.23308122131824494 \t TEST ACCURACY: 0.9143\n",
            "[0.23308122131824494, 0.9143] \n",
            "\n",
            "[[1.59917038e-01 2.93608373e-01 2.63829174e-01 1.04894229e-01\n",
            "  5.49771209e-02 1.28000000e+02 1.28000000e+02 1.02400000e+03\n",
            "  2.56000000e+02 2.56000000e+02 7.00000000e+00]]\n",
            "Train on 50404 samples, validate on 9596 samples\n",
            "Epoch 1/50\n",
            "36096/50404 [====================>.........] - ETA: 4s - loss: 0.7550 - acc: 0.7219"
          ],
          "name": "stdout"
        },
        {
          "output_type": "stream",
          "text": [
            "50404/50404 [==============================] - 17s 328us/step - loss: 0.6668 - acc: 0.7536 - val_loss: 0.4055 - val_acc: 0.8529\n",
            "Epoch 2/50\n",
            "50404/50404 [==============================] - 14s 268us/step - loss: 0.3851 - acc: 0.8586 - val_loss: 0.3231 - val_acc: 0.8806\n",
            "Epoch 3/50\n",
            "32768/50404 [==================>...........] - ETA: 4s - loss: 0.3365 - acc: 0.8740"
          ],
          "name": "stdout"
        },
        {
          "output_type": "stream",
          "text": [
            "50404/50404 [==============================] - 14s 269us/step - loss: 0.3283 - acc: 0.8771 - val_loss: 0.3066 - val_acc: 0.8847\n",
            "Epoch 4/50\n",
            "50404/50404 [==============================] - 14s 271us/step - loss: 0.2961 - acc: 0.8893 - val_loss: 0.2733 - val_acc: 0.8969\n",
            "Epoch 5/50\n",
            "31232/50404 [=================>............]"
          ],
          "name": "stdout"
        },
        {
          "output_type": "stream",
          "text": [
            "50404/50404 [==============================] - 14s 271us/step - loss: 0.2678 - acc: 0.9000 - val_loss: 0.2673 - val_acc: 0.9003\n",
            "Epoch 6/50\n",
            "50404/50404 [==============================] - 14s 272us/step - loss: 0.2531 - acc: 0.9064 - val_loss: 0.2534 - val_acc: 0.9052\n",
            "Epoch 7/50\n",
            "31744/50404 [=================>............] - ETA: 4s - loss: 0.2303 - acc: 0.9132"
          ],
          "name": "stdout"
        },
        {
          "output_type": "stream",
          "text": [
            "50404/50404 [==============================] - 14s 270us/step - loss: 0.2318 - acc: 0.9128 - val_loss: 0.2386 - val_acc: 0.9110\n",
            "Epoch 8/50\n",
            "50404/50404 [==============================] - 14s 273us/step - loss: 0.2168 - acc: 0.9184 - val_loss: 0.2452 - val_acc: 0.9083\n",
            "Epoch 9/50\n",
            "30208/50404 [================>.............]"
          ],
          "name": "stdout"
        },
        {
          "output_type": "stream",
          "text": [
            "50404/50404 [==============================] - 14s 272us/step - loss: 0.2069 - acc: 0.9227 - val_loss: 0.2310 - val_acc: 0.9155\n",
            "Epoch 10/50\n",
            "50404/50404 [==============================] - 14s 272us/step - loss: 0.1933 - acc: 0.9266 - val_loss: 0.2415 - val_acc: 0.9126\n",
            "Epoch 11/50\n",
            "29184/50404 [================>.............] - ETA: 5s - loss: 0.1802 - acc: 0.9300"
          ],
          "name": "stdout"
        },
        {
          "output_type": "stream",
          "text": [
            "50404/50404 [==============================] - 14s 273us/step - loss: 0.1803 - acc: 0.9310 - val_loss: 0.2190 - val_acc: 0.9188\n",
            "Epoch 12/50\n",
            "50404/50404 [==============================] - 14s 271us/step - loss: 0.1691 - acc: 0.9343 - val_loss: 0.2308 - val_acc: 0.9155\n",
            "Epoch 13/50\n",
            "29696/50404 [================>.............] - ETA: 5s - loss: 0.1594 - acc: 0.9388"
          ],
          "name": "stdout"
        },
        {
          "output_type": "stream",
          "text": [
            "50404/50404 [==============================] - 14s 272us/step - loss: 0.1622 - acc: 0.9381 - val_loss: 0.2336 - val_acc: 0.9141\n",
            "Epoch 14/50\n",
            "50404/50404 [==============================] - 14s 271us/step - loss: 0.1540 - acc: 0.9408 - val_loss: 0.2234 - val_acc: 0.9215\n",
            "Epoch 15/50\n",
            "29952/50404 [================>.............] - ETA: 5s - loss: 0.1410 - acc: 0.9467"
          ],
          "name": "stdout"
        },
        {
          "output_type": "stream",
          "text": [
            "50404/50404 [==============================] - 14s 272us/step - loss: 0.1426 - acc: 0.9454 - val_loss: 0.2249 - val_acc: 0.9208\n",
            "Epoch 16/50\n",
            "50404/50404 [==============================] - 14s 272us/step - loss: 0.1377 - acc: 0.9461 - val_loss: 0.2344 - val_acc: 0.9183\n",
            "Epoch 17/50\n",
            "28672/50404 [================>.............] - ETA: 5s - loss: 0.1303 - acc: 0.9499"
          ],
          "name": "stdout"
        },
        {
          "output_type": "stream",
          "text": [
            "50404/50404 [==============================] - 14s 270us/step - loss: 0.1289 - acc: 0.9506 - val_loss: 0.2330 - val_acc: 0.9175\n",
            "Epoch 18/50\n",
            "50404/50404 [==============================] - 14s 272us/step - loss: 0.1218 - acc: 0.9529 - val_loss: 0.2408 - val_acc: 0.9195\n",
            "Epoch 00018: early stopping\n",
            "TEST LOSS: 0.2577081174015999 \t TEST ACCURACY: 0.9178\n",
            "[0.2577081174015999, 0.9178] \n",
            "\n",
            "[[2.15536561e-01 4.52388719e-01 2.33831297e-01 3.88545794e-01\n",
            "  4.03493756e-01 2.56000000e+02 1.28000000e+02 6.40000000e+01\n",
            "  1.02400000e+03 5.12000000e+02 7.00000000e+00]]\n",
            "Train on 47067 samples, validate on 12933 samples\n",
            "Epoch 1/50\n",
            "30720/47067 [==================>...........] - ETA: 5s - loss: 1.0792 - acc: 0.5942"
          ],
          "name": "stdout"
        },
        {
          "output_type": "stream",
          "text": [
            "47067/47067 [==============================] - 16s 349us/step - loss: 0.9179 - acc: 0.6528 - val_loss: 0.5140 - val_acc: 0.8101\n",
            "Epoch 2/50\n",
            "47067/47067 [==============================] - 12s 264us/step - loss: 0.5221 - acc: 0.8046 - val_loss: 0.4104 - val_acc: 0.8529\n",
            "Epoch 3/50\n",
            "47067/47067 [==============================] - 12s 264us/step - loss: 0.4411 - acc: 0.8350 - val_loss: 0.3530 - val_acc: 0.8666\n",
            "Epoch 4/50\n",
            "44032/47067 [===========================>..] - ETA: 0s - loss: 0.3988 - acc: 0.8532"
          ],
          "name": "stdout"
        },
        {
          "output_type": "stream",
          "text": [
            "47067/47067 [==============================] - 12s 264us/step - loss: 0.3983 - acc: 0.8537 - val_loss: 0.3366 - val_acc: 0.8769\n",
            "Epoch 5/50\n",
            "47067/47067 [==============================] - 12s 264us/step - loss: 0.3646 - acc: 0.8662 - val_loss: 0.3029 - val_acc: 0.8873\n",
            "Epoch 6/50\n",
            "47067/47067 [==============================] - 12s 264us/step - loss: 0.3368 - acc: 0.8764 - val_loss: 0.2936 - val_acc: 0.8895\n",
            "Epoch 7/50\n",
            "46592/47067 [============================>.] - ETA: 0s - loss: 0.3192 - acc: 0.8830"
          ],
          "name": "stdout"
        },
        {
          "output_type": "stream",
          "text": [
            "47067/47067 [==============================] - 12s 265us/step - loss: 0.3188 - acc: 0.8830 - val_loss: 0.2818 - val_acc: 0.8939\n",
            "Epoch 8/50\n",
            "47067/47067 [==============================] - 13s 266us/step - loss: 0.3093 - acc: 0.8852 - val_loss: 0.2775 - val_acc: 0.8967\n",
            "Epoch 9/50\n",
            "47067/47067 [==============================] - 13s 266us/step - loss: 0.2924 - acc: 0.8921 - val_loss: 0.2618 - val_acc: 0.9039\n",
            "Epoch 10/50\n",
            "46592/47067 [============================>.] - ETA: 0s - loss: 0.2838 - acc: 0.8961"
          ],
          "name": "stdout"
        },
        {
          "output_type": "stream",
          "text": [
            "47067/47067 [==============================] - 12s 265us/step - loss: 0.2831 - acc: 0.8964 - val_loss: 0.2517 - val_acc: 0.9068\n",
            "Epoch 11/50\n",
            "47067/47067 [==============================] - 12s 265us/step - loss: 0.2715 - acc: 0.8994 - val_loss: 0.2463 - val_acc: 0.9068\n",
            "Epoch 12/50\n",
            "47067/47067 [==============================] - 12s 265us/step - loss: 0.2651 - acc: 0.9002 - val_loss: 0.2461 - val_acc: 0.9100\n",
            "Epoch 13/50\n",
            "46080/47067 [============================>.] - ETA: 0s - loss: 0.2583 - acc: 0.9028"
          ],
          "name": "stdout"
        },
        {
          "output_type": "stream",
          "text": [
            "47067/47067 [==============================] - 12s 265us/step - loss: 0.2587 - acc: 0.9025 - val_loss: 0.2376 - val_acc: 0.9085\n",
            "Epoch 14/50\n",
            "47067/47067 [==============================] - 12s 266us/step - loss: 0.2499 - acc: 0.9065 - val_loss: 0.2337 - val_acc: 0.9133\n",
            "Epoch 15/50\n",
            "47067/47067 [==============================] - 12s 266us/step - loss: 0.2454 - acc: 0.9086 - val_loss: 0.2302 - val_acc: 0.9136\n",
            "Epoch 16/50\n",
            "46080/47067 [============================>.] - ETA: 0s - loss: 0.2384 - acc: 0.9110"
          ],
          "name": "stdout"
        },
        {
          "output_type": "stream",
          "text": [
            "47067/47067 [==============================] - 12s 265us/step - loss: 0.2376 - acc: 0.9113 - val_loss: 0.2392 - val_acc: 0.9111\n",
            "Epoch 17/50\n",
            "47067/47067 [==============================] - 12s 265us/step - loss: 0.2347 - acc: 0.9117 - val_loss: 0.2296 - val_acc: 0.9166\n",
            "Epoch 18/50\n",
            "47067/47067 [==============================] - 12s 265us/step - loss: 0.2294 - acc: 0.9148 - val_loss: 0.2292 - val_acc: 0.9139\n",
            "Epoch 19/50\n",
            "46080/47067 [============================>.] - ETA: 0s - loss: 0.2238 - acc: 0.9169"
          ],
          "name": "stdout"
        },
        {
          "output_type": "stream",
          "text": [
            "47067/47067 [==============================] - 13s 266us/step - loss: 0.2242 - acc: 0.9170 - val_loss: 0.2206 - val_acc: 0.9176\n",
            "Epoch 20/50\n",
            "47067/47067 [==============================] - 12s 265us/step - loss: 0.2192 - acc: 0.9185 - val_loss: 0.2208 - val_acc: 0.9179\n",
            "Epoch 21/50\n",
            "47067/47067 [==============================] - 12s 265us/step - loss: 0.2166 - acc: 0.9195 - val_loss: 0.2210 - val_acc: 0.9177\n",
            "Epoch 22/50\n",
            "46080/47067 [============================>.] - ETA: 0s - loss: 0.2134 - acc: 0.9187"
          ],
          "name": "stdout"
        },
        {
          "output_type": "stream",
          "text": [
            "47067/47067 [==============================] - 12s 265us/step - loss: 0.2135 - acc: 0.9187 - val_loss: 0.2242 - val_acc: 0.9157\n",
            "Epoch 23/50\n",
            "47067/47067 [==============================] - 12s 265us/step - loss: 0.2102 - acc: 0.9215 - val_loss: 0.2133 - val_acc: 0.9211\n",
            "Epoch 24/50\n",
            "47067/47067 [==============================] - 12s 264us/step - loss: 0.2030 - acc: 0.9239 - val_loss: 0.2147 - val_acc: 0.9210\n",
            "Epoch 25/50\n",
            "46080/47067 [============================>.] - ETA: 0s - loss: 0.2025 - acc: 0.9244"
          ],
          "name": "stdout"
        },
        {
          "output_type": "stream",
          "text": [
            "47067/47067 [==============================] - 12s 264us/step - loss: 0.2032 - acc: 0.9242 - val_loss: 0.2198 - val_acc: 0.9170\n",
            "Epoch 26/50\n",
            "47067/47067 [==============================] - 12s 263us/step - loss: 0.2018 - acc: 0.9243 - val_loss: 0.2142 - val_acc: 0.9214\n",
            "Epoch 27/50\n",
            "47067/47067 [==============================] - 12s 263us/step - loss: 0.1954 - acc: 0.9258 - val_loss: 0.2113 - val_acc: 0.9241\n",
            "Epoch 28/50\n",
            "46080/47067 [============================>.] - ETA: 0s - loss: 0.1943 - acc: 0.9268"
          ],
          "name": "stdout"
        },
        {
          "output_type": "stream",
          "text": [
            "47067/47067 [==============================] - 12s 263us/step - loss: 0.1943 - acc: 0.9267 - val_loss: 0.2157 - val_acc: 0.9205\n",
            "Epoch 29/50\n",
            "47067/47067 [==============================] - 12s 264us/step - loss: 0.1931 - acc: 0.9268 - val_loss: 0.2238 - val_acc: 0.9164\n",
            "Epoch 30/50\n",
            "47067/47067 [==============================] - 12s 265us/step - loss: 0.1895 - acc: 0.9294 - val_loss: 0.2094 - val_acc: 0.9219\n",
            "Epoch 31/50\n",
            "46080/47067 [============================>.] - ETA: 0s - loss: 0.1900 - acc: 0.9285"
          ],
          "name": "stdout"
        },
        {
          "output_type": "stream",
          "text": [
            "47067/47067 [==============================] - 12s 265us/step - loss: 0.1901 - acc: 0.9284 - val_loss: 0.2062 - val_acc: 0.9235\n",
            "Epoch 32/50\n",
            "47067/47067 [==============================] - 12s 264us/step - loss: 0.1859 - acc: 0.9288 - val_loss: 0.2173 - val_acc: 0.9200\n",
            "Epoch 33/50\n",
            "47067/47067 [==============================] - 12s 265us/step - loss: 0.1813 - acc: 0.9318 - val_loss: 0.2111 - val_acc: 0.9233\n",
            "Epoch 34/50\n",
            "46080/47067 [============================>.] - ETA: 0s - loss: 0.1806 - acc: 0.9330"
          ],
          "name": "stdout"
        },
        {
          "output_type": "stream",
          "text": [
            "47067/47067 [==============================] - 12s 265us/step - loss: 0.1808 - acc: 0.9329 - val_loss: 0.2050 - val_acc: 0.9236\n",
            "Epoch 35/50\n",
            "47067/47067 [==============================] - 12s 264us/step - loss: 0.1726 - acc: 0.9351 - val_loss: 0.2093 - val_acc: 0.9241\n",
            "Epoch 36/50\n",
            "47067/47067 [==============================] - 12s 264us/step - loss: 0.1743 - acc: 0.9348 - val_loss: 0.2128 - val_acc: 0.9226\n",
            "Epoch 37/50\n",
            "46080/47067 [============================>.] - ETA: 0s - loss: 0.1721 - acc: 0.9326"
          ],
          "name": "stdout"
        },
        {
          "output_type": "stream",
          "text": [
            "47067/47067 [==============================] - 12s 265us/step - loss: 0.1722 - acc: 0.9326 - val_loss: 0.2092 - val_acc: 0.9231\n",
            "Epoch 38/50\n",
            "47067/47067 [==============================] - 12s 265us/step - loss: 0.1719 - acc: 0.9349 - val_loss: 0.2111 - val_acc: 0.9219\n",
            "Epoch 39/50\n",
            "47067/47067 [==============================] - 12s 264us/step - loss: 0.1679 - acc: 0.9366 - val_loss: 0.2064 - val_acc: 0.9240\n",
            "Epoch 40/50\n",
            "46080/47067 [============================>.] - ETA: 0s - loss: 0.1667 - acc: 0.9362"
          ],
          "name": "stdout"
        },
        {
          "output_type": "stream",
          "text": [
            "47067/47067 [==============================] - 12s 264us/step - loss: 0.1669 - acc: 0.9359 - val_loss: 0.2056 - val_acc: 0.9263\n",
            "Epoch 41/50\n",
            "47067/47067 [==============================] - 12s 264us/step - loss: 0.1600 - acc: 0.9391 - val_loss: 0.2072 - val_acc: 0.9267\n",
            "Epoch 00041: early stopping\n",
            "TEST LOSS: 0.22299241416454316 \t TEST ACCURACY: 0.9189999998092652\n",
            "[0.22299241416454316, 0.9189999998092652] \n",
            "\n",
            "[[2.07888841e-01 9.09585792e-02 3.72334072e-01 9.69961527e-02\n",
            "  1.47404913e-01 6.40000000e+01 5.12000000e+02 1.02400000e+03\n",
            "  1.02400000e+03 2.56000000e+02 7.00000000e+00]]\n",
            "Train on 47526 samples, validate on 12474 samples\n",
            "Epoch 1/50\n",
            "27136/47526 [================>.............] - ETA: 12s - loss: 0.7403 - acc: 0.7336"
          ],
          "name": "stdout"
        },
        {
          "output_type": "stream",
          "text": [
            "47526/47526 [==============================] - 28s 595us/step - loss: 0.6059 - acc: 0.7797 - val_loss: 0.3592 - val_acc: 0.8683\n",
            "Epoch 2/50\n",
            "47526/47526 [==============================] - 22s 454us/step - loss: 0.3575 - acc: 0.8676 - val_loss: 0.3088 - val_acc: 0.8838\n",
            "Epoch 3/50\n",
            "36608/47526 [======================>.......] - ETA: 4s - loss: 0.3118 - acc: 0.8837"
          ],
          "name": "stdout"
        },
        {
          "output_type": "stream",
          "text": [
            "47526/47526 [==============================] - 22s 454us/step - loss: 0.3105 - acc: 0.8841 - val_loss: 0.2762 - val_acc: 0.8982\n",
            "Epoch 4/50\n",
            "47526/47526 [==============================] - 21s 452us/step - loss: 0.2739 - acc: 0.8961 - val_loss: 0.2666 - val_acc: 0.9012\n",
            "Epoch 5/50\n",
            "38656/47526 [=======================>......] - ETA: 3s - loss: 0.2428 - acc: 0.9087"
          ],
          "name": "stdout"
        },
        {
          "output_type": "stream",
          "text": [
            "47526/47526 [==============================] - 21s 452us/step - loss: 0.2455 - acc: 0.9074 - val_loss: 0.2549 - val_acc: 0.9044\n",
            "Epoch 6/50\n",
            "47526/47526 [==============================] - 22s 454us/step - loss: 0.2213 - acc: 0.9163 - val_loss: 0.2611 - val_acc: 0.9006\n",
            "Epoch 7/50\n",
            "39168/47526 [=======================>......] - ETA: 3s - loss: 0.1984 - acc: 0.9238"
          ],
          "name": "stdout"
        },
        {
          "output_type": "stream",
          "text": [
            "47526/47526 [==============================] - 22s 456us/step - loss: 0.2024 - acc: 0.9222 - val_loss: 0.2435 - val_acc: 0.9121\n",
            "Epoch 8/50\n",
            "47526/47526 [==============================] - 22s 455us/step - loss: 0.1896 - acc: 0.9286 - val_loss: 0.2436 - val_acc: 0.9102\n",
            "Epoch 9/50\n",
            "39424/47526 [=======================>......] - ETA: 3s - loss: 0.1730 - acc: 0.9330"
          ],
          "name": "stdout"
        },
        {
          "output_type": "stream",
          "text": [
            "47526/47526 [==============================] - 22s 455us/step - loss: 0.1733 - acc: 0.9332 - val_loss: 0.2395 - val_acc: 0.9130\n",
            "Epoch 10/50\n",
            "47526/47526 [==============================] - 22s 453us/step - loss: 0.1589 - acc: 0.9390 - val_loss: 0.2307 - val_acc: 0.9186\n",
            "Epoch 11/50\n",
            "38912/47526 [=======================>......] - ETA: 3s - loss: 0.1463 - acc: 0.9446"
          ],
          "name": "stdout"
        },
        {
          "output_type": "stream",
          "text": [
            "47526/47526 [==============================] - 21s 452us/step - loss: 0.1475 - acc: 0.9441 - val_loss: 0.2422 - val_acc: 0.9149\n",
            "Epoch 12/50\n",
            "47526/47526 [==============================] - 22s 453us/step - loss: 0.1351 - acc: 0.9489 - val_loss: 0.2342 - val_acc: 0.9207\n",
            "Epoch 13/50\n",
            "38912/47526 [=======================>......] - ETA: 3s - loss: 0.1233 - acc: 0.9526"
          ],
          "name": "stdout"
        },
        {
          "output_type": "stream",
          "text": [
            "47526/47526 [==============================] - 22s 453us/step - loss: 0.1244 - acc: 0.9522 - val_loss: 0.2397 - val_acc: 0.9195\n",
            "Epoch 14/50\n",
            "47526/47526 [==============================] - 22s 453us/step - loss: 0.1176 - acc: 0.9555 - val_loss: 0.2393 - val_acc: 0.9200\n",
            "Epoch 15/50\n",
            "38912/47526 [=======================>......] - ETA: 3s - loss: 0.1090 - acc: 0.9580"
          ],
          "name": "stdout"
        },
        {
          "output_type": "stream",
          "text": [
            "47526/47526 [==============================] - 21s 451us/step - loss: 0.1099 - acc: 0.9577 - val_loss: 0.2474 - val_acc: 0.9181\n",
            "Epoch 16/50\n",
            "47526/47526 [==============================] - 21s 451us/step - loss: 0.0966 - acc: 0.9616 - val_loss: 0.2482 - val_acc: 0.9234\n",
            "Epoch 17/50\n",
            "38912/47526 [=======================>......] - ETA: 3s - loss: 0.0904 - acc: 0.9648"
          ],
          "name": "stdout"
        },
        {
          "output_type": "stream",
          "text": [
            "47526/47526 [==============================] - 21s 449us/step - loss: 0.0931 - acc: 0.9639 - val_loss: 0.2449 - val_acc: 0.9202\n",
            "Epoch 00017: early stopping\n",
            "TEST LOSS: 0.27275007016062736 \t TEST ACCURACY: 0.9186\n",
            "[0.27275007016062736, 0.9186] \n",
            "\n",
            "[[1.45113761e-01 4.78591220e-01 4.20032287e-01 2.12053606e-01\n",
            "  8.56186990e-02 3.20000000e+01 3.20000000e+01 1.02400000e+03\n",
            "  1.28000000e+02 1.28000000e+02 5.00000000e+00]]\n",
            "Train on 51293 samples, validate on 8707 samples\n",
            "Epoch 1/50\n",
            "51293/51293 [==============================] - 11s 220us/step - loss: 0.7567 - acc: 0.7178 - val_loss: 0.5072 - val_acc: 0.8177\n",
            "Epoch 2/50\n",
            "10496/51293 [=====>........................] - ETA: 6s - loss: 0.5391 - acc: 0.8005"
          ],
          "name": "stdout"
        },
        {
          "output_type": "stream",
          "text": [
            "51293/51293 [==============================] - 9s 168us/step - loss: 0.5040 - acc: 0.8120 - val_loss: 0.4072 - val_acc: 0.8538\n",
            "Epoch 3/50\n",
            "51293/51293 [==============================] - 9s 169us/step - loss: 0.4397 - acc: 0.8358 - val_loss: 0.3643 - val_acc: 0.8657\n",
            "Epoch 4/50\n",
            "51293/51293 [==============================] - 9s 169us/step - loss: 0.4024 - acc: 0.8524 - val_loss: 0.3349 - val_acc: 0.8775\n",
            "Epoch 5/50\n",
            " 9344/51293 [====>.........................] - ETA: 6s - loss: 0.3706 - acc: 0.8655"
          ],
          "name": "stdout"
        },
        {
          "output_type": "stream",
          "text": [
            "51293/51293 [==============================] - 9s 169us/step - loss: 0.3761 - acc: 0.8622 - val_loss: 0.3183 - val_acc: 0.8853\n",
            "Epoch 6/50\n",
            "51293/51293 [==============================] - 9s 172us/step - loss: 0.3559 - acc: 0.8687 - val_loss: 0.3078 - val_acc: 0.8877\n",
            "Epoch 7/50\n",
            "51293/51293 [==============================] - 9s 170us/step - loss: 0.3405 - acc: 0.8744 - val_loss: 0.3004 - val_acc: 0.8870\n",
            "Epoch 8/50\n",
            " 8960/51293 [====>.........................] - ETA: 6s - loss: 0.3394 - acc: 0.8701"
          ],
          "name": "stdout"
        },
        {
          "output_type": "stream",
          "text": [
            "51293/51293 [==============================] - 9s 169us/step - loss: 0.3312 - acc: 0.8747 - val_loss: 0.2884 - val_acc: 0.8917\n",
            "Epoch 9/50\n",
            "51293/51293 [==============================] - 9s 168us/step - loss: 0.3204 - acc: 0.8812 - val_loss: 0.2786 - val_acc: 0.8982\n",
            "Epoch 10/50\n",
            "51293/51293 [==============================] - 9s 169us/step - loss: 0.3111 - acc: 0.8847 - val_loss: 0.2684 - val_acc: 0.8993\n",
            "Epoch 11/50\n",
            " 8960/51293 [====>.........................] - ETA: 6s - loss: 0.3048 - acc: 0.8806"
          ],
          "name": "stdout"
        },
        {
          "output_type": "stream",
          "text": [
            "51293/51293 [==============================] - 9s 169us/step - loss: 0.3081 - acc: 0.8846 - val_loss: 0.2683 - val_acc: 0.9010\n",
            "Epoch 12/50\n",
            "51293/51293 [==============================] - 9s 170us/step - loss: 0.3002 - acc: 0.8896 - val_loss: 0.2754 - val_acc: 0.8966\n",
            "Epoch 13/50\n",
            "51293/51293 [==============================] - 9s 170us/step - loss: 0.2934 - acc: 0.8907 - val_loss: 0.2769 - val_acc: 0.8980\n",
            "Epoch 14/50\n",
            " 8576/51293 [====>.........................] - ETA: 6s - loss: 0.2697 - acc: 0.9005"
          ],
          "name": "stdout"
        },
        {
          "output_type": "stream",
          "text": [
            "51293/51293 [==============================] - 9s 170us/step - loss: 0.2871 - acc: 0.8948 - val_loss: 0.2586 - val_acc: 0.9035\n",
            "Epoch 15/50\n",
            "51293/51293 [==============================] - 9s 171us/step - loss: 0.2828 - acc: 0.8937 - val_loss: 0.2639 - val_acc: 0.9027\n",
            "Epoch 16/50\n",
            "51293/51293 [==============================] - 9s 170us/step - loss: 0.2790 - acc: 0.8955 - val_loss: 0.2700 - val_acc: 0.8999\n",
            "Epoch 17/50\n",
            " 8576/51293 [====>.........................] - ETA: 6s - loss: 0.2702 - acc: 0.9002"
          ],
          "name": "stdout"
        },
        {
          "output_type": "stream",
          "text": [
            "51293/51293 [==============================] - 9s 169us/step - loss: 0.2739 - acc: 0.8971 - val_loss: 0.2592 - val_acc: 0.8981\n",
            "Epoch 18/50\n",
            "51293/51293 [==============================] - 9s 170us/step - loss: 0.2677 - acc: 0.8998 - val_loss: 0.2505 - val_acc: 0.9074\n",
            "Epoch 19/50\n",
            "51293/51293 [==============================] - 9s 169us/step - loss: 0.2675 - acc: 0.9004 - val_loss: 0.2594 - val_acc: 0.9020\n",
            "Epoch 20/50\n",
            " 8576/51293 [====>.........................] - ETA: 7s - loss: 0.2520 - acc: 0.9073"
          ],
          "name": "stdout"
        },
        {
          "output_type": "stream",
          "text": [
            "51293/51293 [==============================] - 9s 169us/step - loss: 0.2662 - acc: 0.9004 - val_loss: 0.2513 - val_acc: 0.9075\n",
            "Epoch 21/50\n",
            "51293/51293 [==============================] - 9s 169us/step - loss: 0.2607 - acc: 0.9016 - val_loss: 0.2461 - val_acc: 0.9095\n",
            "Epoch 22/50\n",
            "51293/51293 [==============================] - 9s 170us/step - loss: 0.2568 - acc: 0.9045 - val_loss: 0.2629 - val_acc: 0.9017\n",
            "Epoch 23/50\n",
            " 8576/51293 [====>.........................] - ETA: 6s - loss: 0.2615 - acc: 0.9032"
          ],
          "name": "stdout"
        },
        {
          "output_type": "stream",
          "text": [
            "51293/51293 [==============================] - 9s 168us/step - loss: 0.2553 - acc: 0.9038 - val_loss: 0.2456 - val_acc: 0.9082\n",
            "Epoch 24/50\n",
            "51293/51293 [==============================] - 9s 171us/step - loss: 0.2514 - acc: 0.9045 - val_loss: 0.2518 - val_acc: 0.9089\n",
            "Epoch 25/50\n",
            "51293/51293 [==============================] - 9s 171us/step - loss: 0.2501 - acc: 0.9073 - val_loss: 0.2443 - val_acc: 0.9092\n",
            "Epoch 26/50\n",
            " 8576/51293 [====>.........................] - ETA: 6s - loss: 0.2424 - acc: 0.9072"
          ],
          "name": "stdout"
        },
        {
          "output_type": "stream",
          "text": [
            "51293/51293 [==============================] - 9s 168us/step - loss: 0.2461 - acc: 0.9071 - val_loss: 0.2526 - val_acc: 0.9064\n",
            "Epoch 27/50\n",
            "51293/51293 [==============================] - 9s 170us/step - loss: 0.2464 - acc: 0.9067 - val_loss: 0.2391 - val_acc: 0.9088\n",
            "Epoch 28/50\n",
            "51293/51293 [==============================] - 9s 170us/step - loss: 0.2408 - acc: 0.9078 - val_loss: 0.2521 - val_acc: 0.9087\n",
            "Epoch 29/50\n",
            " 8576/51293 [====>.........................] - ETA: 7s - loss: 0.2367 - acc: 0.9114"
          ],
          "name": "stdout"
        },
        {
          "output_type": "stream",
          "text": [
            "51293/51293 [==============================] - 9s 170us/step - loss: 0.2427 - acc: 0.9085 - val_loss: 0.2508 - val_acc: 0.9075\n",
            "Epoch 30/50\n",
            "51293/51293 [==============================] - 9s 171us/step - loss: 0.2375 - acc: 0.9098 - val_loss: 0.2441 - val_acc: 0.9115\n",
            "Epoch 31/50\n",
            "51293/51293 [==============================] - 9s 170us/step - loss: 0.2344 - acc: 0.9109 - val_loss: 0.2484 - val_acc: 0.9087\n",
            "Epoch 32/50\n",
            " 8576/51293 [====>.........................] - ETA: 6s - loss: 0.2309 - acc: 0.9118"
          ],
          "name": "stdout"
        },
        {
          "output_type": "stream",
          "text": [
            "51293/51293 [==============================] - 9s 170us/step - loss: 0.2320 - acc: 0.9123 - val_loss: 0.2414 - val_acc: 0.9111\n",
            "Epoch 00032: early stopping\n",
            "TEST LOSS: 0.2528554344654083 \t TEST ACCURACY: 0.9107\n",
            "[0.2528554344654083, 0.9107] \n",
            "\n",
            "[[1.33903681e-01 3.12568241e-01 3.45311567e-01 1.66006871e-01\n",
            "  2.97366250e-01 1.28000000e+02 6.40000000e+01 3.20000000e+01\n",
            "  5.12000000e+02 5.12000000e+02 5.00000000e+00]]\n",
            "Train on 51965 samples, validate on 8035 samples\n",
            "Epoch 1/50\n",
            "51965/51965 [==============================] - 10s 198us/step - loss: 0.9966 - acc: 0.6225 - val_loss: 0.5517 - val_acc: 0.7937\n",
            "Epoch 2/50\n",
            "19456/51965 [==========>...................] - ETA: 4s - loss: 0.5872 - acc: 0.7742"
          ],
          "name": "stdout"
        },
        {
          "output_type": "stream",
          "text": [
            "51965/51965 [==============================] - 7s 138us/step - loss: 0.5509 - acc: 0.7898 - val_loss: 0.4401 - val_acc: 0.8376\n",
            "Epoch 3/50\n",
            "51965/51965 [==============================] - 7s 139us/step - loss: 0.4722 - acc: 0.8243 - val_loss: 0.3916 - val_acc: 0.8516\n",
            "Epoch 4/50\n",
            "51965/51965 [==============================] - 7s 139us/step - loss: 0.4251 - acc: 0.8427 - val_loss: 0.3585 - val_acc: 0.8688\n",
            "Epoch 5/50\n",
            "27136/51965 [==============>...............] - ETA: 3s - loss: 0.3958 - acc: 0.8531"
          ],
          "name": "stdout"
        },
        {
          "output_type": "stream",
          "text": [
            "51965/51965 [==============================] - 7s 139us/step - loss: 0.3923 - acc: 0.8551 - val_loss: 0.3280 - val_acc: 0.8790\n",
            "Epoch 6/50\n",
            "51965/51965 [==============================] - 7s 138us/step - loss: 0.3687 - acc: 0.8628 - val_loss: 0.3112 - val_acc: 0.8843\n",
            "Epoch 7/50\n",
            "51965/51965 [==============================] - 7s 139us/step - loss: 0.3505 - acc: 0.8711 - val_loss: 0.3199 - val_acc: 0.8816\n",
            "Epoch 8/50\n",
            "29184/51965 [===============>..............] - ETA: 2s - loss: 0.3350 - acc: 0.8738\b\b\b\b\b\b\b\b\b\b\b\b\b\b\b\b\b\b\b\b\b\b\b\b\b\b\b\b\b\b\b\b\b\b\b\b\b\b\b\b\b\b\b\b\b\b\b\b\b\b\b\b\b\b\b\b\b\b\b\b\b\b\b\b\b\b\b\b\b\b\b\b\b\b\b\b\b\b\b\b\b\b\b"
          ],
          "name": "stdout"
        },
        {
          "output_type": "stream",
          "text": [
            "51965/51965 [==============================] - 7s 138us/step - loss: 0.3348 - acc: 0.8749 - val_loss: 0.2906 - val_acc: 0.8921\n",
            "Epoch 9/50\n",
            "51965/51965 [==============================] - 7s 139us/step - loss: 0.3178 - acc: 0.8827 - val_loss: 0.2910 - val_acc: 0.8943\n",
            "Epoch 10/50\n",
            "51965/51965 [==============================] - 7s 138us/step - loss: 0.3108 - acc: 0.8856 - val_loss: 0.2751 - val_acc: 0.8961\n",
            "Epoch 11/50\n",
            "29696/51965 [================>.............] - ETA: 2s - loss: 0.3021 - acc: 0.8867"
          ],
          "name": "stdout"
        },
        {
          "output_type": "stream",
          "text": [
            "51965/51965 [==============================] - 7s 139us/step - loss: 0.3025 - acc: 0.8878 - val_loss: 0.2776 - val_acc: 0.8992\n",
            "Epoch 12/50\n",
            "51965/51965 [==============================] - 7s 138us/step - loss: 0.2951 - acc: 0.8904 - val_loss: 0.2595 - val_acc: 0.9035\n",
            "Epoch 13/50\n",
            "51965/51965 [==============================] - 7s 140us/step - loss: 0.2910 - acc: 0.8918 - val_loss: 0.2632 - val_acc: 0.9026\n",
            "Epoch 14/50\n",
            "31744/51965 [=================>............] - ETA: 2s - loss: 0.2802 - acc: 0.8958"
          ],
          "name": "stdout"
        },
        {
          "output_type": "stream",
          "text": [
            "51965/51965 [==============================] - 7s 139us/step - loss: 0.2790 - acc: 0.8964 - val_loss: 0.2578 - val_acc: 0.9029\n",
            "Epoch 15/50\n",
            "51965/51965 [==============================] - 7s 139us/step - loss: 0.2718 - acc: 0.8980 - val_loss: 0.2525 - val_acc: 0.9057\n",
            "Epoch 16/50\n",
            "51965/51965 [==============================] - 7s 139us/step - loss: 0.2692 - acc: 0.9007 - val_loss: 0.2470 - val_acc: 0.9098\n",
            "Epoch 17/50\n",
            "32768/51965 [=================>............] - ETA: 2s - loss: 0.2653 - acc: 0.9015"
          ],
          "name": "stdout"
        },
        {
          "output_type": "stream",
          "text": [
            "51965/51965 [==============================] - 7s 139us/step - loss: 0.2675 - acc: 0.9012 - val_loss: 0.2453 - val_acc: 0.9108\n",
            "Epoch 18/50\n",
            "51965/51965 [==============================] - 7s 140us/step - loss: 0.2634 - acc: 0.9025 - val_loss: 0.2390 - val_acc: 0.9106\n",
            "Epoch 19/50\n",
            "51965/51965 [==============================] - 7s 139us/step - loss: 0.2552 - acc: 0.9045 - val_loss: 0.2404 - val_acc: 0.9129\n",
            "Epoch 20/50\n",
            "28160/51965 [===============>..............] - ETA: 3s - loss: 0.2523 - acc: 0.9051"
          ],
          "name": "stdout"
        },
        {
          "output_type": "stream",
          "text": [
            "51965/51965 [==============================] - 7s 138us/step - loss: 0.2555 - acc: 0.9042 - val_loss: 0.2394 - val_acc: 0.9103\n",
            "Epoch 21/50\n",
            "51965/51965 [==============================] - 7s 139us/step - loss: 0.2442 - acc: 0.9086 - val_loss: 0.2383 - val_acc: 0.9129\n",
            "Epoch 22/50\n",
            "51965/51965 [==============================] - 7s 139us/step - loss: 0.2449 - acc: 0.9088 - val_loss: 0.2347 - val_acc: 0.9145\n",
            "Epoch 23/50\n",
            "31232/51965 [=================>............] - ETA: 2s - loss: 0.2433 - acc: 0.9072"
          ],
          "name": "stdout"
        },
        {
          "output_type": "stream",
          "text": [
            "51965/51965 [==============================] - 7s 138us/step - loss: 0.2439 - acc: 0.9077 - val_loss: 0.2408 - val_acc: 0.9128\n",
            "Epoch 24/50\n",
            "51965/51965 [==============================] - 7s 138us/step - loss: 0.2411 - acc: 0.9090 - val_loss: 0.2292 - val_acc: 0.9140\n",
            "Epoch 25/50\n",
            "51965/51965 [==============================] - 7s 137us/step - loss: 0.2344 - acc: 0.9107 - val_loss: 0.2279 - val_acc: 0.9150\n",
            "Epoch 26/50\n",
            "26624/51965 [==============>...............] - ETA: 3s - loss: 0.2357 - acc: 0.9126"
          ],
          "name": "stdout"
        },
        {
          "output_type": "stream",
          "text": [
            "51965/51965 [==============================] - 7s 138us/step - loss: 0.2352 - acc: 0.9129 - val_loss: 0.2259 - val_acc: 0.9151\n",
            "Epoch 27/50\n",
            "51965/51965 [==============================] - 7s 138us/step - loss: 0.2307 - acc: 0.9143 - val_loss: 0.2253 - val_acc: 0.9165\n",
            "Epoch 28/50\n",
            "51965/51965 [==============================] - 7s 138us/step - loss: 0.2294 - acc: 0.9146 - val_loss: 0.2305 - val_acc: 0.9126\n",
            "Epoch 29/50\n",
            "26624/51965 [==============>...............] - ETA: 3s - loss: 0.2200 - acc: 0.9169"
          ],
          "name": "stdout"
        },
        {
          "output_type": "stream",
          "text": [
            "51965/51965 [==============================] - 7s 138us/step - loss: 0.2271 - acc: 0.9138 - val_loss: 0.2241 - val_acc: 0.9182\n",
            "Epoch 30/50\n",
            "51965/51965 [==============================] - 7s 139us/step - loss: 0.2203 - acc: 0.9173 - val_loss: 0.2258 - val_acc: 0.9177\n",
            "Epoch 31/50\n",
            "51965/51965 [==============================] - 7s 139us/step - loss: 0.2195 - acc: 0.9171 - val_loss: 0.2187 - val_acc: 0.9192\n",
            "Epoch 32/50\n",
            "29184/51965 [===============>..............] - ETA: 3s - loss: 0.2172 - acc: 0.9174"
          ],
          "name": "stdout"
        },
        {
          "output_type": "stream",
          "text": [
            "51965/51965 [==============================] - 7s 139us/step - loss: 0.2197 - acc: 0.9164 - val_loss: 0.2227 - val_acc: 0.9174\n",
            "Epoch 33/50\n",
            "51965/51965 [==============================] - 7s 139us/step - loss: 0.2162 - acc: 0.9177 - val_loss: 0.2159 - val_acc: 0.9192\n",
            "Epoch 34/50\n",
            "51965/51965 [==============================] - 7s 138us/step - loss: 0.2120 - acc: 0.9205 - val_loss: 0.2221 - val_acc: 0.9201\n",
            "Epoch 35/50\n",
            "26112/51965 [==============>...............] - ETA: 3s - loss: 0.2149 - acc: 0.9185"
          ],
          "name": "stdout"
        },
        {
          "output_type": "stream",
          "text": [
            "51965/51965 [==============================] - 7s 139us/step - loss: 0.2128 - acc: 0.9195 - val_loss: 0.2226 - val_acc: 0.9192\n",
            "Epoch 36/50\n",
            "51965/51965 [==============================] - 7s 139us/step - loss: 0.2116 - acc: 0.9191 - val_loss: 0.2192 - val_acc: 0.9211\n",
            "Epoch 37/50\n",
            "51965/51965 [==============================] - 7s 139us/step - loss: 0.2038 - acc: 0.9235 - val_loss: 0.2163 - val_acc: 0.9174\n",
            "Epoch 38/50\n",
            "32768/51965 [=================>............] - ETA: 2s - loss: 0.2039 - acc: 0.9236"
          ],
          "name": "stdout"
        },
        {
          "output_type": "stream",
          "text": [
            "51965/51965 [==============================] - 7s 139us/step - loss: 0.2064 - acc: 0.9229 - val_loss: 0.2114 - val_acc: 0.9231\n",
            "Epoch 39/50\n",
            "51965/51965 [==============================] - 7s 139us/step - loss: 0.2065 - acc: 0.9215 - val_loss: 0.2155 - val_acc: 0.9226\n",
            "Epoch 40/50\n",
            "51965/51965 [==============================] - 7s 139us/step - loss: 0.2052 - acc: 0.9227 - val_loss: 0.2140 - val_acc: 0.9215\n",
            "Epoch 41/50\n",
            "31232/51965 [=================>............] - ETA: 2s - loss: 0.1967 - acc: 0.9251"
          ],
          "name": "stdout"
        },
        {
          "output_type": "stream",
          "text": [
            "51965/51965 [==============================] - 7s 139us/step - loss: 0.1965 - acc: 0.9253 - val_loss: 0.2148 - val_acc: 0.9206\n",
            "Epoch 42/50\n",
            "51965/51965 [==============================] - 7s 139us/step - loss: 0.1990 - acc: 0.9244 - val_loss: 0.2144 - val_acc: 0.9217\n",
            "Epoch 43/50\n",
            "51965/51965 [==============================] - 7s 139us/step - loss: 0.1989 - acc: 0.9245 - val_loss: 0.2115 - val_acc: 0.9208\n",
            "Epoch 00043: early stopping\n",
            "TEST LOSS: 0.22454370124340056 \t TEST ACCURACY: 0.9212\n",
            "[0.22454370124340056, 0.9212] \n",
            "\n",
            "[[1.96315805e-01 1.03434093e-01 4.50138210e-01 4.87543996e-01\n",
            "  2.66123919e-01 3.20000000e+01 1.02400000e+03 6.40000000e+01\n",
            "  2.56000000e+02 5.12000000e+02 6.00000000e+00]]\n",
            "Train on 48221 samples, validate on 11779 samples\n",
            "Epoch 1/50\n",
            "18432/48221 [==========>...................] - ETA: 14s - loss: 1.3135 - acc: 0.5103"
          ],
          "name": "stdout"
        },
        {
          "output_type": "stream",
          "text": [
            "48221/48221 [==============================] - 19s 390us/step - loss: 0.9234 - acc: 0.6546 - val_loss: 0.5133 - val_acc: 0.8064\n",
            "Epoch 2/50\n",
            "48221/48221 [==============================] - 14s 300us/step - loss: 0.5429 - acc: 0.7980 - val_loss: 0.4196 - val_acc: 0.8480\n",
            "Epoch 3/50\n",
            "48221/48221 [==============================] - 14s 300us/step - loss: 0.4647 - acc: 0.8295 - val_loss: 0.3746 - val_acc: 0.8577\n",
            "Epoch 4/50\n",
            "39936/48221 [=======================>......] - ETA: 2s - loss: 0.4182 - acc: 0.8465"
          ],
          "name": "stdout"
        },
        {
          "output_type": "stream",
          "text": [
            "48221/48221 [==============================] - 14s 300us/step - loss: 0.4153 - acc: 0.8480 - val_loss: 0.3311 - val_acc: 0.8753\n",
            "Epoch 5/50\n",
            "48221/48221 [==============================] - 14s 300us/step - loss: 0.3858 - acc: 0.8581 - val_loss: 0.3103 - val_acc: 0.8857\n",
            "Epoch 6/50\n",
            "48221/48221 [==============================] - 14s 300us/step - loss: 0.3633 - acc: 0.8677 - val_loss: 0.2977 - val_acc: 0.8901\n",
            "Epoch 7/50\n",
            "43520/48221 [==========================>...] - ETA: 1s - loss: 0.3404 - acc: 0.8750"
          ],
          "name": "stdout"
        },
        {
          "output_type": "stream",
          "text": [
            "48221/48221 [==============================] - 14s 299us/step - loss: 0.3393 - acc: 0.8754 - val_loss: 0.2800 - val_acc: 0.8947\n",
            "Epoch 8/50\n",
            "48221/48221 [==============================] - 14s 299us/step - loss: 0.3261 - acc: 0.8805 - val_loss: 0.2739 - val_acc: 0.8979\n",
            "Epoch 9/50\n",
            "48221/48221 [==============================] - 14s 299us/step - loss: 0.3096 - acc: 0.8873 - val_loss: 0.2687 - val_acc: 0.8986\n",
            "Epoch 10/50\n",
            "44032/48221 [==========================>...] - ETA: 1s - loss: 0.2996 - acc: 0.8892"
          ],
          "name": "stdout"
        },
        {
          "output_type": "stream",
          "text": [
            "48221/48221 [==============================] - 14s 298us/step - loss: 0.2978 - acc: 0.8898 - val_loss: 0.2552 - val_acc: 0.9025\n",
            "Epoch 11/50\n",
            "48221/48221 [==============================] - 14s 298us/step - loss: 0.2895 - acc: 0.8941 - val_loss: 0.2595 - val_acc: 0.9033\n",
            "Epoch 12/50\n",
            "48221/48221 [==============================] - 14s 298us/step - loss: 0.2795 - acc: 0.8980 - val_loss: 0.2523 - val_acc: 0.9064\n",
            "Epoch 13/50\n",
            "44032/48221 [==========================>...] - ETA: 1s - loss: 0.2755 - acc: 0.8986"
          ],
          "name": "stdout"
        },
        {
          "output_type": "stream",
          "text": [
            "48221/48221 [==============================] - 14s 299us/step - loss: 0.2756 - acc: 0.8992 - val_loss: 0.2417 - val_acc: 0.9079\n",
            "Epoch 14/50\n",
            "48221/48221 [==============================] - 14s 300us/step - loss: 0.2686 - acc: 0.9016 - val_loss: 0.2418 - val_acc: 0.9114\n",
            "Epoch 15/50\n",
            "48221/48221 [==============================] - 14s 299us/step - loss: 0.2601 - acc: 0.9052 - val_loss: 0.2354 - val_acc: 0.9134\n",
            "Epoch 16/50\n",
            "44032/48221 [==========================>...] - ETA: 1s - loss: 0.2545 - acc: 0.9068"
          ],
          "name": "stdout"
        },
        {
          "output_type": "stream",
          "text": [
            "48221/48221 [==============================] - 14s 299us/step - loss: 0.2537 - acc: 0.9072 - val_loss: 0.2370 - val_acc: 0.9136\n",
            "Epoch 17/50\n",
            "48221/48221 [==============================] - 14s 300us/step - loss: 0.2500 - acc: 0.9086 - val_loss: 0.2279 - val_acc: 0.9157\n",
            "Epoch 18/50\n",
            "48221/48221 [==============================] - 14s 300us/step - loss: 0.2468 - acc: 0.9081 - val_loss: 0.2358 - val_acc: 0.9128\n",
            "Epoch 19/50\n",
            "44032/48221 [==========================>...] - ETA: 1s - loss: 0.2368 - acc: 0.9131"
          ],
          "name": "stdout"
        },
        {
          "output_type": "stream",
          "text": [
            "48221/48221 [==============================] - 14s 300us/step - loss: 0.2385 - acc: 0.9122 - val_loss: 0.2221 - val_acc: 0.9176\n",
            "Epoch 20/50\n",
            "48221/48221 [==============================] - 14s 299us/step - loss: 0.2359 - acc: 0.9134 - val_loss: 0.2244 - val_acc: 0.9181\n",
            "Epoch 21/50\n",
            "48221/48221 [==============================] - 14s 299us/step - loss: 0.2289 - acc: 0.9144 - val_loss: 0.2292 - val_acc: 0.9133\n",
            "Epoch 22/50\n",
            "44032/48221 [==========================>...] - ETA: 1s - loss: 0.2232 - acc: 0.9170"
          ],
          "name": "stdout"
        },
        {
          "output_type": "stream",
          "text": [
            "48221/48221 [==============================] - 14s 298us/step - loss: 0.2255 - acc: 0.9158 - val_loss: 0.2183 - val_acc: 0.9174\n",
            "Epoch 23/50\n",
            "48221/48221 [==============================] - 14s 299us/step - loss: 0.2223 - acc: 0.9188 - val_loss: 0.2221 - val_acc: 0.9171\n",
            "Epoch 24/50\n",
            "48221/48221 [==============================] - 14s 300us/step - loss: 0.2163 - acc: 0.9204 - val_loss: 0.2127 - val_acc: 0.9205\n",
            "Epoch 25/50\n",
            "44032/48221 [==========================>...] - ETA: 1s - loss: 0.2133 - acc: 0.9224"
          ],
          "name": "stdout"
        },
        {
          "output_type": "stream",
          "text": [
            "48221/48221 [==============================] - 14s 298us/step - loss: 0.2125 - acc: 0.9226 - val_loss: 0.2164 - val_acc: 0.9210\n",
            "Epoch 26/50\n",
            "48221/48221 [==============================] - 14s 299us/step - loss: 0.2108 - acc: 0.9206 - val_loss: 0.2120 - val_acc: 0.9211\n",
            "Epoch 27/50\n",
            "48221/48221 [==============================] - 14s 298us/step - loss: 0.2073 - acc: 0.9231 - val_loss: 0.2137 - val_acc: 0.9215\n",
            "Epoch 28/50\n",
            "44032/48221 [==========================>...] - ETA: 1s - loss: 0.2106 - acc: 0.9220"
          ],
          "name": "stdout"
        },
        {
          "output_type": "stream",
          "text": [
            "48221/48221 [==============================] - 14s 297us/step - loss: 0.2100 - acc: 0.9220 - val_loss: 0.2183 - val_acc: 0.9195\n",
            "Epoch 29/50\n",
            "48221/48221 [==============================] - 14s 297us/step - loss: 0.2002 - acc: 0.9249 - val_loss: 0.2170 - val_acc: 0.9203\n",
            "Epoch 30/50\n",
            "48221/48221 [==============================] - 14s 297us/step - loss: 0.2016 - acc: 0.9267 - val_loss: 0.2090 - val_acc: 0.9232\n",
            "Epoch 31/50\n",
            "44032/48221 [==========================>...] - ETA: 1s - loss: 0.1982 - acc: 0.9272"
          ],
          "name": "stdout"
        },
        {
          "output_type": "stream",
          "text": [
            "48221/48221 [==============================] - 14s 297us/step - loss: 0.1985 - acc: 0.9271 - val_loss: 0.2074 - val_acc: 0.9242\n",
            "Epoch 32/50\n",
            "48221/48221 [==============================] - 14s 298us/step - loss: 0.1955 - acc: 0.9271 - val_loss: 0.2064 - val_acc: 0.9233\n",
            "Epoch 33/50\n",
            "48221/48221 [==============================] - 14s 298us/step - loss: 0.1910 - acc: 0.9293 - val_loss: 0.2147 - val_acc: 0.9210\n",
            "Epoch 34/50\n",
            "44032/48221 [==========================>...] - ETA: 1s - loss: 0.1952 - acc: 0.9286"
          ],
          "name": "stdout"
        },
        {
          "output_type": "stream",
          "text": [
            "48221/48221 [==============================] - 14s 299us/step - loss: 0.1945 - acc: 0.9286 - val_loss: 0.2075 - val_acc: 0.9233\n",
            "Epoch 35/50\n",
            "48221/48221 [==============================] - 14s 299us/step - loss: 0.1876 - acc: 0.9297 - val_loss: 0.2006 - val_acc: 0.9260\n",
            "Epoch 36/50\n",
            "48221/48221 [==============================] - 14s 298us/step - loss: 0.1840 - acc: 0.9307 - val_loss: 0.2086 - val_acc: 0.9251\n",
            "Epoch 37/50\n",
            "44032/48221 [==========================>...] - ETA: 1s - loss: 0.1843 - acc: 0.9316"
          ],
          "name": "stdout"
        },
        {
          "output_type": "stream",
          "text": [
            "48221/48221 [==============================] - 14s 298us/step - loss: 0.1831 - acc: 0.9320 - val_loss: 0.2002 - val_acc: 0.9276\n",
            "Epoch 38/50\n",
            "48221/48221 [==============================] - 14s 298us/step - loss: 0.1818 - acc: 0.9321 - val_loss: 0.2013 - val_acc: 0.9275\n",
            "Epoch 39/50\n",
            "48221/48221 [==============================] - 14s 299us/step - loss: 0.1767 - acc: 0.9337 - val_loss: 0.2028 - val_acc: 0.9266\n",
            "Epoch 40/50\n",
            "44032/48221 [==========================>...] - ETA: 1s - loss: 0.1745 - acc: 0.9343"
          ],
          "name": "stdout"
        },
        {
          "output_type": "stream",
          "text": [
            "48221/48221 [==============================] - 14s 299us/step - loss: 0.1735 - acc: 0.9347 - val_loss: 0.1975 - val_acc: 0.9280\n",
            "Epoch 41/50\n",
            "48221/48221 [==============================] - 14s 299us/step - loss: 0.1716 - acc: 0.9364 - val_loss: 0.1994 - val_acc: 0.9272\n",
            "Epoch 42/50\n",
            "48221/48221 [==============================] - 14s 298us/step - loss: 0.1707 - acc: 0.9366 - val_loss: 0.2000 - val_acc: 0.9253\n",
            "Epoch 43/50\n",
            "44032/48221 [==========================>...] - ETA: 1s - loss: 0.1689 - acc: 0.9373"
          ],
          "name": "stdout"
        },
        {
          "output_type": "stream",
          "text": [
            "48221/48221 [==============================] - 14s 299us/step - loss: 0.1681 - acc: 0.9374 - val_loss: 0.2001 - val_acc: 0.9263\n",
            "Epoch 44/50\n",
            "48221/48221 [==============================] - 14s 298us/step - loss: 0.1680 - acc: 0.9374 - val_loss: 0.1976 - val_acc: 0.9272\n",
            "Epoch 45/50\n",
            "48221/48221 [==============================] - 14s 299us/step - loss: 0.1649 - acc: 0.9377 - val_loss: 0.2000 - val_acc: 0.9267\n",
            "Epoch 46/50\n",
            "44032/48221 [==========================>...] - ETA: 1s - loss: 0.1652 - acc: 0.9374"
          ],
          "name": "stdout"
        },
        {
          "output_type": "stream",
          "text": [
            "48221/48221 [==============================] - 14s 298us/step - loss: 0.1658 - acc: 0.9375 - val_loss: 0.2109 - val_acc: 0.9227\n",
            "Epoch 00046: early stopping\n",
            "TEST LOSS: 0.22309734103679657 \t TEST ACCURACY: 0.9185999999046326\n",
            "[0.22309734103679657, 0.9185999999046326] \n",
            "\n",
            "[[6.28432738e-02 2.21471968e-01 2.85855366e-01 2.03826100e-01\n",
            "  2.57129460e-01 6.40000000e+01 1.02400000e+03 1.02400000e+03\n",
            "  1.02400000e+03 5.12000000e+02 6.00000000e+00]]\n",
            "Train on 56229 samples, validate on 3771 samples\n",
            "Epoch 1/50\n",
            "56229/56229 [==============================] - 48s 848us/step - loss: 0.7586 - acc: 0.7423 - val_loss: 0.3861 - val_acc: 0.8547\n",
            "Epoch 2/50\n",
            "23040/56229 [===========>..................] - ETA: 18s - loss: 0.3885 - acc: 0.8576"
          ],
          "name": "stdout"
        },
        {
          "output_type": "stream",
          "text": [
            "56229/56229 [==============================] - 33s 581us/step - loss: 0.3730 - acc: 0.8628 - val_loss: 0.3108 - val_acc: 0.8878\n",
            "Epoch 3/50\n",
            "56229/56229 [==============================] - 33s 582us/step - loss: 0.3196 - acc: 0.8804 - val_loss: 0.2855 - val_acc: 0.8939\n",
            "Epoch 4/50\n",
            "56229/56229 [==============================] - 33s 582us/step - loss: 0.2904 - acc: 0.8915 - val_loss: 0.2749 - val_acc: 0.8976\n",
            "Epoch 5/50\n",
            "29696/56229 [==============>...............] - ETA: 15s - loss: 0.2656 - acc: 0.9003"
          ],
          "name": "stdout"
        },
        {
          "output_type": "stream",
          "text": [
            "56229/56229 [==============================] - 33s 581us/step - loss: 0.2665 - acc: 0.9005 - val_loss: 0.2524 - val_acc: 0.9053\n",
            "Epoch 6/50\n",
            "56229/56229 [==============================] - 33s 582us/step - loss: 0.2486 - acc: 0.9072 - val_loss: 0.2483 - val_acc: 0.9072\n",
            "Epoch 7/50\n",
            "56229/56229 [==============================] - 33s 581us/step - loss: 0.2326 - acc: 0.9136 - val_loss: 0.2344 - val_acc: 0.9101\n",
            "Epoch 8/50\n",
            "30720/56229 [===============>..............] - ETA: 14s - loss: 0.2095 - acc: 0.9199"
          ],
          "name": "stdout"
        },
        {
          "output_type": "stream",
          "text": [
            "56229/56229 [==============================] - 33s 581us/step - loss: 0.2126 - acc: 0.9188 - val_loss: 0.2445 - val_acc: 0.9106\n",
            "Epoch 9/50\n",
            "56229/56229 [==============================] - 33s 579us/step - loss: 0.2014 - acc: 0.9257 - val_loss: 0.2255 - val_acc: 0.9128\n",
            "Epoch 10/50\n",
            "56229/56229 [==============================] - 33s 580us/step - loss: 0.1869 - acc: 0.9286 - val_loss: 0.2144 - val_acc: 0.9196\n",
            "Epoch 11/50\n",
            "30720/56229 [===============>..............] - ETA: 14s - loss: 0.1724 - acc: 0.9344"
          ],
          "name": "stdout"
        },
        {
          "output_type": "stream",
          "text": [
            "56229/56229 [==============================] - 33s 581us/step - loss: 0.1739 - acc: 0.9341 - val_loss: 0.2118 - val_acc: 0.9242\n",
            "Epoch 12/50\n",
            "56229/56229 [==============================] - 33s 580us/step - loss: 0.1665 - acc: 0.9360 - val_loss: 0.2128 - val_acc: 0.9220\n",
            "Epoch 13/50\n",
            "56229/56229 [==============================] - 33s 581us/step - loss: 0.1575 - acc: 0.9398 - val_loss: 0.2081 - val_acc: 0.9260\n",
            "Epoch 14/50\n",
            "30208/56229 [===============>..............] - ETA: 14s - loss: 0.1435 - acc: 0.9434"
          ],
          "name": "stdout"
        },
        {
          "output_type": "stream",
          "text": [
            "56229/56229 [==============================] - 33s 581us/step - loss: 0.1487 - acc: 0.9418 - val_loss: 0.2125 - val_acc: 0.9210\n",
            "Epoch 15/50\n",
            "56229/56229 [==============================] - 33s 580us/step - loss: 0.1406 - acc: 0.9469 - val_loss: 0.2181 - val_acc: 0.9244\n",
            "Epoch 16/50\n",
            "56229/56229 [==============================] - 33s 580us/step - loss: 0.1296 - acc: 0.9497 - val_loss: 0.2159 - val_acc: 0.9231\n",
            "Epoch 17/50\n",
            "30208/56229 [===============>..............] - ETA: 14s - loss: 0.1163 - acc: 0.9546"
          ],
          "name": "stdout"
        },
        {
          "output_type": "stream",
          "text": [
            "56229/56229 [==============================] - 33s 579us/step - loss: 0.1223 - acc: 0.9533 - val_loss: 0.2172 - val_acc: 0.9239\n",
            "Epoch 18/50\n",
            "56229/56229 [==============================] - 32s 577us/step - loss: 0.1154 - acc: 0.9555 - val_loss: 0.2258 - val_acc: 0.9252\n",
            "Epoch 19/50\n",
            "56229/56229 [==============================] - 33s 578us/step - loss: 0.1094 - acc: 0.9575 - val_loss: 0.2274 - val_acc: 0.9207\n",
            "Epoch 00019: early stopping\n",
            "TEST LOSS: 0.25498620905876157 \t TEST ACCURACY: 0.9217000001907348\n",
            "[0.25498620905876157, 0.9217000001907348] \n",
            "\n",
            "[[9.51513017e-02 1.91787999e-02 3.59683805e-01 3.83312339e-01\n",
            "  3.12806523e-01 1.28000000e+02 5.12000000e+02 6.40000000e+01\n",
            "  1.28000000e+02 1.28000000e+02 5.00000000e+00]]\n",
            "Train on 54290 samples, validate on 5710 samples\n",
            "Epoch 1/50\n",
            " 7936/54290 [===>..........................] - ETA: 33s - loss: 1.3300 - acc: 0.5168"
          ],
          "name": "stdout"
        },
        {
          "output_type": "stream",
          "text": [
            "54290/54290 [==============================] - 22s 410us/step - loss: 0.6869 - acc: 0.7478 - val_loss: 0.3694 - val_acc: 0.8620\n",
            "Epoch 2/50\n",
            "54290/54290 [==============================] - 19s 344us/step - loss: 0.4192 - acc: 0.8500 - val_loss: 0.3158 - val_acc: 0.8790\n",
            "Epoch 3/50\n",
            "25600/54290 [=============>................] - ETA: 9s - loss: 0.3687 - acc: 0.8666"
          ],
          "name": "stdout"
        },
        {
          "output_type": "stream",
          "text": [
            "54290/54290 [==============================] - 19s 344us/step - loss: 0.3606 - acc: 0.8706 - val_loss: 0.2823 - val_acc: 0.8981\n",
            "Epoch 4/50\n",
            "54290/54290 [==============================] - 19s 344us/step - loss: 0.3244 - acc: 0.8810 - val_loss: 0.2650 - val_acc: 0.9007\n",
            "Epoch 5/50\n",
            "29568/54290 [===============>..............] - ETA: 8s - loss: 0.3114 - acc: 0.8869"
          ],
          "name": "stdout"
        },
        {
          "output_type": "stream",
          "text": [
            "54290/54290 [==============================] - 19s 343us/step - loss: 0.3068 - acc: 0.8874 - val_loss: 0.2528 - val_acc: 0.9067\n",
            "Epoch 6/50\n",
            "54290/54290 [==============================] - 19s 343us/step - loss: 0.2888 - acc: 0.8945 - val_loss: 0.2416 - val_acc: 0.9110\n",
            "Epoch 7/50\n",
            "31104/54290 [================>.............] - ETA: 7s - loss: 0.2767 - acc: 0.8998"
          ],
          "name": "stdout"
        },
        {
          "output_type": "stream",
          "text": [
            "54290/54290 [==============================] - 19s 349us/step - loss: 0.2766 - acc: 0.9001 - val_loss: 0.2421 - val_acc: 0.9086\n",
            "Epoch 8/50\n",
            "54290/54290 [==============================] - 19s 346us/step - loss: 0.2665 - acc: 0.9023 - val_loss: 0.2284 - val_acc: 0.9137\n",
            "Epoch 9/50\n",
            "30720/54290 [===============>..............] - ETA: 7s - loss: 0.2517 - acc: 0.9055"
          ],
          "name": "stdout"
        },
        {
          "output_type": "stream",
          "text": [
            "54290/54290 [==============================] - 19s 345us/step - loss: 0.2567 - acc: 0.9052 - val_loss: 0.2506 - val_acc: 0.9042\n",
            "Epoch 10/50\n",
            "54290/54290 [==============================] - 19s 345us/step - loss: 0.2446 - acc: 0.9118 - val_loss: 0.2322 - val_acc: 0.9161\n",
            "Epoch 11/50\n",
            "30336/54290 [===============>..............] - ETA: 8s - loss: 0.2401 - acc: 0.9106"
          ],
          "name": "stdout"
        },
        {
          "output_type": "stream",
          "text": [
            "54290/54290 [==============================] - 19s 345us/step - loss: 0.2404 - acc: 0.9109 - val_loss: 0.2215 - val_acc: 0.9163\n",
            "Epoch 12/50\n",
            "54290/54290 [==============================] - 19s 346us/step - loss: 0.2315 - acc: 0.9145 - val_loss: 0.2183 - val_acc: 0.9193\n",
            "Epoch 13/50\n",
            "30336/54290 [===============>..............] - ETA: 7s - loss: 0.2226 - acc: 0.9165"
          ],
          "name": "stdout"
        },
        {
          "output_type": "stream",
          "text": [
            "54290/54290 [==============================] - 19s 341us/step - loss: 0.2264 - acc: 0.9162 - val_loss: 0.2195 - val_acc: 0.9184\n",
            "Epoch 14/50\n",
            "54290/54290 [==============================] - 19s 342us/step - loss: 0.2208 - acc: 0.9189 - val_loss: 0.2149 - val_acc: 0.9219\n",
            "Epoch 15/50\n",
            "30336/54290 [===============>..............] - ETA: 7s - loss: 0.2126 - acc: 0.9194"
          ],
          "name": "stdout"
        },
        {
          "output_type": "stream",
          "text": [
            "54290/54290 [==============================] - 19s 342us/step - loss: 0.2143 - acc: 0.9198 - val_loss: 0.2218 - val_acc: 0.9187\n",
            "Epoch 16/50\n",
            "54290/54290 [==============================] - 19s 342us/step - loss: 0.2119 - acc: 0.9211 - val_loss: 0.2086 - val_acc: 0.9257\n",
            "Epoch 17/50\n",
            "30464/54290 [===============>..............] - ETA: 7s - loss: 0.2018 - acc: 0.9250"
          ],
          "name": "stdout"
        },
        {
          "output_type": "stream",
          "text": [
            "54290/54290 [==============================] - 19s 342us/step - loss: 0.2010 - acc: 0.9250 - val_loss: 0.2118 - val_acc: 0.9224\n",
            "Epoch 18/50\n",
            "54290/54290 [==============================] - 19s 341us/step - loss: 0.1984 - acc: 0.9270 - val_loss: 0.2112 - val_acc: 0.9208\n",
            "Epoch 19/50\n",
            "30592/54290 [===============>..............] - ETA: 7s - loss: 0.1941 - acc: 0.9285"
          ],
          "name": "stdout"
        },
        {
          "output_type": "stream",
          "text": [
            "54290/54290 [==============================] - 19s 342us/step - loss: 0.1935 - acc: 0.9289 - val_loss: 0.2041 - val_acc: 0.9254\n",
            "Epoch 20/50\n",
            "54290/54290 [==============================] - 18s 341us/step - loss: 0.1863 - acc: 0.9316 - val_loss: 0.2002 - val_acc: 0.9261\n",
            "Epoch 21/50\n",
            "30592/54290 [===============>..............] - ETA: 7s - loss: 0.1857 - acc: 0.9314"
          ],
          "name": "stdout"
        },
        {
          "output_type": "stream",
          "text": [
            "54290/54290 [==============================] - 19s 341us/step - loss: 0.1873 - acc: 0.9309 - val_loss: 0.1992 - val_acc: 0.9280\n",
            "Epoch 22/50\n",
            "54290/54290 [==============================] - 19s 342us/step - loss: 0.1803 - acc: 0.9328 - val_loss: 0.2085 - val_acc: 0.9270\n",
            "Epoch 23/50\n",
            "30848/54290 [================>.............] - ETA: 7s - loss: 0.1792 - acc: 0.9328"
          ],
          "name": "stdout"
        },
        {
          "output_type": "stream",
          "text": [
            "54290/54290 [==============================] - 19s 342us/step - loss: 0.1795 - acc: 0.9323 - val_loss: 0.1989 - val_acc: 0.9282\n",
            "Epoch 24/50\n",
            "54290/54290 [==============================] - 19s 342us/step - loss: 0.1730 - acc: 0.9360 - val_loss: 0.2073 - val_acc: 0.9270\n",
            "Epoch 25/50\n",
            "30464/54290 [===============>..............] - ETA: 7s - loss: 0.1692 - acc: 0.9368"
          ],
          "name": "stdout"
        },
        {
          "output_type": "stream",
          "text": [
            "54290/54290 [==============================] - 19s 342us/step - loss: 0.1715 - acc: 0.9359 - val_loss: 0.1951 - val_acc: 0.9308\n",
            "Epoch 26/50\n",
            "54290/54290 [==============================] - 19s 342us/step - loss: 0.1668 - acc: 0.9375 - val_loss: 0.1925 - val_acc: 0.9303\n",
            "Epoch 27/50\n",
            "31104/54290 [================>.............] - ETA: 7s - loss: 0.1582 - acc: 0.9412"
          ],
          "name": "stdout"
        },
        {
          "output_type": "stream",
          "text": [
            "54290/54290 [==============================] - 19s 341us/step - loss: 0.1623 - acc: 0.9396 - val_loss: 0.1949 - val_acc: 0.9306\n",
            "Epoch 28/50\n",
            "54290/54290 [==============================] - 19s 342us/step - loss: 0.1622 - acc: 0.9379 - val_loss: 0.1959 - val_acc: 0.9289\n",
            "Epoch 29/50\n",
            "30592/54290 [===============>..............] - ETA: 7s - loss: 0.1548 - acc: 0.9421"
          ],
          "name": "stdout"
        },
        {
          "output_type": "stream",
          "text": [
            "54290/54290 [==============================] - 19s 342us/step - loss: 0.1574 - acc: 0.9419 - val_loss: 0.1990 - val_acc: 0.9298\n",
            "Epoch 30/50\n",
            "54290/54290 [==============================] - 19s 342us/step - loss: 0.1541 - acc: 0.9426 - val_loss: 0.2005 - val_acc: 0.9284\n",
            "Epoch 31/50\n",
            "30848/54290 [================>.............] - ETA: 7s - loss: 0.1484 - acc: 0.9437"
          ],
          "name": "stdout"
        },
        {
          "output_type": "stream",
          "text": [
            "54290/54290 [==============================] - 19s 342us/step - loss: 0.1510 - acc: 0.9435 - val_loss: 0.2012 - val_acc: 0.9289\n",
            "Epoch 00031: early stopping\n",
            "TEST LOSS: 0.22781474921703337 \t TEST ACCURACY: 0.9228\n",
            "[0.22781474921703337, 0.9228] \n",
            "\n"
          ],
          "name": "stdout"
        }
      ]
    },
    {
      "metadata": {
        "id": "pjAkQ2HY12W4",
        "colab_type": "code",
        "colab": {
          "autoexec": {
            "startup": false,
            "wait_interval": 0
          },
          "base_uri": "https://localhost:8080/",
          "height": 289
        },
        "outputId": "0a5cfbf0-9dba-4af1-b016-703385b643be",
        "executionInfo": {
          "status": "ok",
          "timestamp": 1528418235309,
          "user_tz": -60,
          "elapsed": 1639,
          "user": {
            "displayName": "Niall Turbitt",
            "photoUrl": "//lh4.googleusercontent.com/-8T4clQIdx1Y/AAAAAAAAAAI/AAAAAAAAAKI/oERGPawEbK8/s50-c-k-no/photo.jpg",
            "userId": "113020036098296333682"
          }
        }
      },
      "cell_type": "code",
      "source": [
        "# Show optimized fashion mnist model\n",
        "\n",
        "print(\"\"\"\n",
        "Optimized Parameters:\\n \n",
        "\\t{0}: {1}\n",
        "\\t{2}: {3}\n",
        "\\t{4}: {5}\n",
        "\\t{6}: {7}\n",
        "\\t{8}: {9}\n",
        "\\t{10}: {11}\n",
        "\\t{12}: {13}\n",
        "\\t{14}: {15}\n",
        "\\t{16}: {17}\n",
        "\\t{18}: {19}\n",
        "\\t{20}: {21}\n",
        "\"\"\".format(bounds[0][\"name\"], optimize_fashion_mnist.x_opt[0],\n",
        "           bounds[1][\"name\"], optimize_fashion_mnist.x_opt[1],\n",
        "           bounds[2][\"name\"], optimize_fashion_mnist.x_opt[2],\n",
        "           bounds[3][\"name\"], optimize_fashion_mnist.x_opt[3],\n",
        "           bounds[4][\"name\"], optimize_fashion_mnist.x_opt[4],\n",
        "           bounds[5][\"name\"], optimize_fashion_mnist.x_opt[5],\n",
        "           bounds[6][\"name\"], optimize_fashion_mnist.x_opt[6],\n",
        "           bounds[7][\"name\"], optimize_fashion_mnist.x_opt[7],\n",
        "           bounds[8][\"name\"], optimize_fashion_mnist.x_opt[8],\n",
        "           bounds[9][\"name\"], optimize_fashion_mnist.x_opt[9],\n",
        "           bounds[10][\"name\"], optimize_fashion_mnist.x_opt[10]))\n",
        "\n",
        "print(\"optimized loss: {0}\".format(optimize_fashion_mnist.fx_opt))"
      ],
      "execution_count": 23,
      "outputs": [
        {
          "output_type": "stream",
          "text": [
            "\n",
            "Optimized Parameters:\n",
            " \n",
            "\tvalidation_split: 0.21553656051754375\n",
            "\tl1_drop: 0.4523887187795013\n",
            "\tl2_drop: 0.23383129695134153\n",
            "\tl3_drop: 0.3885457937538465\n",
            "\tl4_drop: 0.403493755850923\n",
            "\tl1_out: 256.0\n",
            "\tl2_out: 128.0\n",
            "\tl3_out: 64.0\n",
            "\tl4_out: 1024.0\n",
            "\tbatch_size: 512.0\n",
            "\tpatience: 7.0\n",
            "\n",
            "optimized loss: 0.22299241416454316\n"
          ],
          "name": "stdout"
        }
      ]
    },
    {
      "metadata": {
        "id": "A5i_Oe9TOHWW",
        "colab_type": "code",
        "colab": {
          "autoexec": {
            "startup": false,
            "wait_interval": 0
          },
          "base_uri": "https://localhost:8080/",
          "height": 1754
        },
        "outputId": "cae6e6f0-7a1a-4af8-8f7e-e7dc5daebc64",
        "executionInfo": {
          "status": "ok",
          "timestamp": 1528418865326,
          "user_tz": -60,
          "elapsed": 628940,
          "user": {
            "displayName": "Niall Turbitt",
            "photoUrl": "//lh4.googleusercontent.com/-8T4clQIdx1Y/AAAAAAAAAAI/AAAAAAAAAKI/oERGPawEbK8/s50-c-k-no/photo.jpg",
            "userId": "113020036098296333682"
          }
        }
      },
      "cell_type": "code",
      "source": [
        "fashion_mnist_opt = FASHION_MNIST(img_rows=28, \n",
        "                              img_cols=28,\n",
        "                              num_classes=10,\n",
        "                              l1_out = int(optimize_fashion_mnist.x_opt[5]),\n",
        "                              l2_out = int(optimize_fashion_mnist.x_opt[6]),\n",
        "                              l3_out = int(optimize_fashion_mnist.x_opt[7]),\n",
        "                              l4_out = int(optimize_fashion_mnist.x_opt[8]),\n",
        "                              l1_drop = float(optimize_fashion_mnist.x_opt[1]),\n",
        "                              l2_drop = float(optimize_fashion_mnist.x_opt[2]),\n",
        "                              l3_drop = float(optimize_fashion_mnist.x_opt[3]),\n",
        "                              l4_drop = float(optimize_fashion_mnist.x_opt[4]),\n",
        "                              batch_size = int(optimize_fashion_mnist.x_opt[9]),\n",
        "                              patience = int(optimize_fashion_mnist.x_opt[10]),\n",
        "                              epochs=50,\n",
        "                              validation_split = float(optimize_fashion_mnist.x_opt[0]))\n",
        "\n",
        "\n",
        "evaluation, history = fashion_mnist_opt.evaluate()"
      ],
      "execution_count": 24,
      "outputs": [
        {
          "output_type": "stream",
          "text": [
            "Train on 47067 samples, validate on 12933 samples\n",
            "Epoch 1/50\n",
            "47067/47067 [==============================] - 16s 340us/step - loss: 0.9718 - acc: 0.6369 - val_loss: 0.5207 - val_acc: 0.8050\n",
            "Epoch 2/50\n",
            "47067/47067 [==============================] - 12s 265us/step - loss: 0.5524 - acc: 0.7924 - val_loss: 0.4293 - val_acc: 0.8482\n",
            "Epoch 3/50\n",
            "47067/47067 [==============================] - 12s 265us/step - loss: 0.4660 - acc: 0.8289 - val_loss: 0.3858 - val_acc: 0.8624\n",
            "Epoch 4/50\n",
            "19456/47067 [===========>..................] - ETA: 6s - loss: 0.4154 - acc: 0.8491"
          ],
          "name": "stdout"
        },
        {
          "output_type": "stream",
          "text": [
            "47067/47067 [==============================] - 12s 265us/step - loss: 0.4203 - acc: 0.8466 - val_loss: 0.3516 - val_acc: 0.8716\n",
            "Epoch 5/50\n",
            "47067/47067 [==============================] - 12s 265us/step - loss: 0.3803 - acc: 0.8609 - val_loss: 0.3215 - val_acc: 0.8794\n",
            "Epoch 6/50\n",
            "47067/47067 [==============================] - 12s 266us/step - loss: 0.3620 - acc: 0.8683 - val_loss: 0.3104 - val_acc: 0.8839\n",
            "Epoch 7/50\n",
            "42496/47067 [==========================>...] - ETA: 1s - loss: 0.3355 - acc: 0.8757"
          ],
          "name": "stdout"
        },
        {
          "output_type": "stream",
          "text": [
            "47067/47067 [==============================] - 12s 265us/step - loss: 0.3362 - acc: 0.8754 - val_loss: 0.2884 - val_acc: 0.8935\n",
            "Epoch 8/50\n",
            "47067/47067 [==============================] - 12s 266us/step - loss: 0.3215 - acc: 0.8828 - val_loss: 0.2815 - val_acc: 0.8979\n",
            "Epoch 9/50\n",
            "47067/47067 [==============================] - 12s 265us/step - loss: 0.3037 - acc: 0.8884 - val_loss: 0.2698 - val_acc: 0.9013\n",
            "Epoch 10/50\n",
            "46080/47067 [============================>.] - ETA: 0s - loss: 0.2938 - acc: 0.8914"
          ],
          "name": "stdout"
        },
        {
          "output_type": "stream",
          "text": [
            "47067/47067 [==============================] - 12s 265us/step - loss: 0.2938 - acc: 0.8915 - val_loss: 0.2654 - val_acc: 0.9014\n",
            "Epoch 11/50\n",
            "47067/47067 [==============================] - 12s 265us/step - loss: 0.2844 - acc: 0.8951 - val_loss: 0.2655 - val_acc: 0.9019\n",
            "Epoch 12/50\n",
            "47067/47067 [==============================] - 12s 265us/step - loss: 0.2753 - acc: 0.8978 - val_loss: 0.2634 - val_acc: 0.9029\n",
            "Epoch 13/50\n",
            "46080/47067 [============================>.] - ETA: 0s - loss: 0.2663 - acc: 0.9022"
          ],
          "name": "stdout"
        },
        {
          "output_type": "stream",
          "text": [
            "47067/47067 [==============================] - 12s 265us/step - loss: 0.2664 - acc: 0.9023 - val_loss: 0.2421 - val_acc: 0.9094\n",
            "Epoch 14/50\n",
            "47067/47067 [==============================] - 12s 265us/step - loss: 0.2608 - acc: 0.9046 - val_loss: 0.2417 - val_acc: 0.9094\n",
            "Epoch 15/50\n",
            "47067/47067 [==============================] - 12s 265us/step - loss: 0.2532 - acc: 0.9056 - val_loss: 0.2547 - val_acc: 0.9048\n",
            "Epoch 16/50\n",
            "46080/47067 [============================>.] - ETA: 0s - loss: 0.2535 - acc: 0.9053"
          ],
          "name": "stdout"
        },
        {
          "output_type": "stream",
          "text": [
            "47067/47067 [==============================] - 12s 264us/step - loss: 0.2529 - acc: 0.9056 - val_loss: 0.2367 - val_acc: 0.9129\n",
            "Epoch 17/50\n",
            "47067/47067 [==============================] - 12s 265us/step - loss: 0.2400 - acc: 0.9099 - val_loss: 0.2317 - val_acc: 0.9129\n",
            "Epoch 18/50\n",
            "47067/47067 [==============================] - 12s 265us/step - loss: 0.2355 - acc: 0.9119 - val_loss: 0.2320 - val_acc: 0.9136\n",
            "Epoch 19/50\n",
            "46080/47067 [============================>.] - ETA: 0s - loss: 0.2358 - acc: 0.9123"
          ],
          "name": "stdout"
        },
        {
          "output_type": "stream",
          "text": [
            "47067/47067 [==============================] - 12s 264us/step - loss: 0.2357 - acc: 0.9124 - val_loss: 0.2384 - val_acc: 0.9103\n",
            "Epoch 20/50\n",
            "47067/47067 [==============================] - 12s 264us/step - loss: 0.2261 - acc: 0.9159 - val_loss: 0.2311 - val_acc: 0.9146\n",
            "Epoch 21/50\n",
            "47067/47067 [==============================] - 12s 265us/step - loss: 0.2249 - acc: 0.9159 - val_loss: 0.2230 - val_acc: 0.9183\n",
            "Epoch 22/50\n",
            "46080/47067 [============================>.] - ETA: 0s - loss: 0.2209 - acc: 0.9173"
          ],
          "name": "stdout"
        },
        {
          "output_type": "stream",
          "text": [
            "47067/47067 [==============================] - 12s 265us/step - loss: 0.2213 - acc: 0.9170 - val_loss: 0.2342 - val_acc: 0.9106\n",
            "Epoch 23/50\n",
            "47067/47067 [==============================] - 12s 265us/step - loss: 0.2193 - acc: 0.9167 - val_loss: 0.2180 - val_acc: 0.9179\n",
            "Epoch 24/50\n",
            "47067/47067 [==============================] - 12s 265us/step - loss: 0.2148 - acc: 0.9186 - val_loss: 0.2164 - val_acc: 0.9183\n",
            "Epoch 25/50\n",
            "46080/47067 [============================>.] - ETA: 0s - loss: 0.2133 - acc: 0.9193"
          ],
          "name": "stdout"
        },
        {
          "output_type": "stream",
          "text": [
            "47067/47067 [==============================] - 12s 265us/step - loss: 0.2132 - acc: 0.9193 - val_loss: 0.2162 - val_acc: 0.9179\n",
            "Epoch 26/50\n",
            "47067/47067 [==============================] - 12s 264us/step - loss: 0.2074 - acc: 0.9206 - val_loss: 0.2179 - val_acc: 0.9204\n",
            "Epoch 27/50\n",
            "47067/47067 [==============================] - 12s 264us/step - loss: 0.2031 - acc: 0.9241 - val_loss: 0.2188 - val_acc: 0.9191\n",
            "Epoch 28/50\n",
            "46080/47067 [============================>.] - ETA: 0s - loss: 0.2011 - acc: 0.9228"
          ],
          "name": "stdout"
        },
        {
          "output_type": "stream",
          "text": [
            "47067/47067 [==============================] - 12s 264us/step - loss: 0.2006 - acc: 0.9230 - val_loss: 0.2154 - val_acc: 0.9211\n",
            "Epoch 29/50\n",
            "47067/47067 [==============================] - 12s 264us/step - loss: 0.1967 - acc: 0.9252 - val_loss: 0.2147 - val_acc: 0.9200\n",
            "Epoch 30/50\n",
            "47067/47067 [==============================] - 12s 265us/step - loss: 0.1972 - acc: 0.9247 - val_loss: 0.2138 - val_acc: 0.9217\n",
            "Epoch 31/50\n",
            "46080/47067 [============================>.] - ETA: 0s - loss: 0.1942 - acc: 0.9266"
          ],
          "name": "stdout"
        },
        {
          "output_type": "stream",
          "text": [
            "47067/47067 [==============================] - 12s 264us/step - loss: 0.1946 - acc: 0.9265 - val_loss: 0.2183 - val_acc: 0.9203\n",
            "Epoch 32/50\n",
            "47067/47067 [==============================] - 12s 265us/step - loss: 0.1898 - acc: 0.9270 - val_loss: 0.2113 - val_acc: 0.9230\n",
            "Epoch 33/50\n",
            "47067/47067 [==============================] - 12s 264us/step - loss: 0.1879 - acc: 0.9294 - val_loss: 0.2143 - val_acc: 0.9214\n",
            "Epoch 34/50\n",
            "46080/47067 [============================>.] - ETA: 0s - loss: 0.1864 - acc: 0.9293"
          ],
          "name": "stdout"
        },
        {
          "output_type": "stream",
          "text": [
            "47067/47067 [==============================] - 12s 264us/step - loss: 0.1864 - acc: 0.9291 - val_loss: 0.2113 - val_acc: 0.9223\n",
            "Epoch 35/50\n",
            "47067/47067 [==============================] - 12s 264us/step - loss: 0.1861 - acc: 0.9303 - val_loss: 0.2146 - val_acc: 0.9226\n",
            "Epoch 36/50\n",
            "47067/47067 [==============================] - 12s 264us/step - loss: 0.1828 - acc: 0.9308 - val_loss: 0.2216 - val_acc: 0.9195\n",
            "Epoch 37/50\n",
            "46080/47067 [============================>.] - ETA: 0s - loss: 0.1831 - acc: 0.9311"
          ],
          "name": "stdout"
        },
        {
          "output_type": "stream",
          "text": [
            "47067/47067 [==============================] - 12s 264us/step - loss: 0.1830 - acc: 0.9310 - val_loss: 0.2180 - val_acc: 0.9205\n",
            "Epoch 38/50\n",
            "47067/47067 [==============================] - 12s 265us/step - loss: 0.1777 - acc: 0.9319 - val_loss: 0.2104 - val_acc: 0.9240\n",
            "Epoch 39/50\n",
            "47067/47067 [==============================] - 12s 264us/step - loss: 0.1759 - acc: 0.9348 - val_loss: 0.2068 - val_acc: 0.9242\n",
            "Epoch 40/50\n",
            "46080/47067 [============================>.] - ETA: 0s - loss: 0.1766 - acc: 0.9341"
          ],
          "name": "stdout"
        },
        {
          "output_type": "stream",
          "text": [
            "47067/47067 [==============================] - 12s 264us/step - loss: 0.1764 - acc: 0.9341 - val_loss: 0.2079 - val_acc: 0.9235\n",
            "Epoch 41/50\n",
            "47067/47067 [==============================] - 12s 264us/step - loss: 0.1750 - acc: 0.9329 - val_loss: 0.2106 - val_acc: 0.9253\n",
            "Epoch 42/50\n",
            "47067/47067 [==============================] - 12s 265us/step - loss: 0.1688 - acc: 0.9360 - val_loss: 0.2107 - val_acc: 0.9235\n",
            "Epoch 43/50\n",
            "46080/47067 [============================>.] - ETA: 0s - loss: 0.1698 - acc: 0.9353"
          ],
          "name": "stdout"
        },
        {
          "output_type": "stream",
          "text": [
            "47067/47067 [==============================] - 12s 264us/step - loss: 0.1708 - acc: 0.9350 - val_loss: 0.2046 - val_acc: 0.9254\n",
            "Epoch 44/50\n",
            "47067/47067 [==============================] - 12s 264us/step - loss: 0.1693 - acc: 0.9353 - val_loss: 0.2070 - val_acc: 0.9243\n",
            "Epoch 45/50\n",
            "47067/47067 [==============================] - 12s 264us/step - loss: 0.1685 - acc: 0.9353 - val_loss: 0.2138 - val_acc: 0.9218\n",
            "Epoch 46/50\n",
            "46080/47067 [============================>.] - ETA: 0s - loss: 0.1639 - acc: 0.9373"
          ],
          "name": "stdout"
        },
        {
          "output_type": "stream",
          "text": [
            "47067/47067 [==============================] - 12s 264us/step - loss: 0.1634 - acc: 0.9374 - val_loss: 0.2104 - val_acc: 0.9248\n",
            "Epoch 47/50\n",
            "47067/47067 [==============================] - 12s 264us/step - loss: 0.1624 - acc: 0.9382 - val_loss: 0.2115 - val_acc: 0.9225\n",
            "Epoch 48/50\n",
            "47067/47067 [==============================] - 12s 264us/step - loss: 0.1617 - acc: 0.9383 - val_loss: 0.2122 - val_acc: 0.9222\n",
            "Epoch 49/50\n",
            "46080/47067 [============================>.] - ETA: 0s - loss: 0.1592 - acc: 0.9398"
          ],
          "name": "stdout"
        },
        {
          "output_type": "stream",
          "text": [
            "47067/47067 [==============================] - 12s 264us/step - loss: 0.1593 - acc: 0.9399 - val_loss: 0.2041 - val_acc: 0.9269\n",
            "Epoch 50/50\n",
            "47067/47067 [==============================] - 12s 264us/step - loss: 0.1594 - acc: 0.9395 - val_loss: 0.2058 - val_acc: 0.9235\n"
          ],
          "name": "stdout"
        }
      ]
    },
    {
      "metadata": {
        "id": "Wd7wJqKakL87",
        "colab_type": "code",
        "colab": {
          "autoexec": {
            "startup": false,
            "wait_interval": 0
          },
          "base_uri": "https://localhost:8080/",
          "height": 51
        },
        "outputId": "407354c7-c6e0-476c-b7d8-376c562dde01",
        "executionInfo": {
          "status": "ok",
          "timestamp": 1528418867316,
          "user_tz": -60,
          "elapsed": 1965,
          "user": {
            "displayName": "Niall Turbitt",
            "photoUrl": "//lh4.googleusercontent.com/-8T4clQIdx1Y/AAAAAAAAAAI/AAAAAAAAAKI/oERGPawEbK8/s50-c-k-no/photo.jpg",
            "userId": "113020036098296333682"
          }
        }
      },
      "cell_type": "code",
      "source": [
        "print('TEST LOSS:', evaluation[0])\n",
        "print('TEST ACCURACY:', evaluation[1])"
      ],
      "execution_count": 25,
      "outputs": [
        {
          "output_type": "stream",
          "text": [
            "TEST LOSS: 0.22319006509780884\n",
            "TEST ACCURACY: 0.9218000001907348\n"
          ],
          "name": "stdout"
        }
      ]
    },
    {
      "metadata": {
        "id": "_i8kMqMZirw-",
        "colab_type": "text"
      },
      "cell_type": "markdown",
      "source": [
        "## Plot accuracy and loss plots"
      ]
    },
    {
      "metadata": {
        "id": "95vesOcGA_Ya",
        "colab_type": "code",
        "colab": {
          "autoexec": {
            "startup": false,
            "wait_interval": 0
          },
          "base_uri": "https://localhost:8080/",
          "height": 979
        },
        "outputId": "eb290e27-1351-4369-8e56-237b76850dbd",
        "executionInfo": {
          "status": "ok",
          "timestamp": 1528418869968,
          "user_tz": -60,
          "elapsed": 1679,
          "user": {
            "displayName": "Niall Turbitt",
            "photoUrl": "//lh4.googleusercontent.com/-8T4clQIdx1Y/AAAAAAAAAAI/AAAAAAAAAKI/oERGPawEbK8/s50-c-k-no/photo.jpg",
            "userId": "113020036098296333682"
          }
        }
      },
      "cell_type": "code",
      "source": [
        "import matplotlib.pyplot as plt\n",
        "%matplotlib inline\n",
        "\n",
        "accuracy = history.history['acc']\n",
        "val_accuracy = history.history['val_acc']\n",
        "loss = history.history['loss']\n",
        "val_loss = history.history['val_loss']\n",
        "epochs = range(len(accuracy))\n",
        "\n",
        "plt.figure(figsize=(12, 8))\n",
        "plt.plot(epochs, accuracy, 'bo', label='Training accuracy')\n",
        "plt.plot(epochs, val_accuracy, 'b', label='Validation accuracy')\n",
        "plt.title('Training and validation accuracy')\n",
        "plt.legend()\n",
        "\n",
        "plt.figure(figsize=(12, 8))\n",
        "plt.plot(epochs, loss, 'bo', label='Training loss')\n",
        "plt.plot(epochs, val_loss, 'b', label='Validation loss')\n",
        "plt.title('Training and validation loss')\n",
        "plt.legend()\n",
        "\n",
        "plt.show()"
      ],
      "execution_count": 26,
      "outputs": [
        {
          "output_type": "display_data",
          "data": {
            "image/png": "[encoded data removed]",
            "text/plain": [
              "<matplotlib.figure.Figure at 0x7f956f5f6048>"
            ]
          },
          "metadata": {
            "tags": []
          }
        },
        {
          "output_type": "display_data",
          "data": {
            "image/png": "[encoded data removed]",
            "text/plain": [
              "<matplotlib.figure.Figure at 0x7f94d8ab8438>"
            ]
          },
          "metadata": {
            "tags": []
          }
        }
      ]
    }
  ]
}
